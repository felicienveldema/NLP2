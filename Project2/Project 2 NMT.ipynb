{
 "cells": [
  {
   "cell_type": "markdown",
   "metadata": {},
   "source": [
    "# Project 2 Neural Machine Translation"
   ]
  },
  {
   "cell_type": "code",
   "execution_count": null,
   "metadata": {
    "collapsed": true
   },
   "outputs": [],
   "source": [
    "# Python libraries to install\n",
    "from __future__ import print_function, division\n",
    "from collections import defaultdict, Counter\n",
    "from tqdm import tqdm\n",
    "from random import random\n",
    "from nltk.tokenize import word_tokenize\n",
    "\n",
    "import nltk\n",
    "import numpy as np\n",
    "import pickle\n",
    "import math\n",
    "import os"
   ]
  },
  {
   "cell_type": "markdown",
   "metadata": {},
   "source": [
    "## Preprocessing"
   ]
  },
  {
   "cell_type": "code",
   "execution_count": null,
   "metadata": {
    "collapsed": true
   },
   "outputs": [],
   "source": [
    "english_test = 'test/test_2017_flickr.en'\n",
    "french_test = 'test/test_2017_flickr.fr'\n",
    "\n",
    "english_training = 'training/train.en'\n",
    "french_training = 'training/train.fr'\n",
    "\n",
    "english_validation = 'val/val.en'\n",
    "french_validation = 'val/val.fr'"
   ]
  },
  {
   "cell_type": "code",
   "execution_count": null,
   "metadata": {
    "collapsed": false
   },
   "outputs": [],
   "source": [
    "def read_data(english_file, french_file, lowercasing=False):\n",
    "    english_sentences = []\n",
    "    french_sentences = []\n",
    "    with open(english_file, 'r', encoding='utf8') as engf, open(french_file, 'r', encoding='utf8') as fref:\n",
    "        for line in engf:\n",
    "            e_sentence = word_tokenize(line)\n",
    "            if lowercasing:\n",
    "                e_sentence = [x.lower() for x in e_sentence]\n",
    "            #TODO BPE?\n",
    "            english_sentences.append(e_sentence)\n",
    "        for line in fref:\n",
    "            f_sentence = word_tokenize(line)\n",
    "            if lowercasing:\n",
    "                f_sentence = [x.lower() for x in f_sentence]\n",
    "            #TODO BPE?\n",
    "            french_sentences.append(f_sentence)\n",
    "    assert len(english_sentences) == len(french_sentences), 'data mismatch'\n",
    "    return list(zip(english_sentences, french_sentences))\n",
    "        \n",
    "            \n",
    "    \n",
    "#test area\n",
    "training_data = read_data(english_training, french_training, lowercasing=True)\n",
    "validation_data = read_data(english_validation, french_validation, lowercasing=True)"
   ]
  },
  {
   "cell_type": "code",
   "execution_count": null,
   "metadata": {
    "collapsed": false
   },
   "outputs": [],
   "source": []
  },
  {
   "cell_type": "code",
   "execution_count": null,
   "metadata": {
    "collapsed": true
   },
   "outputs": [],
   "source": []
  }
 ],
 "metadata": {
  "kernelspec": {
   "display_name": "Python 3",
   "language": "python",
   "name": "python3"
  },
  "language_info": {
   "codemirror_mode": {
    "name": "ipython",
    "version": 3
   },
   "file_extension": ".py",
   "mimetype": "text/x-python",
   "name": "python",
   "nbconvert_exporter": "python",
   "pygments_lexer": "ipython3",
   "version": "3.6.0"
  }
 },
 "nbformat": 4,
 "nbformat_minor": 2
}
