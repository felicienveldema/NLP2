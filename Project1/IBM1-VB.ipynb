{
 "cells": [
  {
   "cell_type": "code",
   "execution_count": 1,
   "metadata": {
    "collapsed": true
   },
   "outputs": [],
   "source": [
    "from __future__ import print_function, division\n",
    "from collections import defaultdict, Counter\n",
    "from tqdm import tqdm\n",
    "from aer import read_naacl_alignments, AERSufficientStatistics\n",
    "from random import random\n",
    "from scipy import special\n",
    "import numpy as np\n",
    "import matplotlib.pyplot as plt\n",
    "import pickle\n",
    "import math\n",
    "import os"
   ]
  },
  {
   "cell_type": "markdown",
   "metadata": {},
   "source": [
    "## Read in the data"
   ]
  },
  {
   "cell_type": "code",
   "execution_count": 2,
   "metadata": {},
   "outputs": [
    {
     "name": "stdout",
     "output_type": "stream",
     "text": [
      "Adding the -UNK- token to the data.\n",
      "English data complete.\n",
      "French data complete\n",
      "Adding the -UNK- token to the data.\n",
      "English data complete.\n",
      "French data complete\n"
     ]
    }
   ],
   "source": [
    "english_train = 'training/hansards.36.2.e'\n",
    "french_train = 'training/hansards.36.2.f'\n",
    "english_val = 'validation/dev.e'\n",
    "french_val = 'validation/dev.f'\n",
    "fname = 'naacltest.txt'\n",
    "\n",
    "def add_unk(original_sentences, threshold, ext_sentences=None):\n",
    "    #use original sentences and unk low frequency words\n",
    "    if ext_sentences is None: \n",
    "        counts = Counter([item for sublist in original_sentences for item in sublist])\n",
    "        unk_words = list({k:counts[k] for k in counts if counts[k] <= threshold})\n",
    "    #use external sentences and unk unknown words\n",
    "    else:\n",
    "        counts = Counter([item for sublist in ext_sentences for item in sublist])\n",
    "        unk_words = list({k:counts[k] for k in counts})\n",
    "    for line, sentence in enumerate(tqdm(original_sentences)):\n",
    "        for index, word in enumerate(sentence):\n",
    "            if word in unk_words and ext_sentences is None:\n",
    "                original_sentences[line][index] = '-UNK-'\n",
    "            elif word not in unk_words and ext_sentences is not None:\n",
    "                original_sentences[line][index] = '-UNK-'\n",
    "    return original_sentences\n",
    "    \n",
    "\n",
    "def read_data(english_file, french_file, unk=False, threshold=1, ttype='training', eng_data=None, fre_data=None):\n",
    "    english_sentences = []\n",
    "    french_sentences = []\n",
    "    with open(english_file, 'r', encoding='utf8') as engf, open(french_file, 'r', encoding='utf8') as fref:\n",
    "        for line in engf:\n",
    "            english_sentences.append([\"NULL\"] + line.split())\n",
    "        for line in fref:\n",
    "            french_sentences.append(line.split())\n",
    "    \n",
    "    #unk cases\n",
    "    if unk:\n",
    "        print(\"Adding the -UNK- token to the data.\")\n",
    "        englishname = ttype +'_'+ str(threshold)+'_unk.e'\n",
    "        frenchname = ttype +'_'+ str(threshold)+'_unk.f'\n",
    "        #load if file is found\n",
    "        if os.path.isfile(englishname):\n",
    "            with open (englishname, 'rb') as eng:\n",
    "                english_sentences = pickle.load(eng)\n",
    "        else:\n",
    "            english_sentences = add_unk(english_sentences, threshold, eng_data)\n",
    "            with open(englishname, 'wb') as eng:\n",
    "                pickle.dump(english_sentences, eng)\n",
    "        print(\"English data complete.\")\n",
    "        \n",
    "        \n",
    "        if os.path.isfile(frenchname):\n",
    "            with open(frenchname, 'rb') as fre:\n",
    "                french_sentences = pickle.load(fre)\n",
    "        else:\n",
    "            french_sentences = add_unk(french_sentences, threshold, fre_data)\n",
    "            with open(frenchname, 'wb') as fre:\n",
    "                pickle.dump(french_sentences, fre)             \n",
    "        print(\"French data complete\")          \n",
    "        \n",
    "    assert len(english_sentences) == len(french_sentences), 'data mismatch'\n",
    "    return list(zip(english_sentences, french_sentences))\n",
    "\n",
    "training_data = read_data(english_train, french_train, True)\n",
    "ext_data = list(zip(*training_data))\n",
    "validation_data = read_data(english_val, french_val, True, ttype='validation', eng_data=ext_data[0], fre_data=ext_data[1])"
   ]
  },
  {
   "cell_type": "markdown",
   "metadata": {},
   "source": [
    "# AER Cell"
   ]
  },
  {
   "cell_type": "code",
   "execution_count": 3,
   "metadata": {},
   "outputs": [
    {
     "name": "stdout",
     "output_type": "stream",
     "text": [
      "0.34416826003824097\n",
      "0.5252140818268316\n",
      "0.5368421052631579\n",
      "0.5368421052631579\n",
      "0.5363288718929254\n",
      "0.5391969407265774\n",
      "0.5391221374045801\n",
      "0.5381679389312977\n",
      "0.5381679389312977\n",
      "0.5380952380952381\n",
      "0.31800766283524906\n",
      "0.3137065637065637\n",
      "0.3137065637065637\n",
      "0.31436837029893927\n",
      "0.3153326904532304\n",
      "0.3153326904532304\n",
      "0.3153326904532304\n",
      "0.3153326904532304\n",
      "0.3153326904532304\n",
      "0.3153326904532304\n"
     ]
    }
   ],
   "source": [
    "def test(path, personal_sets=None):\n",
    "    from random import random\n",
    "    # 1. Read in gold alignments\n",
    "    gold_sets = read_naacl_alignments('validation/dev.wa.nonullalign')\n",
    "\n",
    "    # 2. Here you would have the predictions of your own algorithm\n",
    "    if personal_sets is None:\n",
    "        personal_sets = read_naacl_alignments(path)\n",
    "        predictions = []\n",
    "        for s, p in personal_sets:\n",
    "            links = set()\n",
    "            for link in s:\n",
    "                links.add(link)\n",
    "            predictions.append(links)\n",
    "    else:\n",
    "        predictions=personal_sets\n",
    "\n",
    "    # 3. Compute AER\n",
    "    # first we get an object that manages sufficient statistics \n",
    "    metric = AERSufficientStatistics()\n",
    "    # then we iterate over the corpus \n",
    "    for gold, pred in zip(gold_sets, predictions):\n",
    "        metric.update(sure=gold[0], probable=gold[1], predicted=pred)\n",
    "    return metric.aer()\n",
    "\n",
    "#hardcoded AER test for 5 iterations\n",
    "for i in range(20):\n",
    "    aer = test('iteration'+str(i)+'.txt')\n",
    "    print(aer)"
   ]
  },
  {
   "cell_type": "markdown",
   "metadata": {
    "collapsed": true
   },
   "source": [
    "## IBM Model 1: Generative Process\n",
    "Step 1: Pick an alignmet $a$ with probability  p(a|e,m) = $\\frac{1}{(l+1)^m}$\n",
    "\n",
    "Step 2: pick the French words with probability\n",
    "\n",
    "p(f|a,e,m) = $\\prod^m_{j=1} t(f_j | e_aj )$\n",
    "\n",
    "\n",
    "\n",
    "P(f,a|e, m ) = p(a|e,m) $\\times$ p(f|a,e,m)\n"
   ]
  },
  {
   "cell_type": "code",
   "execution_count": 4,
   "metadata": {},
   "outputs": [
    {
     "name": "stdout",
     "output_type": "stream",
     "text": [
      "<class 'list'>\n"
     ]
    }
   ],
   "source": [
    "def align_all(data, translate_dict, fname=None):\n",
    "    \"\"\"Create alignments for pairs of English and French sentences.\n",
    "    Both save them as sets per sentence and pair and save to file.\n",
    "    \n",
    "    Args:\n",
    "        validation: zipped object with pairs of e and f sentences\n",
    "        translate_dict: dictionary with translation probabilities e to f\n",
    "        fname: filename to save alignments in, in NAACL format\n",
    "\n",
    "    Returns:\n",
    "        list of sets\n",
    "    \"\"\"\n",
    "    file = open(fname, 'w')\n",
    "    alignments = []\n",
    "    for k, (english_words, french_words) in enumerate(data):\n",
    "        alignment = align(english_words, french_words, translate_dict, False)\n",
    "        for pos1, pos2 in alignment:\n",
    "            file.write(\"{} {} {}\\n\".format(str(k+1), str(pos1), str(pos2)))\n",
    "        alignments.append(set(alignment))\n",
    "    return alignments\n",
    "    \n",
    "def align(english_words, french_words, translate_dict, add_null=True):\n",
    "    \"\"\"Align one sentence pair, either with or without the NULL alignments.\n",
    "    \n",
    "    Args:\n",
    "        english_words: list of english words\n",
    "        french_words: list of french words\n",
    "        translate_dict: dictionary with translation probabilities e to f\n",
    "        add_null: boolean to indicate whether NULL alignments should be included\n",
    "\n",
    "    Return:\n",
    "        list of tuples\n",
    "    \"\"\"\n",
    "    alignment = []\n",
    "    for j, fword in enumerate(french_words):\n",
    "        prior = 0.0\n",
    "        alignment_j = 0\n",
    "        for i, eword in enumerate(english_words):\n",
    "            # Only include terms that are in the dictionary\n",
    "            if eword in translate_dict and fword in translate_dict[eword]:\n",
    "                prob = translate_dict[eword][fword]\n",
    "                if prob > prior:\n",
    "                    prior = prob\n",
    "                    alignment_j = i\n",
    "        # Add dependent on whether it's a NULL alignments\n",
    "        if alignment_j != 0 or add_null:\n",
    "            alignment.append((alignment_j, j + 1))\n",
    "    return alignment\n",
    "\n",
    "def log_likelihood(data, translate_dict, add_constant=False):\n",
    "    \"\"\"\n",
    "    Args:\n",
    "        data: zipped object with pairs of e and f sentences\n",
    "        translate_dict: dictionary with translation probabilities e to f\n",
    "\n",
    "    Returns:\n",
    "        float: log likelihood\n",
    "    \"\"\"\n",
    "    log_likelihood = 0\n",
    "    for e, f in data:\n",
    "        alignment = align(e, f, translate_dict, True)\n",
    "        prob = 0\n",
    "        for j, i in alignment:\n",
    "            prob += math.log(translate_dict[e[j]][f[i-1]])\n",
    "        log_likelihood += prob\n",
    "        if add_constant:\n",
    "            log_likelihood += -len(f) * np.log(len(e) + 1)\n",
    "    return log_likelihood\n",
    "\n",
    "def initialize_t(data, uniform=True):\n",
    "    \"\"\"Initialise the translation probabilities.\n",
    "    \n",
    "    Args:\n",
    "        data: list of tuples, english and french sentences\n",
    "        uniform: boolean indicating initialisation type\n",
    "\n",
    "    Returns:\n",
    "        defaultdict(Counter)\n",
    "    \"\"\"\n",
    "    co_counts = defaultdict(Counter)\n",
    "    for e, f in tqdm(data):\n",
    "        for e_word in e:\n",
    "            for f_word in f:\n",
    "                if uniform:\n",
    "                    co_counts[e_word][f_word] = 1\n",
    "                else:\n",
    "                    co_counts[e_word][f_word] = random()\n",
    "    for e_word in co_counts:\n",
    "        normalization_factor = sum(list(co_counts[e_word].values()))\n",
    "        for f_word in co_counts[e_word]:\n",
    "            co_counts[e_word][f_word] = co_counts[e_word][f_word] / normalization_factor\n",
    "    return co_counts\n",
    "\n",
    "def EM_IBM1(data, validation, max_steps=20, translate_dict=None, epochs_trained=0):\n",
    "    print(\"Initializing translation dictionary.\")\n",
    "    if translate_dict is None:\n",
    "        translate_dict = initialize_t(data)\n",
    "    for iteration in range(epochs_trained, epochs_trained + max_steps):\n",
    "        change = False\n",
    "        fname = 'iteration' + str(iteration) + '.txt'\n",
    "        counts = Counter()\n",
    "        co_counts = defaultdict(Counter)\n",
    "        \n",
    "        print(\"Expectation step {}\".format(iteration + 1))\n",
    "        for e_s, f_s in tqdm(data):\n",
    "            for f in f_s:\n",
    "                sum_of_probs = sum([translate_dict[e2][f] for e2 in e_s])\n",
    "                for e in e_s:\n",
    "                    delta = translate_dict[e][f] / sum_of_probs\n",
    "                    co_counts[e][f] += delta\n",
    "                    counts[e] += delta\n",
    "\n",
    "        print(\"Maximisation step {}\".format(iteration + 1))\n",
    "        for e in co_counts:\n",
    "            for f in co_counts[e]:\n",
    "                new_value = co_counts[e][f] / counts[e]\n",
    "                if abs(translate_dict[e][f] - new_value) > 1e-5:\n",
    "                    change = True\n",
    "                translate_dict[e][f] = new_value\n",
    "        if not change:\n",
    "            break\n",
    "        #writing the iteration files in naacl for AER use\n",
    "        alignments = align_all(validation, translate_dict, fname)\n",
    "        ll = log_likelihood(data, translate_dict)\n",
    "        aer = test(\"\", alignments)\n",
    "        print(\"Log likelihood: {}, AER: {}\".format(ll, aer))\n",
    "        pickle.dump(translate_dict, open(\"translate_dicts/ibm1_em_epoch_{}.pickle\".format(iteration + 1), 'wb'))\n",
    "    return translate_dict\n",
    "\n",
    "print(type(training_data))"
   ]
  },
  {
   "cell_type": "code",
   "execution_count": 16,
   "metadata": {
    "scrolled": true
   },
   "outputs": [
    {
     "name": "stdout",
     "output_type": "stream",
     "text": [
      "Initializing translation dictionary.\n"
     ]
    },
    {
     "name": "stderr",
     "output_type": "stream",
     "text": [
      "100%|██████████████████████████████████| 10000/10000 [00:02<00:00, 3692.77it/s]\n"
     ]
    },
    {
     "name": "stdout",
     "output_type": "stream",
     "text": [
      "Expectation step 1\n"
     ]
    },
    {
     "name": "stderr",
     "output_type": "stream",
     "text": [
      "100%|███████████████████████████████████| 10000/10000 [00:11<00:00, 848.82it/s]\n"
     ]
    },
    {
     "name": "stdout",
     "output_type": "stream",
     "text": [
      "Maximisation step 1\n",
      "Log likelihood: -704850.4815791112, AER: 0.46750727449078566\n",
      "Expectation step 2\n"
     ]
    },
    {
     "name": "stderr",
     "output_type": "stream",
     "text": [
      "100%|███████████████████████████████████| 10000/10000 [00:11<00:00, 867.98it/s]\n"
     ]
    },
    {
     "name": "stdout",
     "output_type": "stream",
     "text": [
      "Maximisation step 2\n",
      "Log likelihood: -524865.3773616902, AER: 0.3807205452775073\n",
      "Expectation step 3\n"
     ]
    },
    {
     "name": "stderr",
     "output_type": "stream",
     "text": [
      "100%|███████████████████████████████████| 10000/10000 [00:11<00:00, 889.92it/s]\n"
     ]
    },
    {
     "name": "stdout",
     "output_type": "stream",
     "text": [
      "Maximisation step 3\n",
      "Log likelihood: -429466.5232563358, AER: 0.36549707602339176\n",
      "Expectation step 4\n"
     ]
    },
    {
     "name": "stderr",
     "output_type": "stream",
     "text": [
      " 36%|████████████▉                       | 3611/10000 [00:04<00:08, 751.82it/s]\n"
     ]
    },
    {
     "ename": "KeyboardInterrupt",
     "evalue": "",
     "output_type": "error",
     "traceback": [
      "\u001b[1;31m---------------------------------------------------------------------------\u001b[0m",
      "\u001b[1;31mKeyboardInterrupt\u001b[0m                         Traceback (most recent call last)",
      "\u001b[1;32m<ipython-input-16-974c8827fa7a>\u001b[0m in \u001b[0;36m<module>\u001b[1;34m()\u001b[0m\n\u001b[0;32m      1\u001b[0m \u001b[1;33m\u001b[0m\u001b[0m\n\u001b[0;32m      2\u001b[0m \u001b[1;33m\u001b[0m\u001b[0m\n\u001b[1;32m----> 3\u001b[1;33m \u001b[0mtranslate_dict\u001b[0m \u001b[1;33m=\u001b[0m \u001b[0mEM_IBM1\u001b[0m\u001b[1;33m(\u001b[0m\u001b[0mtraining_data\u001b[0m\u001b[1;33m[\u001b[0m\u001b[1;33m:\u001b[0m\u001b[1;36m10000\u001b[0m\u001b[1;33m]\u001b[0m\u001b[1;33m,\u001b[0m \u001b[0mvalidation_data\u001b[0m\u001b[1;33m,\u001b[0m \u001b[1;36m20\u001b[0m\u001b[1;33m)\u001b[0m\u001b[1;33m\u001b[0m\u001b[0m\n\u001b[0m",
      "\u001b[1;32m<ipython-input-4-15faaafd4489>\u001b[0m in \u001b[0;36mEM_IBM1\u001b[1;34m(data, validation, max_steps, translate_dict, epochs_trained)\u001b[0m\n\u001b[0;32m    109\u001b[0m                     \u001b[0mdelta\u001b[0m \u001b[1;33m=\u001b[0m \u001b[0mtranslate_dict\u001b[0m\u001b[1;33m[\u001b[0m\u001b[0me\u001b[0m\u001b[1;33m]\u001b[0m\u001b[1;33m[\u001b[0m\u001b[0mf\u001b[0m\u001b[1;33m]\u001b[0m \u001b[1;33m/\u001b[0m \u001b[0msum_of_probs\u001b[0m\u001b[1;33m\u001b[0m\u001b[0m\n\u001b[0;32m    110\u001b[0m                     \u001b[0mco_counts\u001b[0m\u001b[1;33m[\u001b[0m\u001b[0me\u001b[0m\u001b[1;33m]\u001b[0m\u001b[1;33m[\u001b[0m\u001b[0mf\u001b[0m\u001b[1;33m]\u001b[0m \u001b[1;33m+=\u001b[0m \u001b[0mdelta\u001b[0m\u001b[1;33m\u001b[0m\u001b[0m\n\u001b[1;32m--> 111\u001b[1;33m                     \u001b[0mcounts\u001b[0m\u001b[1;33m[\u001b[0m\u001b[0me\u001b[0m\u001b[1;33m]\u001b[0m \u001b[1;33m+=\u001b[0m \u001b[0mdelta\u001b[0m\u001b[1;33m\u001b[0m\u001b[0m\n\u001b[0m\u001b[0;32m    112\u001b[0m \u001b[1;33m\u001b[0m\u001b[0m\n\u001b[0;32m    113\u001b[0m         \u001b[0mprint\u001b[0m\u001b[1;33m(\u001b[0m\u001b[1;34m\"Maximisation step {}\"\u001b[0m\u001b[1;33m.\u001b[0m\u001b[0mformat\u001b[0m\u001b[1;33m(\u001b[0m\u001b[0miteration\u001b[0m \u001b[1;33m+\u001b[0m \u001b[1;36m1\u001b[0m\u001b[1;33m)\u001b[0m\u001b[1;33m)\u001b[0m\u001b[1;33m\u001b[0m\u001b[0m\n",
      "\u001b[1;31mKeyboardInterrupt\u001b[0m: "
     ]
    }
   ],
   "source": [
    "\n",
    "\n",
    "translate_dict = EM_IBM1(training_data[:10000], validation_data, 20)"
   ]
  },
  {
   "cell_type": "code",
   "execution_count": null,
   "metadata": {
    "collapsed": true
   },
   "outputs": [],
   "source": [
    "def print_translation_probs(english_word, transdict):\n",
    "    results = []\n",
    "    for french_word in translate_dict[english_word]:\n",
    "        results.append((translate_dict[english_word][french_word], french_word))\n",
    "    results.sort(reverse=True)\n",
    "    for r in results[:20]:\n",
    "        print(r)\n",
    "        \n",
    "print_translation_probs('commissioners', translate_dict)"
   ]
  },
  {
   "cell_type": "code",
   "execution_count": null,
   "metadata": {
    "collapsed": true
   },
   "outputs": [],
   "source": []
  },
  {
   "cell_type": "markdown",
   "metadata": {},
   "source": [
    "# Bayesian IBM1"
   ]
  },
  {
   "cell_type": "code",
   "execution_count": 70,
   "metadata": {
    "collapsed": true
   },
   "outputs": [],
   "source": [
    "from scipy.special import digamma, loggamma, gammaln\n",
    "import math\n",
    "\n",
    "def elbo(data, t, f_vocab, alpha, lambdas):\n",
    "    ll = log_likelihood(data, t)\n",
    "    print(ll)\n",
    "    elbo = ll\n",
    "    gammaln_alpha = gammaln(alpha)\n",
    "    c = gammaln(alpha * len(f_vocab))\n",
    "    for e in tqdm(t):\n",
    "        a = sum([math.log(t[e][f]) * (alpha - lambdas[e][f])\n",
    "                 +  gammaln(lambdas[e][f]) - gammaln_alpha for f in lambdas[e] if f != \"-REST-\"])\n",
    "        b = gammaln(sum([(lambdas[e][f] if f in lambdas[e] else alpha) for f in f_vocab]))\n",
    "        elbo += a - b + c\n",
    "    return elbo\n",
    "\n",
    "def VB_align(english_words, french_words, translate_dict, f_vocab, add_null=True):\n",
    "    \"\"\"Align one sentence pair, either with or without the NULL alignments.\n",
    "    \n",
    "    Args:\n",
    "        english_words: list of english words\n",
    "        french_words: list of french words\n",
    "        translate_dict: dictionary with translation probabilities e to f\n",
    "        add_null: boolean to indicate whether NULL alignments should be included\n",
    "\n",
    "    Return:\n",
    "        list of tuples\n",
    "    \"\"\"\n",
    "    alignment = []\n",
    "    for j, fword in enumerate(french_words):\n",
    "        prior = 0.0\n",
    "        alignment_j = 0\n",
    "        for i, eword in enumerate(english_words):\n",
    "            # Only include terms that are in the dictionary\n",
    "            if eword in translate_dict:\n",
    "                if fword in translate_dict[eword]:\n",
    "                    prob = translate_dict[eword][fword]\n",
    "                else:\n",
    "                    prob = translate_dict[eword][\"-REST-\"]\n",
    "                if prob > prior:\n",
    "                    prior = prob\n",
    "                    alignment_j = i\n",
    "                # Add dependent on whether it's a NULL alignments\n",
    "        if alignment_j != 0 or add_null:\n",
    "            alignment.append((alignment_j, j + 1))\n",
    "    return alignment\n",
    "\n",
    "def VB_align_all(data, translate_dict, f_vocab, fname=None):\n",
    "    \"\"\"Create alignments for pairs of English and French sentences.\n",
    "    Both save them as sets per sentence and pair and save to file.\n",
    "    \n",
    "    Args:\n",
    "        validation: zipped object with pairs of e and f sentences\n",
    "        translate_dict: dictionary with translation probabilities e to f\n",
    "        fname: filename to save alignments in, in NAACL format\n",
    "\n",
    "    Returns:\n",
    "        list of sets\n",
    "    \"\"\"\n",
    "    file = open(fname, 'w')\n",
    "    alignments = []\n",
    "    for k, (english_words, french_words) in enumerate(data):\n",
    "        alignment = VB_align(english_words, french_words, translate_dict, f_vocab, False)\n",
    "        for pos1, pos2 in alignment:\n",
    "            file.write(\"{} {} {}\\n\".format(str(k+1), str(pos1), str(pos2)))\n",
    "        alignments.append(set(alignment))\n",
    "    return alignments\n",
    "\n",
    "def VB_IBM1(data, validation, alpha, max_steps=20, translate_dict=None):\n",
    "    print(\"Initializing translation dictionary.\")\n",
    "    if translate_dict is None:\n",
    "        translate_dict = initialize_t(data)\n",
    "    e_vocab = translate_dict.keys()\n",
    "    f_vocab = {f for e in translate_dict for f in translate_dict[e]}\n",
    "    for iteration in range(max_steps):\n",
    "        change = False\n",
    "        fname = 'iteration' + str(iteration) + '.txt'\n",
    "        lambdas = defaultdict(lambda : defaultdict(lambda : 0.05))\n",
    "\n",
    "        print(\"Expectation step {}\".format(iteration + 1))\n",
    "        for e_s, f_s in tqdm(data):\n",
    "            for f in f_s:\n",
    "                sum_of_probs = sum([translate_dict[e2][f] for e2 in e_s])\n",
    "                for e in e_s:\n",
    "                    lambdas[e][f] += translate_dict[e][f] / sum_of_probs\n",
    "\n",
    "        print(\"Maximisation step {}\".format(iteration + 1))\n",
    "        for e in tqdm(e_vocab):\n",
    "            summation = 0\n",
    "            for f2 in f_vocab:\n",
    "                if f2 in lambdas[e]:\n",
    "                    summation += lambdas[e][f2]\n",
    "                else:\n",
    "                    summation += alpha\n",
    "            summation = digamma(summation)\n",
    "            for f in translate_dict[e]:\n",
    "                translate_dict[e][f] = np.exp(digamma(lambdas[e][f]) - summation)\n",
    "            translate_dict[e][\"-REST-\"] = np.exp(digamma(alpha) - summation)\n",
    "#                 if abs(translate_dict[e][f] - new_value) > 1e-5:\n",
    "#                     change = True\n",
    "\n",
    "\n",
    "#         if not change:\n",
    "#             print(\"The translation probabilities did not change, so the model converged.\")\n",
    "#             break\n",
    "\n",
    "        alignments = VB_align_all(validation, translate_dict, f_vocab, fname)\n",
    "        #eb = elbo(data, translate_dict, f_vocab, alpha, lambdas)\n",
    "        #print(\"Elbo: {}\".format(eb))\n",
    "        aer = test(\"\", alignments)\n",
    "        print(\"AER: {}\".format(aer))\n",
    "        pickle.dump(translate_dict, open(\"translate_dicts/ibm1_vb_epoch_{}.pickle\".format(iteration + 1), 'wb'))\n",
    "    return translate_dict"
   ]
  },
  {
   "cell_type": "code",
   "execution_count": null,
   "metadata": {},
   "outputs": [
    {
     "name": "stdout",
     "output_type": "stream",
     "text": [
      "Initializing translation dictionary.\n"
     ]
    },
    {
     "name": "stderr",
     "output_type": "stream",
     "text": [
      "100%|██████████████████████████████████| 10000/10000 [00:02<00:00, 4163.20it/s]\n"
     ]
    },
    {
     "name": "stdout",
     "output_type": "stream",
     "text": [
      "Expectation step 1\n"
     ]
    },
    {
     "name": "stderr",
     "output_type": "stream",
     "text": [
      "100%|██████████████████████████████████| 10000/10000 [00:09<00:00, 1045.41it/s]\n"
     ]
    },
    {
     "name": "stdout",
     "output_type": "stream",
     "text": [
      "Maximisation step 1\n"
     ]
    },
    {
     "name": "stderr",
     "output_type": "stream",
     "text": [
      "100%|█████████████████████████████████████| 9156/9156 [00:24<00:00, 366.40it/s]\n"
     ]
    },
    {
     "name": "stdout",
     "output_type": "stream",
     "text": [
      "AER: 0.46829268292682924\n",
      "Expectation step 2\n"
     ]
    },
    {
     "name": "stderr",
     "output_type": "stream",
     "text": [
      "100%|███████████████████████████████████| 10000/10000 [00:10<00:00, 948.77it/s]\n"
     ]
    },
    {
     "name": "stdout",
     "output_type": "stream",
     "text": [
      "Maximisation step 2\n"
     ]
    },
    {
     "name": "stderr",
     "output_type": "stream",
     "text": [
      "100%|█████████████████████████████████████| 9156/9156 [00:37<00:00, 246.89it/s]\n"
     ]
    },
    {
     "name": "stdout",
     "output_type": "stream",
     "text": [
      "AER: 0.38099902056807056\n",
      "Expectation step 3\n"
     ]
    },
    {
     "name": "stderr",
     "output_type": "stream",
     "text": [
      "100%|███████████████████████████████████| 10000/10000 [00:10<00:00, 940.91it/s]\n"
     ]
    },
    {
     "name": "stdout",
     "output_type": "stream",
     "text": [
      "Maximisation step 3\n"
     ]
    },
    {
     "name": "stderr",
     "output_type": "stream",
     "text": [
      "  1%|▍                                      | 90/9156 [00:00<00:41, 218.98it/s]"
     ]
    }
   ],
   "source": [
    "alpha = 0.001\n",
    "digamma_alpha = digamma(alpha)\n",
    "translate_dict = VB_IBM1(training_data[:10000], validation_data, alpha, 15)"
   ]
  },
  {
   "cell_type": "code",
   "execution_count": 42,
   "metadata": {},
   "outputs": [
    {
     "name": "stdout",
     "output_type": "stream",
     "text": [
      "0.174540346609\n"
     ]
    }
   ],
   "source": [
    "f_vocab = {f for e in translate_dict for f in translate_dict[e]}\n",
    "s = 0\n",
    "for word in f_vocab:\n",
    "    if word == \"-REST-\":\n",
    "        continue\n",
    "    if word in translate_dict[\"commissioner\"]:\n",
    "        s += translate_dict[\"commissioner\"][word]\n",
    "#     else:\n",
    "#         s += translate_dict['commissioner'][\"-REST-\"]\n",
    "print(s)"
   ]
  },
  {
   "cell_type": "code",
   "execution_count": 58,
   "metadata": {},
   "outputs": [
    {
     "name": "stdout",
     "output_type": "stream",
     "text": [
      "0.34416826003824097\n"
     ]
    }
   ],
   "source": [
    "#t = pickle.load(open(\"translate_dicts/ibm1_vb_epoch_1.pickle\", 'rb'))\n",
    "alignments = VB_align_all(validation_data, t, f_vocab, \"test.txt\")\n",
    "aer = test(\"\", alignments)\n",
    "print(aer)"
   ]
  },
  {
   "cell_type": "code",
   "execution_count": 68,
   "metadata": {},
   "outputs": [
    {
     "name": "stderr",
     "output_type": "stream",
     "text": [
      "100%|███████████████████████████████████| 25593/25593 [02:16<00:00, 188.17it/s]\n"
     ]
    }
   ],
   "source": [
    "t = translate_dict\n",
    "for e in tqdm(t):\n",
    "    in_t = set(t[e].keys())\n",
    "    summation = sum(list(t[e].values()))\n",
    "    summation += t[e][\"-REST-\"] * (len(f_vocab - in_t) - 1)\n",
    "    for f in t[e]:\n",
    "        t[e][f] = t[e][f] / summation"
   ]
  },
  {
   "cell_type": "code",
   "execution_count": 69,
   "metadata": {},
   "outputs": [
    {
     "name": "stdout",
     "output_type": "stream",
     "text": [
      "0.418957345971564\n"
     ]
    }
   ],
   "source": [
    "alignments = VB_align_all(validation_data, t, f_vocab, \"test.txt\")\n",
    "aer = test(\"\", alignments)\n",
    "print(aer)"
   ]
  },
  {
   "cell_type": "code",
   "execution_count": 62,
   "metadata": {},
   "outputs": [
    {
     "name": "stderr",
     "output_type": "stream",
     "text": [
      "\r",
      "  0%|                                                | 0/25593 [00:00<?, ?it/s]"
     ]
    },
    {
     "name": "stdout",
     "output_type": "stream",
     "text": [
      "0.999999497641\n",
      "0.999997716097\n",
      "0.999999281381\n",
      "0.999999411297\n",
      "0.999999126301\n",
      "0.999997387859\n",
      "0.999999895507\n",
      "0.999999906671\n",
      "0.999998895044\n",
      "0.999998829886\n",
      "0.999999550841\n",
      "0.999998962425\n",
      "0.999998080834\n",
      "0.999998456589\n",
      "0.999999801545\n",
      "0.999999807165\n",
      "0.999998587863\n",
      "0.999999191608\n",
      "0.999999721121\n",
      "0.999998648331\n",
      "0.999999873051\n",
      "0.999999628536\n",
      "0.999999381312\n"
     ]
    },
    {
     "name": "stderr",
     "output_type": "stream",
     "text": [
      "\r",
      "  0%|                                      | 23/25593 [00:00<01:52, 227.72it/s]"
     ]
    },
    {
     "name": "stdout",
     "output_type": "stream",
     "text": [
      "0.999999917308\n",
      "0.999999584334\n",
      "0.999999832483\n",
      "0.999997968067\n",
      "0.999994936926\n",
      "0.999998652631\n",
      "0.999998599311\n",
      "0.999999558452\n",
      "0.99999888965\n",
      "0.999999454007\n",
      "0.999999831311\n",
      "0.999996520068\n",
      "0.99999890755\n",
      "0.999999111168\n",
      "0.999999525426\n",
      "0.999999394342\n",
      "0.999998763201\n",
      "0.99999968509\n",
      "0.999997593802\n",
      "0.999998789898\n",
      "0.99999960183\n",
      "0.999998816103\n",
      "0.999999276782\n",
      "0.999999371983\n"
     ]
    },
    {
     "name": "stderr",
     "output_type": "stream",
     "text": [
      "\r",
      "  0%|                                      | 47/25593 [00:00<01:50, 231.52it/s]"
     ]
    },
    {
     "name": "stdout",
     "output_type": "stream",
     "text": [
      "0.999999320209\n",
      "0.999999897859\n",
      "0.999998080629\n",
      "0.999986184637\n",
      "0.99999900022\n",
      "0.999997486206\n",
      "0.999998546934\n",
      "0.999999381593\n",
      "0.999998013896\n",
      "0.999999724625\n",
      "0.999999899654\n",
      "0.999999857461\n",
      "0.999999713456\n",
      "0.999999638734\n",
      "0.999998921214\n",
      "0.999999462643\n",
      "0.999999971764\n",
      "0.999999929371\n",
      "0.999998801927\n",
      "0.99999921958\n"
     ]
    },
    {
     "name": "stderr",
     "output_type": "stream",
     "text": [
      "\r",
      "  0%|                                      | 67/25593 [00:00<01:56, 218.95it/s]"
     ]
    },
    {
     "name": "stdout",
     "output_type": "stream",
     "text": [
      "0.999999395474\n",
      "0.999999566999\n",
      "0.999999496969\n",
      "0.999998829497\n",
      "0.999995280052\n",
      "0.999999074737\n",
      "0.999998079029\n",
      "0.999999658183\n",
      "0.9999994769\n",
      "0.999993625705\n",
      "0.99999971653\n",
      "0.999999714744\n",
      "0.999998298576\n",
      "0.999999385742\n",
      "0.999998701354\n",
      "0.999995030042\n",
      "0.99999014866\n",
      "0.999999366744\n",
      "0.999994710012\n",
      "0.999998766772\n",
      "0.999999010832\n",
      "0.999998356947\n",
      "0.999999144971\n",
      "0.999995488083\n",
      "0.999998105964\n"
     ]
    },
    {
     "name": "stderr",
     "output_type": "stream",
     "text": [
      "\r",
      "  0%|▏                                     | 92/25593 [00:00<01:53, 223.84it/s]"
     ]
    },
    {
     "name": "stdout",
     "output_type": "stream",
     "text": [
      "0.999999348919\n",
      "0.999999760157\n",
      "0.999998060861\n",
      "0.999999875002\n",
      "0.999994730096\n",
      "0.999968249974\n",
      "0.99999966786\n",
      "0.999998819673\n",
      "0.999997135597\n",
      "0.999998482091\n",
      "0.999999040458\n",
      "0.999998125703\n",
      "0.999999773172\n",
      "0.999999734001\n",
      "0.999999621162\n",
      "0.999999823948\n",
      "0.999998203921\n",
      "0.999999115115\n",
      "0.999999665607\n",
      "0.999999173664\n"
     ]
    },
    {
     "name": "stderr",
     "output_type": "stream",
     "text": [
      "\r",
      "  0%|▏                                    | 112/25593 [00:00<01:57, 217.47it/s]"
     ]
    },
    {
     "name": "stdout",
     "output_type": "stream",
     "text": [
      "0.999999824325\n",
      "0.999978639439\n",
      "0.999998578896\n",
      "0.999999263942\n",
      "0.999998512897\n",
      "0.999999784749\n",
      "0.999999246522\n",
      "0.999998258892\n",
      "0.999998803702\n",
      "0.999998735713\n",
      "0.999999448773\n",
      "0.99999987974\n",
      "0.999999630937\n",
      "0.999999248012\n",
      "0.999999140837\n",
      "0.999999376763\n",
      "0.999997738395\n",
      "0.999999826579\n",
      "0.999998011676\n",
      "0.999999447903\n"
     ]
    },
    {
     "name": "stderr",
     "output_type": "stream",
     "text": [
      "\r",
      "  1%|▏                                    | 132/25593 [00:00<01:59, 213.94it/s]"
     ]
    },
    {
     "name": "stdout",
     "output_type": "stream",
     "text": [
      "0.999999379546\n",
      "0.999999517704\n",
      "0.999997466563\n",
      "0.999995785125\n",
      "0.999997958474\n",
      "0.99999964503\n",
      "0.9999970926\n",
      "0.99998986931\n",
      "0.999999122389\n",
      "0.999999976185\n",
      "0.99999517924\n",
      "0.999994354067\n",
      "0.999997761664\n",
      "0.999998440087\n",
      "0.999999705104\n",
      "0.999999535298\n",
      "0.999999804084\n",
      "0.999999850615\n",
      "0.999998172954\n",
      "0.999997225223\n",
      "0.999999883024\n",
      "0.999999399984\n",
      "0.999999929975\n"
     ]
    },
    {
     "name": "stderr",
     "output_type": "stream",
     "text": [
      "\r",
      "  1%|▏                                    | 155/25593 [00:00<01:57, 215.88it/s]"
     ]
    },
    {
     "name": "stdout",
     "output_type": "stream",
     "text": [
      "0.999999283676\n",
      "0.999996556502\n",
      "0.999999249075\n",
      "0.999999483513\n",
      "0.999999776133\n",
      "0.999999370723\n",
      "0.999999273196\n",
      "0.999999217688\n",
      "0.9999868027\n",
      "0.999999872988\n",
      "0.999997325815\n",
      "0.999999966183\n",
      "0.999996825174\n",
      "0.999998878003\n",
      "0.999999776288\n",
      "0.999993524232\n",
      "0.999998782776\n",
      "0.999999834516\n",
      "0.999998639093\n",
      "0.99999948669\n",
      "0.999999907057\n",
      "0.999999240326\n"
     ]
    },
    {
     "name": "stderr",
     "output_type": "stream",
     "text": [
      "\r",
      "  1%|▎                                    | 177/25593 [00:00<01:57, 215.85it/s]"
     ]
    },
    {
     "name": "stdout",
     "output_type": "stream",
     "text": [
      "0.999999697231\n",
      "0.999999964815\n",
      "0.999999760281\n",
      "0.999991987276\n",
      "0.999998822207\n",
      "0.999999104857\n",
      "0.999999938623\n",
      "0.99999954462\n",
      "0.999998392216\n",
      "0.999999925857\n",
      "0.999999358169\n",
      "0.999999160473\n",
      "0.999999891874\n",
      "0.999998657614\n",
      "0.999999925419\n",
      "0.999999563393\n",
      "0.999999867956\n",
      "0.999998735615\n",
      "0.999999320946\n",
      "0.99999721279\n",
      "0.999999516121\n",
      "0.999998218149\n",
      "0.999999696793\n"
     ]
    },
    {
     "name": "stderr",
     "output_type": "stream",
     "text": [
      "\r",
      "  1%|▎                                    | 200/25593 [00:00<01:57, 216.92it/s]"
     ]
    },
    {
     "name": "stdout",
     "output_type": "stream",
     "text": [
      "0.999996092131\n",
      "0.999999652758\n",
      "0.9999968345\n",
      "0.999997154317\n",
      "0.999999656608\n",
      "0.99999991646\n",
      "0.999997749511\n",
      "0.999998499513\n",
      "0.999999878339\n",
      "0.999998509766\n",
      "0.999998703611\n",
      "0.999997775461\n",
      "0.999991077631\n",
      "0.999997081074\n",
      "0.999999660123\n",
      "0.999998327475\n",
      "0.999999337152\n",
      "0.999999067316\n",
      "0.999998901279\n",
      "0.999999583976\n",
      "0.999999447058\n",
      "0.999999810365\n",
      "1.0\n"
     ]
    },
    {
     "name": "stderr",
     "output_type": "stream",
     "text": [
      "\r",
      "  1%|▎                                    | 223/25593 [00:01<01:58, 213.81it/s]"
     ]
    },
    {
     "name": "stdout",
     "output_type": "stream",
     "text": [
      "0.999999087087\n",
      "0.999999616803\n",
      "0.999997349015\n",
      "0.999998822151\n",
      "0.999999479437\n",
      "0.999999878275\n",
      "0.999999835325\n",
      "0.999999897981\n",
      "0.999999754027\n",
      "0.999998714541\n",
      "0.999995946144\n",
      "0.999999711689\n",
      "0.999998576562\n",
      "0.999998445988\n",
      "0.999997424299\n",
      "0.999999132995\n",
      "0.999999518793\n",
      "0.999999671092\n",
      "0.999998349486\n",
      "0.999994615307\n",
      "0.999997700206\n",
      "0.999998719225\n"
     ]
    },
    {
     "name": "stderr",
     "output_type": "stream",
     "text": [
      "\r",
      "  1%|▎                                    | 245/25593 [00:01<01:58, 213.79it/s]"
     ]
    },
    {
     "name": "stdout",
     "output_type": "stream",
     "text": [
      "0.999998929911\n",
      "0.999999825573\n",
      "0.99999891472\n",
      "0.999998355498\n",
      "0.999999425329\n",
      "0.999999934265\n",
      "0.999998968176\n",
      "0.999999662006\n",
      "0.999998053702\n",
      "0.999998394122\n",
      "0.999999211377\n",
      "0.999999769636\n",
      "0.999999257421\n",
      "0.999999878936\n",
      "0.999997802111\n",
      "0.999999468444\n",
      "0.999999018943\n",
      "0.999998276845\n",
      "0.999998668365\n",
      "0.999998041441\n",
      "0.999998977716\n",
      "0.999999875914\n",
      "0.999999890079\n"
     ]
    },
    {
     "name": "stderr",
     "output_type": "stream",
     "text": [
      "\r",
      "  1%|▍                                    | 268/25593 [00:01<01:58, 214.23it/s]"
     ]
    },
    {
     "name": "stdout",
     "output_type": "stream",
     "text": [
      "0.999997032505\n",
      "0.999999812252\n",
      "0.999999565043\n",
      "0.999999638865\n",
      "0.999999183554\n",
      "0.999997733465\n",
      "0.999998996788\n",
      "0.999998570012\n",
      "0.999999851508\n",
      "0.999998319107\n",
      "0.999999380691\n",
      "0.999999598834\n",
      "0.999999439179\n",
      "0.999999218853\n",
      "0.999999502772\n",
      "0.99999672735\n",
      "0.999999900401\n",
      "0.999998306701\n",
      "0.999996076452\n",
      "0.999999644147\n",
      "0.999998091837\n",
      "0.999997614855\n",
      "0.999999731682\n"
     ]
    },
    {
     "name": "stderr",
     "output_type": "stream",
     "text": [
      "\r",
      "  1%|▍                                    | 291/25593 [00:01<01:57, 215.40it/s]"
     ]
    },
    {
     "name": "stdout",
     "output_type": "stream",
     "text": [
      "0.999978358837\n",
      "0.999999228069\n",
      "0.999999242328\n",
      "0.999999228577\n",
      "0.999999711178\n",
      "0.999998290396\n",
      "0.999999709463\n",
      "0.999997320384\n",
      "0.999998901208\n",
      "0.999999483377\n",
      "0.999998985086\n",
      "0.999997204129\n",
      "0.999999832102\n",
      "0.999999361488\n",
      "0.999999940049\n",
      "0.999998714447\n",
      "0.999999496336\n",
      "0.999999280965\n",
      "0.999999574709\n",
      "0.999999818866\n",
      "0.999999855415\n",
      "0.999999152538\n",
      "0.999998847411\n",
      "0.99999781589\n"
     ]
    },
    {
     "name": "stderr",
     "output_type": "stream",
     "text": [
      "\r",
      "  1%|▍                                    | 315/25593 [00:01<01:56, 216.49it/s]"
     ]
    },
    {
     "name": "stdout",
     "output_type": "stream",
     "text": [
      "0.999999503554\n",
      "0.999998215614\n",
      "0.999999617633\n",
      "0.999998312659\n",
      "0.999997610851\n",
      "0.999999722679\n",
      "0.999999345446\n",
      "0.999999853204\n",
      "0.999999096084\n",
      "0.999999249337\n",
      "0.999996730397\n",
      "0.999999329727\n",
      "0.999999644582\n",
      "0.999997882971\n",
      "0.999999799478\n",
      "0.999998354931\n",
      "0.999996674096\n",
      "0.999997731569\n",
      "0.999999415782\n",
      "0.999998589855\n",
      "0.999997146507\n",
      "0.999998719226\n",
      "0.999999830938\n"
     ]
    },
    {
     "name": "stderr",
     "output_type": "stream",
     "text": [
      "\r",
      "  1%|▍                                    | 338/25593 [00:01<01:56, 216.53it/s]"
     ]
    },
    {
     "name": "stdout",
     "output_type": "stream",
     "text": [
      "0.999998788172\n",
      "0.999997853557\n",
      "0.999999574672\n",
      "0.999999313701\n",
      "0.999999795554\n",
      "0.999998106545\n",
      "0.999999720293\n",
      "0.999999551551\n",
      "0.999999078072\n",
      "0.99999958874\n",
      "0.999999674709\n",
      "0.999999220963\n",
      "0.999997042096\n",
      "0.999996785383\n",
      "0.999999150685\n",
      "0.999998656559\n",
      "0.999997398605\n",
      "0.999998209244\n",
      "0.999999590697\n",
      "0.999997252281\n",
      "0.99999974981\n",
      "0.999999489294\n",
      "0.999999130003\n",
      "0.999999780424\n",
      "0.999999096872\n",
      "0.999999836483\n",
      "0.999999665894\n",
      "0.999999900855\n"
     ]
    },
    {
     "name": "stderr",
     "output_type": "stream",
     "text": [
      "\r",
      "  1%|▌                                    | 366/25593 [00:01<01:54, 219.95it/s]"
     ]
    },
    {
     "name": "stdout",
     "output_type": "stream",
     "text": [
      "0.999999343987\n",
      "0.999999217477\n",
      "0.999993969756\n",
      "0.999999926224\n",
      "0.999999943565\n",
      "0.999999758551\n",
      "0.999999117035\n",
      "0.999999836457\n",
      "0.999999285252\n",
      "0.999998273841\n",
      "0.999997476386\n",
      "0.999999859318\n",
      "0.999998510259\n",
      "0.99999964821\n",
      "0.999999690204\n",
      "0.999999792772\n",
      "0.99999917727\n",
      "0.999999160366\n",
      "0.999997193253\n",
      "0.99999990148\n",
      "0.999999600981\n",
      "0.999999873718\n",
      "0.999999328862\n",
      "0.999999628875\n"
     ]
    },
    {
     "name": "stderr",
     "output_type": "stream",
     "text": [
      "\r",
      "  2%|▌                                    | 390/25593 [00:01<01:54, 219.59it/s]"
     ]
    },
    {
     "name": "stdout",
     "output_type": "stream",
     "text": [
      "0.999998736856\n",
      "0.999999584631\n",
      "0.999998201251\n",
      "0.999998484824\n",
      "0.999999849867\n",
      "0.999998748748\n",
      "0.999999265222\n",
      "0.999998404501\n",
      "0.999999864245\n",
      "0.999999039417\n",
      "0.999998377541\n",
      "0.999999722642\n",
      "0.99999874825\n",
      "0.999997897611\n",
      "0.999991582987\n",
      "0.999999212167\n",
      "0.999997194779\n",
      "0.999997769756\n",
      "0.999999773991\n",
      "0.999998818722\n",
      "0.999999716052\n",
      "0.999998228645\n",
      "0.999999301218\n"
     ]
    },
    {
     "name": "stderr",
     "output_type": "stream",
     "text": [
      "\r",
      "  2%|▌                                    | 413/25593 [00:01<01:54, 219.80it/s]"
     ]
    },
    {
     "name": "stdout",
     "output_type": "stream",
     "text": [
      "0.999998825536\n",
      "0.999997199684\n",
      "0.999998326215\n",
      "0.999999849034\n",
      "0.999998665391\n",
      "0.99999728839\n",
      "0.999999877919\n",
      "0.999999498758\n",
      "0.999999824233\n",
      "0.999998626527\n",
      "0.999997520275\n",
      "0.999999219757\n",
      "0.999999628632\n",
      "0.99999471003\n",
      "0.999999354691\n",
      "0.999998287797\n",
      "0.999999772028\n",
      "0.999999239934\n",
      "0.999999959928\n",
      "0.999997939317\n",
      "0.9999997207\n",
      "0.999999765352\n",
      "0.999997989268\n"
     ]
    },
    {
     "name": "stderr",
     "output_type": "stream",
     "text": [
      "\r",
      "  2%|▋                                    | 436/25593 [00:01<01:54, 220.20it/s]"
     ]
    },
    {
     "name": "stdout",
     "output_type": "stream",
     "text": [
      "0.999998403267\n",
      "0.999999873724\n",
      "0.999998350412\n",
      "0.999999738247\n",
      "0.999998671441\n",
      "0.999998715654\n",
      "0.999998460091\n",
      "0.999999516152\n",
      "0.999973161403\n",
      "0.999999724065\n",
      "0.999999531524\n",
      "0.999999704245\n",
      "0.99998292575\n",
      "0.999999637378\n",
      "0.99999880813\n",
      "0.999999526914\n",
      "0.999997116307\n",
      "0.999999314058\n",
      "0.99999924481\n",
      "0.999999897909\n",
      "0.999998243969\n",
      "0.9999998698\n",
      "0.999998438486\n",
      "0.999998238941\n"
     ]
    },
    {
     "name": "stderr",
     "output_type": "stream",
     "text": [
      "\r",
      "  2%|▋                                    | 460/25593 [00:02<01:53, 220.73it/s]"
     ]
    },
    {
     "name": "stdout",
     "output_type": "stream",
     "text": [
      "0.999999791409\n",
      "0.999999780084\n",
      "0.99999799794\n",
      "0.999999610653\n",
      "0.99999997518\n",
      "0.999999832113\n",
      "0.999999854072\n",
      "0.999999549711\n",
      "0.999998737789\n",
      "0.999999405311\n",
      "0.999999587386\n",
      "0.99999843152\n",
      "0.999998161043\n",
      "0.999998730319\n",
      "0.999998760077\n",
      "0.999999335324\n",
      "0.999999579128\n",
      "0.999999250352\n",
      "0.999997728765\n",
      "0.99999978526\n",
      "0.99999963903\n",
      "0.999997995452\n",
      "0.999996420812\n"
     ]
    },
    {
     "name": "stderr",
     "output_type": "stream",
     "text": [
      "\r",
      "  2%|▋                                    | 483/25593 [00:02<01:54, 218.95it/s]"
     ]
    },
    {
     "name": "stdout",
     "output_type": "stream",
     "text": [
      "0.999998665833\n",
      "0.999998773913\n",
      "0.999999543815\n",
      "0.999997712875\n",
      "0.999997319683\n",
      "0.999999840486\n",
      "0.999999146528\n",
      "0.999999862094\n",
      "0.999999959306\n",
      "0.999999847839\n",
      "0.999998965748\n",
      "0.999999372312\n",
      "0.99999867625\n",
      "0.999998407341\n",
      "0.999998389047\n",
      "0.999993721833\n",
      "0.999999676105\n",
      "0.99999915186\n",
      "0.999995457163\n",
      "0.999999643309\n",
      "0.999997870691\n",
      "0.999999559253\n",
      "0.999998578782\n"
     ]
    },
    {
     "name": "stderr",
     "output_type": "stream",
     "text": [
      "\r",
      "  2%|▋                                    | 506/25593 [00:02<01:54, 219.33it/s]"
     ]
    },
    {
     "name": "stdout",
     "output_type": "stream",
     "text": [
      "0.999999916914\n",
      "0.999999975004\n",
      "0.999999413674\n",
      "0.999997155977\n",
      "0.999998112024\n",
      "0.999999455022\n",
      "0.99999903126\n",
      "0.999991094763\n",
      "0.999999337714\n",
      "0.99999986314\n",
      "0.999999390985\n",
      "0.999999675389\n",
      "0.999998035391\n",
      "0.99999769585\n",
      "0.999998734284\n",
      "0.99999952241\n",
      "0.999999578368\n",
      "0.999997808255\n",
      "0.999999678208\n",
      "0.999999818933\n",
      "0.999994890986\n",
      "0.99999870138\n"
     ]
    },
    {
     "name": "stderr",
     "output_type": "stream",
     "text": [
      "\r",
      "  2%|▊                                    | 528/25593 [00:02<01:55, 217.55it/s]"
     ]
    },
    {
     "name": "stdout",
     "output_type": "stream",
     "text": [
      "0.99999743269\n",
      "0.999998796728\n",
      "0.999997992454\n",
      "0.999994556141\n",
      "0.999999482284\n",
      "0.999999860102\n",
      "0.999999851154\n",
      "0.999995451625\n",
      "0.999999659972\n",
      "0.99999827729\n",
      "0.999999357469\n",
      "0.999997746255\n",
      "0.999998852911\n",
      "0.999999706337\n",
      "0.999996800679\n",
      "0.999999982437\n",
      "0.999998751376\n",
      "0.99999859397\n",
      "0.999998026415\n",
      "0.999999247649\n",
      "0.999998771173\n"
     ]
    },
    {
     "name": "stderr",
     "output_type": "stream",
     "text": [
      "\r",
      "  2%|▊                                    | 549/25593 [00:02<01:55, 217.00it/s]"
     ]
    },
    {
     "name": "stdout",
     "output_type": "stream",
     "text": [
      "0.999999676491\n",
      "0.999999930939\n",
      "0.999998458901\n",
      "0.999998625517\n",
      "0.999999370153\n",
      "0.999998378303\n",
      "0.999999606954\n",
      "0.999993825251\n",
      "0.999999517179\n",
      "0.999999143064\n",
      "0.999999789411\n",
      "0.99999860963\n",
      "0.999999367582\n",
      "0.999999940213\n",
      "0.999999611462\n",
      "0.999997685199\n",
      "0.999999555999\n",
      "0.999998931252\n",
      "0.999998960575\n",
      "0.99999891352\n",
      "0.999999653556\n",
      "0.999998653856\n",
      "0.999999023356\n",
      "0.999999698366\n"
     ]
    },
    {
     "name": "stderr",
     "output_type": "stream",
     "text": [
      "\r",
      "  2%|▊                                    | 573/25593 [00:02<01:55, 217.46it/s]"
     ]
    },
    {
     "name": "stdout",
     "output_type": "stream",
     "text": [
      "0.999997481928\n",
      "0.999999718143\n",
      "0.999999858302\n",
      "0.999997747839\n",
      "0.999999714168\n",
      "0.999999407582\n",
      "0.999998256848\n",
      "0.999996637383\n",
      "0.999999209533\n",
      "0.999998152259\n",
      "0.999999669494\n",
      "0.999999597357\n",
      "0.999999782419\n",
      "0.999998872816\n",
      "0.999999291854\n",
      "0.999998549771\n",
      "0.99999898403\n",
      "0.999999794219\n",
      "0.999999858496\n",
      "0.999998853459\n",
      "0.999999738269\n",
      "0.999999810017\n"
     ]
    },
    {
     "name": "stderr",
     "output_type": "stream",
     "text": [
      "\r",
      "  2%|▊                                    | 595/25593 [00:02<01:55, 217.07it/s]"
     ]
    },
    {
     "name": "stdout",
     "output_type": "stream",
     "text": [
      "0.999997713318\n",
      "0.99999893343\n",
      "0.999999613956\n",
      "0.999999940632\n",
      "0.999998917749\n",
      "0.999999812928\n",
      "0.999998157124\n",
      "0.99999952429\n",
      "0.999999858614\n",
      "0.999999544391\n",
      "0.999998993784\n",
      "0.999998667631\n",
      "0.999999236216\n",
      "0.999999539765\n",
      "0.999999194525\n",
      "0.999999779942\n",
      "0.999998578311\n",
      "0.999998080615\n",
      "0.999999787088\n",
      "0.999998517885\n",
      "0.999999538898\n",
      "0.999995549113\n",
      "0.999999131405\n"
     ]
    },
    {
     "name": "stderr",
     "output_type": "stream",
     "text": [
      "\r",
      "  2%|▉                                    | 618/25593 [00:02<01:54, 217.52it/s]"
     ]
    },
    {
     "name": "stdout",
     "output_type": "stream",
     "text": [
      "0.999999920301\n",
      "0.999999335638\n",
      "0.99999893068\n",
      "0.999998879869\n",
      "0.999999144621\n",
      "0.999997406756\n",
      "0.999999167443\n",
      "0.999998213677\n",
      "0.999998184894\n",
      "0.999999075082\n",
      "0.999997566718\n",
      "0.999998043146\n",
      "0.999992258447\n",
      "0.999998905174\n",
      "0.99999994191\n",
      "0.999999246196\n",
      "0.999999821532\n",
      "0.999995278722\n",
      "0.999999962858\n",
      "0.999999896258\n",
      "0.999999535166\n",
      "0.999998634249\n"
     ]
    },
    {
     "name": "stderr",
     "output_type": "stream",
     "text": [
      "\r",
      "  3%|▉                                    | 640/25593 [00:02<01:55, 216.36it/s]"
     ]
    },
    {
     "name": "stdout",
     "output_type": "stream",
     "text": [
      "0.999999842967\n",
      "0.999997255112\n",
      "0.999999393591\n",
      "0.999995396825\n",
      "0.999998416276\n",
      "0.999983769161\n",
      "0.999999561493\n",
      "0.999999702885\n",
      "0.999999793766\n",
      "0.999996930755\n",
      "0.999998607916\n",
      "0.999999283684\n",
      "0.999990042815\n",
      "0.99999911332\n",
      "0.999998847441\n",
      "0.999999247665\n",
      "0.99999901149\n",
      "0.999999226926\n",
      "0.999999673142\n",
      "0.9999999299\n",
      "0.999996786039\n",
      "0.999990199288\n",
      "0.999999673712\n",
      "0.999999651825\n"
     ]
    },
    {
     "name": "stderr",
     "output_type": "stream",
     "text": [
      "\r",
      "  3%|▉                                    | 664/25593 [00:03<01:54, 217.06it/s]"
     ]
    },
    {
     "name": "stdout",
     "output_type": "stream",
     "text": [
      "0.999999358093\n",
      "0.999999563847\n",
      "0.999998774853\n",
      "0.999999735826\n",
      "0.999999755878\n",
      "0.9999996706\n",
      "0.999992210238\n",
      "0.999998968614\n",
      "0.999999342433\n",
      "0.999996967435\n",
      "0.999999703297\n",
      "0.999999271725\n",
      "0.999999746877\n",
      "0.999999743271\n",
      "0.999999213902\n",
      "0.999999790933\n",
      "0.999999336924\n",
      "0.999999893081\n",
      "0.999999843419\n",
      "0.999999647917\n",
      "0.999998716569\n",
      "0.999998567354\n",
      "0.999999397677\n",
      "0.99999784388\n"
     ]
    },
    {
     "name": "stderr",
     "output_type": "stream",
     "text": [
      "\r",
      "  3%|▉                                    | 688/25593 [00:03<01:54, 217.58it/s]"
     ]
    },
    {
     "name": "stdout",
     "output_type": "stream",
     "text": [
      "0.999998140599\n",
      "0.999999236588\n",
      "0.999998660361\n",
      "0.99999865431\n",
      "0.999998879604\n",
      "0.999998556207\n",
      "0.999997956331\n",
      "0.999999139293\n",
      "0.99999876375\n",
      "0.999999885224\n",
      "0.999998287461\n",
      "0.999994194268\n",
      "0.999998218725\n",
      "0.999999093832\n",
      "0.999997504147\n",
      "0.999998344202\n",
      "0.999999282871\n",
      "0.99996768063\n",
      "0.999998683407\n",
      "0.999999618617\n",
      "0.999997321612\n",
      "0.999999812563\n",
      "0.999994658484\n"
     ]
    },
    {
     "name": "stderr",
     "output_type": "stream",
     "text": [
      "\r",
      "  3%|█                                    | 711/25593 [00:03<01:54, 217.83it/s]"
     ]
    },
    {
     "name": "stdout",
     "output_type": "stream",
     "text": [
      "0.999999165698\n",
      "0.999999901292\n",
      "0.999999825321\n",
      "0.999998491562\n",
      "0.99999975535\n",
      "0.999997309093\n",
      "0.999999061241\n",
      "0.999994731514\n",
      "0.999998868125\n",
      "0.999999735588\n",
      "0.999999838394\n",
      "0.999999139423\n",
      "0.999992879029\n",
      "0.999994142946\n",
      "0.999999697357\n",
      "0.999999750511\n",
      "0.999999372278\n",
      "0.999996074686\n",
      "0.999995713535\n",
      "0.999998997714\n",
      "0.999999267094\n",
      "0.999996821708\n",
      "0.999999431982\n",
      "0.999995392311\n",
      "0.999998534273\n"
     ]
    },
    {
     "name": "stderr",
     "output_type": "stream",
     "text": [
      "\r",
      "  3%|█                                    | 736/25593 [00:03<01:53, 218.72it/s]"
     ]
    },
    {
     "name": "stdout",
     "output_type": "stream",
     "text": [
      "0.999998577012\n",
      "0.9999949753\n",
      "0.999998975222\n",
      "0.99999953254\n",
      "0.999999637869\n",
      "0.999998343767\n",
      "0.999999829004\n",
      "0.99999952972\n",
      "0.999999505134\n",
      "0.999995748763\n",
      "0.999999797661\n",
      "0.99999986772\n",
      "0.999999441636\n",
      "0.999999592096\n"
     ]
    },
    {
     "name": "stderr",
     "output_type": "stream",
     "text": [
      "\n"
     ]
    },
    {
     "ename": "KeyboardInterrupt",
     "evalue": "",
     "output_type": "error",
     "traceback": [
      "\u001b[1;31m---------------------------------------------------------------------------\u001b[0m",
      "\u001b[1;31mKeyboardInterrupt\u001b[0m                         Traceback (most recent call last)",
      "\u001b[1;32m<ipython-input-62-8d6f694406d4>\u001b[0m in \u001b[0;36m<module>\u001b[1;34m()\u001b[0m\n\u001b[0;32m      3\u001b[0m     \u001b[0msummation\u001b[0m \u001b[1;33m=\u001b[0m \u001b[0msum\u001b[0m\u001b[1;33m(\u001b[0m\u001b[0mlist\u001b[0m\u001b[1;33m(\u001b[0m\u001b[0mt\u001b[0m\u001b[1;33m[\u001b[0m\u001b[0me\u001b[0m\u001b[1;33m]\u001b[0m\u001b[1;33m.\u001b[0m\u001b[0mvalues\u001b[0m\u001b[1;33m(\u001b[0m\u001b[1;33m)\u001b[0m\u001b[1;33m)\u001b[0m\u001b[1;33m)\u001b[0m\u001b[1;33m\u001b[0m\u001b[0m\n\u001b[0;32m      4\u001b[0m     \u001b[1;31m#summation += t[e][\"-REST-\"] * (len(f_vocab - in_t) - 1)\u001b[0m\u001b[1;33m\u001b[0m\u001b[1;33m\u001b[0m\u001b[0m\n\u001b[1;32m----> 5\u001b[1;33m     \u001b[0mprint\u001b[0m\u001b[1;33m(\u001b[0m\u001b[0msummation\u001b[0m\u001b[1;33m)\u001b[0m\u001b[1;33m\u001b[0m\u001b[0m\n\u001b[0m",
      "\u001b[1;32mC:\\Users\\Wietze\\Anaconda3\\envs\\py34\\lib\\site-packages\\colorama\\ansitowin32.py\u001b[0m in \u001b[0;36mwrite\u001b[1;34m(self, text)\u001b[0m\n\u001b[0;32m     38\u001b[0m \u001b[1;33m\u001b[0m\u001b[0m\n\u001b[0;32m     39\u001b[0m     \u001b[1;32mdef\u001b[0m \u001b[0mwrite\u001b[0m\u001b[1;33m(\u001b[0m\u001b[0mself\u001b[0m\u001b[1;33m,\u001b[0m \u001b[0mtext\u001b[0m\u001b[1;33m)\u001b[0m\u001b[1;33m:\u001b[0m\u001b[1;33m\u001b[0m\u001b[0m\n\u001b[1;32m---> 40\u001b[1;33m         \u001b[0mself\u001b[0m\u001b[1;33m.\u001b[0m\u001b[0m__convertor\u001b[0m\u001b[1;33m.\u001b[0m\u001b[0mwrite\u001b[0m\u001b[1;33m(\u001b[0m\u001b[0mtext\u001b[0m\u001b[1;33m)\u001b[0m\u001b[1;33m\u001b[0m\u001b[0m\n\u001b[0m\u001b[0;32m     41\u001b[0m \u001b[1;33m\u001b[0m\u001b[0m\n\u001b[0;32m     42\u001b[0m \u001b[1;33m\u001b[0m\u001b[0m\n",
      "\u001b[1;32mC:\\Users\\Wietze\\Anaconda3\\envs\\py34\\lib\\site-packages\\colorama\\ansitowin32.py\u001b[0m in \u001b[0;36mwrite\u001b[1;34m(self, text)\u001b[0m\n\u001b[0;32m    139\u001b[0m     \u001b[1;32mdef\u001b[0m \u001b[0mwrite\u001b[0m\u001b[1;33m(\u001b[0m\u001b[0mself\u001b[0m\u001b[1;33m,\u001b[0m \u001b[0mtext\u001b[0m\u001b[1;33m)\u001b[0m\u001b[1;33m:\u001b[0m\u001b[1;33m\u001b[0m\u001b[0m\n\u001b[0;32m    140\u001b[0m         \u001b[1;32mif\u001b[0m \u001b[0mself\u001b[0m\u001b[1;33m.\u001b[0m\u001b[0mstrip\u001b[0m \u001b[1;32mor\u001b[0m \u001b[0mself\u001b[0m\u001b[1;33m.\u001b[0m\u001b[0mconvert\u001b[0m\u001b[1;33m:\u001b[0m\u001b[1;33m\u001b[0m\u001b[0m\n\u001b[1;32m--> 141\u001b[1;33m             \u001b[0mself\u001b[0m\u001b[1;33m.\u001b[0m\u001b[0mwrite_and_convert\u001b[0m\u001b[1;33m(\u001b[0m\u001b[0mtext\u001b[0m\u001b[1;33m)\u001b[0m\u001b[1;33m\u001b[0m\u001b[0m\n\u001b[0m\u001b[0;32m    142\u001b[0m         \u001b[1;32melse\u001b[0m\u001b[1;33m:\u001b[0m\u001b[1;33m\u001b[0m\u001b[0m\n\u001b[0;32m    143\u001b[0m             \u001b[0mself\u001b[0m\u001b[1;33m.\u001b[0m\u001b[0mwrapped\u001b[0m\u001b[1;33m.\u001b[0m\u001b[0mwrite\u001b[0m\u001b[1;33m(\u001b[0m\u001b[0mtext\u001b[0m\u001b[1;33m)\u001b[0m\u001b[1;33m\u001b[0m\u001b[0m\n",
      "\u001b[1;32mC:\\Users\\Wietze\\Anaconda3\\envs\\py34\\lib\\site-packages\\colorama\\ansitowin32.py\u001b[0m in \u001b[0;36mwrite_and_convert\u001b[1;34m(self, text)\u001b[0m\n\u001b[0;32m    167\u001b[0m             \u001b[0mself\u001b[0m\u001b[1;33m.\u001b[0m\u001b[0mconvert_ansi\u001b[0m\u001b[1;33m(\u001b[0m\u001b[1;33m*\u001b[0m\u001b[0mmatch\u001b[0m\u001b[1;33m.\u001b[0m\u001b[0mgroups\u001b[0m\u001b[1;33m(\u001b[0m\u001b[1;33m)\u001b[0m\u001b[1;33m)\u001b[0m\u001b[1;33m\u001b[0m\u001b[0m\n\u001b[0;32m    168\u001b[0m             \u001b[0mcursor\u001b[0m \u001b[1;33m=\u001b[0m \u001b[0mend\u001b[0m\u001b[1;33m\u001b[0m\u001b[0m\n\u001b[1;32m--> 169\u001b[1;33m         \u001b[0mself\u001b[0m\u001b[1;33m.\u001b[0m\u001b[0mwrite_plain_text\u001b[0m\u001b[1;33m(\u001b[0m\u001b[0mtext\u001b[0m\u001b[1;33m,\u001b[0m \u001b[0mcursor\u001b[0m\u001b[1;33m,\u001b[0m \u001b[0mlen\u001b[0m\u001b[1;33m(\u001b[0m\u001b[0mtext\u001b[0m\u001b[1;33m)\u001b[0m\u001b[1;33m)\u001b[0m\u001b[1;33m\u001b[0m\u001b[0m\n\u001b[0m\u001b[0;32m    170\u001b[0m \u001b[1;33m\u001b[0m\u001b[0m\n\u001b[0;32m    171\u001b[0m \u001b[1;33m\u001b[0m\u001b[0m\n",
      "\u001b[1;32mC:\\Users\\Wietze\\Anaconda3\\envs\\py34\\lib\\site-packages\\colorama\\ansitowin32.py\u001b[0m in \u001b[0;36mwrite_plain_text\u001b[1;34m(self, text, start, end)\u001b[0m\n\u001b[0;32m    173\u001b[0m         \u001b[1;32mif\u001b[0m \u001b[0mstart\u001b[0m \u001b[1;33m<\u001b[0m \u001b[0mend\u001b[0m\u001b[1;33m:\u001b[0m\u001b[1;33m\u001b[0m\u001b[0m\n\u001b[0;32m    174\u001b[0m             \u001b[0mself\u001b[0m\u001b[1;33m.\u001b[0m\u001b[0mwrapped\u001b[0m\u001b[1;33m.\u001b[0m\u001b[0mwrite\u001b[0m\u001b[1;33m(\u001b[0m\u001b[0mtext\u001b[0m\u001b[1;33m[\u001b[0m\u001b[0mstart\u001b[0m\u001b[1;33m:\u001b[0m\u001b[0mend\u001b[0m\u001b[1;33m]\u001b[0m\u001b[1;33m)\u001b[0m\u001b[1;33m\u001b[0m\u001b[0m\n\u001b[1;32m--> 175\u001b[1;33m             \u001b[0mself\u001b[0m\u001b[1;33m.\u001b[0m\u001b[0mwrapped\u001b[0m\u001b[1;33m.\u001b[0m\u001b[0mflush\u001b[0m\u001b[1;33m(\u001b[0m\u001b[1;33m)\u001b[0m\u001b[1;33m\u001b[0m\u001b[0m\n\u001b[0m\u001b[0;32m    176\u001b[0m \u001b[1;33m\u001b[0m\u001b[0m\n\u001b[0;32m    177\u001b[0m \u001b[1;33m\u001b[0m\u001b[0m\n",
      "\u001b[1;32mC:\\Users\\Wietze\\Anaconda3\\envs\\py34\\lib\\site-packages\\ipykernel\\iostream.py\u001b[0m in \u001b[0;36mflush\u001b[1;34m(self)\u001b[0m\n\u001b[0;32m    319\u001b[0m             \u001b[0mevt\u001b[0m \u001b[1;33m=\u001b[0m \u001b[0mthreading\u001b[0m\u001b[1;33m.\u001b[0m\u001b[0mEvent\u001b[0m\u001b[1;33m(\u001b[0m\u001b[1;33m)\u001b[0m\u001b[1;33m\u001b[0m\u001b[0m\n\u001b[0;32m    320\u001b[0m             \u001b[0mself\u001b[0m\u001b[1;33m.\u001b[0m\u001b[0mpub_thread\u001b[0m\u001b[1;33m.\u001b[0m\u001b[0mschedule\u001b[0m\u001b[1;33m(\u001b[0m\u001b[0mevt\u001b[0m\u001b[1;33m.\u001b[0m\u001b[0mset\u001b[0m\u001b[1;33m)\u001b[0m\u001b[1;33m\u001b[0m\u001b[0m\n\u001b[1;32m--> 321\u001b[1;33m             \u001b[0mevt\u001b[0m\u001b[1;33m.\u001b[0m\u001b[0mwait\u001b[0m\u001b[1;33m(\u001b[0m\u001b[1;33m)\u001b[0m\u001b[1;33m\u001b[0m\u001b[0m\n\u001b[0m\u001b[0;32m    322\u001b[0m         \u001b[1;32melse\u001b[0m\u001b[1;33m:\u001b[0m\u001b[1;33m\u001b[0m\u001b[0m\n\u001b[0;32m    323\u001b[0m             \u001b[0mself\u001b[0m\u001b[1;33m.\u001b[0m\u001b[0m_flush\u001b[0m\u001b[1;33m(\u001b[0m\u001b[1;33m)\u001b[0m\u001b[1;33m\u001b[0m\u001b[0m\n",
      "\u001b[1;32mC:\\Users\\Wietze\\Anaconda3\\envs\\py34\\lib\\threading.py\u001b[0m in \u001b[0;36mwait\u001b[1;34m(self, timeout)\u001b[0m\n\u001b[0;32m    544\u001b[0m             \u001b[0msignaled\u001b[0m \u001b[1;33m=\u001b[0m \u001b[0mself\u001b[0m\u001b[1;33m.\u001b[0m\u001b[0m_flag\u001b[0m\u001b[1;33m\u001b[0m\u001b[0m\n\u001b[0;32m    545\u001b[0m             \u001b[1;32mif\u001b[0m \u001b[1;32mnot\u001b[0m \u001b[0msignaled\u001b[0m\u001b[1;33m:\u001b[0m\u001b[1;33m\u001b[0m\u001b[0m\n\u001b[1;32m--> 546\u001b[1;33m                 \u001b[0msignaled\u001b[0m \u001b[1;33m=\u001b[0m \u001b[0mself\u001b[0m\u001b[1;33m.\u001b[0m\u001b[0m_cond\u001b[0m\u001b[1;33m.\u001b[0m\u001b[0mwait\u001b[0m\u001b[1;33m(\u001b[0m\u001b[0mtimeout\u001b[0m\u001b[1;33m)\u001b[0m\u001b[1;33m\u001b[0m\u001b[0m\n\u001b[0m\u001b[0;32m    547\u001b[0m             \u001b[1;32mreturn\u001b[0m \u001b[0msignaled\u001b[0m\u001b[1;33m\u001b[0m\u001b[0m\n\u001b[0;32m    548\u001b[0m \u001b[1;33m\u001b[0m\u001b[0m\n",
      "\u001b[1;32mC:\\Users\\Wietze\\Anaconda3\\envs\\py34\\lib\\threading.py\u001b[0m in \u001b[0;36mwait\u001b[1;34m(self, timeout)\u001b[0m\n\u001b[0;32m    288\u001b[0m         \u001b[1;32mtry\u001b[0m\u001b[1;33m:\u001b[0m    \u001b[1;31m# restore state no matter what (e.g., KeyboardInterrupt)\u001b[0m\u001b[1;33m\u001b[0m\u001b[0m\n\u001b[0;32m    289\u001b[0m             \u001b[1;32mif\u001b[0m \u001b[0mtimeout\u001b[0m \u001b[1;32mis\u001b[0m \u001b[1;32mNone\u001b[0m\u001b[1;33m:\u001b[0m\u001b[1;33m\u001b[0m\u001b[0m\n\u001b[1;32m--> 290\u001b[1;33m                 \u001b[0mwaiter\u001b[0m\u001b[1;33m.\u001b[0m\u001b[0macquire\u001b[0m\u001b[1;33m(\u001b[0m\u001b[1;33m)\u001b[0m\u001b[1;33m\u001b[0m\u001b[0m\n\u001b[0m\u001b[0;32m    291\u001b[0m                 \u001b[0mgotit\u001b[0m \u001b[1;33m=\u001b[0m \u001b[1;32mTrue\u001b[0m\u001b[1;33m\u001b[0m\u001b[0m\n\u001b[0;32m    292\u001b[0m             \u001b[1;32melse\u001b[0m\u001b[1;33m:\u001b[0m\u001b[1;33m\u001b[0m\u001b[0m\n",
      "\u001b[1;31mKeyboardInterrupt\u001b[0m: "
     ]
    }
   ],
   "source": [
    "for e in tqdm(t):\n",
    "    in_t = set(t[e].keys())\n",
    "    summation = sum(list(t[e].values()))\n",
    "    #summation += t[e][\"-REST-\"] * (len(f_vocab - in_t) - 1)\n",
    "    print(summation)"
   ]
  },
  {
   "cell_type": "code",
   "execution_count": null,
   "metadata": {
    "collapsed": true
   },
   "outputs": [],
   "source": []
  }
 ],
 "metadata": {
  "kernelspec": {
   "display_name": "Python 3",
   "language": "python",
   "name": "python3"
  },
  "language_info": {
   "codemirror_mode": {
    "name": "ipython",
    "version": 3
   },
   "file_extension": ".py",
   "mimetype": "text/x-python",
   "name": "python",
   "nbconvert_exporter": "python",
   "pygments_lexer": "ipython3",
   "version": "3.4.5"
  }
 },
 "nbformat": 4,
 "nbformat_minor": 1
}
