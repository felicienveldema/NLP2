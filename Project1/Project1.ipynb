{
 "cells": [
  {
   "cell_type": "code",
   "execution_count": 4,
   "metadata": {
    "collapsed": false
   },
   "outputs": [],
   "source": [
    "from __future__ import print_function, division\n",
    "from collections import defaultdict\n",
    "from tqdm import tqdm\n",
    "import numpy as np\n",
    "import matplotlib.pyplot as plt\n",
    "import pickle"
   ]
  },
  {
   "cell_type": "markdown",
   "metadata": {
    "collapsed": true
   },
   "source": [
    "## IBM Model 1: Generative Process\n",
    "Step 1: Pick an alignmet $a$ with probability  p(a|e,m) = $\\frac{1}{(l+1)^m}$\n",
    "\n",
    "Step 2: pick the French words with probability\n",
    "\n",
    "p(f|a,e,m) = $\\prod^m_{j=1} t(f_j | e_aj )$\n",
    "\n",
    "\n",
    "\n",
    "P(f,a|e, m ) = p(a|e,m) $\\times$ p(f|a,e,m)\n"
   ]
  },
  {
   "cell_type": "code",
   "execution_count": 5,
   "metadata": {
    "collapsed": true
   },
   "outputs": [],
   "source": [
    "#alignment prob per sentence\n",
    "#pseudo code\n",
    "\n",
    "def alignprobIBM1(english, french):\n",
    "    m = len(french.split())\n",
    "    l = len(english.split())\n",
    "    \n",
    "    return 1/((l +1)^m)\n",
    "\n",
    "\n",
    "#todo build a dictionary that takes all the words and the frequencies \n",
    "# or only the allignments"
   ]
  },
  {
   "cell_type": "code",
   "execution_count": 6,
   "metadata": {
    "collapsed": true
   },
   "outputs": [],
   "source": [
    "englishfileloc = 'training/hansards.36.2.e'\n",
    "frenchfileloc = 'training/hansards.36.2.f'\n",
    "\n",
    "#transition dictionary\n",
    "transdict = {}    \n",
    "\n"
   ]
  },
  {
   "cell_type": "code",
   "execution_count": 7,
   "metadata": {
    "collapsed": false,
    "scrolled": true
   },
   "outputs": [],
   "source": [
    "english_sentences = []\n",
    "french_sentences = []\n",
    "with open(englishfileloc, 'r', encoding='utf8') as engf, open(frenchfileloc, 'r', encoding='utf8') as fref:\n",
    "    for line in engf:\n",
    "        english_sentences.append(line.split())\n",
    "    for line in fref:\n",
    "        french_sentences.append(line.split())\n",
    "assert len(english_sentences) == len(french_sentences), 'data mismatch'"
   ]
  },
  {
   "cell_type": "code",
   "execution_count": 8,
   "metadata": {
    "collapsed": false,
    "scrolled": true
   },
   "outputs": [],
   "source": [
    "def EM_IBM1(english, french, max_steps=None):\n",
    "    translate_dict = {}\n",
    "    for _ in range(max_steps):\n",
    "        change = False\n",
    "        \n",
    "        counts = defaultdict(float)\n",
    "        co_counts = defaultdict(float)\n",
    "        for e_s,f_s in tqdm(zip(english, french)):\n",
    "            for i, f in enumerate(f_s):\n",
    "                sum_of_probs = sum([translate_dict.get((e, f), 0.1) for e in e_s]) # the 0.1 is our initialization\n",
    "                for j, e in enumerate(e_s):\n",
    "                    single_prob = translate_dict.get((e,f), 0.1)\n",
    "                    co_counts[(e, f)] += single_prob / sum_of_probs\n",
    "                    counts[e] += single_prob / sum_of_probs\n",
    "        for e, f in co_counts:\n",
    "            new_value = co_counts[(e, f)] / counts[e]\n",
    "            if abs(translate_dict.get((e, f), 1000) - new_value) > 1e-5:\n",
    "                change = True\n",
    "            translate_dict[(e,f)] = new_value\n",
    "        if not change:\n",
    "            break\n",
    "    return translate_dict\n",
    "\n",
    "pickle_filename = 'IBM1_translate_dict.pkl'\n",
    "#translate_dict = EM_IBM1(english_sentences, french_sentences, 8)\n",
    "#with open(pickle_filename, 'wb') as pf:\n",
    "#    pickle.dump(translate_dict, pf)\n",
    "with open(pickle_filename, 'rb') as pf:\n",
    "    translate_dict = pickle.load(pf)"
   ]
  },
  {
   "cell_type": "code",
   "execution_count": 11,
   "metadata": {
    "collapsed": false
   },
   "outputs": [
    {
     "name": "stdout",
     "output_type": "stream",
     "text": [
      "(0.11220320080154243, ('crap', 'mettons'))\n",
      "(0.11159110668878097, ('crap', 'côté'))\n",
      "(0.07240405390476944, ('crap', 'esprit'))\n",
      "(0.06504376787093226, ('crap', 'emballage'))\n",
      "(0.06504376787091752, ('crap', 'comparer'))\n",
      "(0.06504376253729913, ('crap', 'résume'))\n",
      "(0.06484416293538516, ('crap', 'présentées'))\n",
      "(0.06445548593515063, ('crap', 'rendre'))\n",
      "(0.06435224002038081, ('crap', 'étudier'))\n",
      "(0.06404490694074151, ('crap', 'foutaises'))\n",
      "(0.06271266051797754, ('crap', 'compte'))\n",
      "(0.059143150564169786, ('crap', 'sous'))\n",
      "(0.053324053496580606, ('crap', 'parti'))\n",
      "(0.0372623512341336, ('crap', 'alors'))\n",
      "(0.0317117268364449, ('crap', 'nouvel'))\n",
      "(0.0048860421832367445, ('crap', 'mêmes'))\n",
      "(0.0006986856337113329, ('crap', 'de'))\n",
      "(0.000623779506365362, ('crap', 'se'))\n",
      "(0.00040136797117198194, ('crap', 'on'))\n",
      "(6.62508849820368e-05, ('crap', 'a'))\n"
     ]
    }
   ],
   "source": [
    "def print_translation_probs(english_word, transdict):\n",
    "    results = []\n",
    "    for key in translate_dict:\n",
    "        if key[0] == english_word:\n",
    "            results.append((translate_dict[key], key))\n",
    "    results.sort(reverse=True)\n",
    "    for r in results[:20]:\n",
    "        print(r)\n",
    "        \n",
    "print_translation_probs('crap', translate_dict)"
   ]
  },
  {
   "cell_type": "code",
   "execution_count": 20,
   "metadata": {
    "collapsed": false
   },
   "outputs": [
    {
     "name": "stderr",
     "output_type": "stream",
     "text": [
      "37it [00:00, 1803.73it/s]\n"
     ]
    }
   ],
   "source": [
    "def Naacl(englishfile, frenchfile, translate_dict, fname=None):\n",
    "    sentence_no = 1\n",
    "    file = open(fname, 'w')\n",
    "    for english_sent, french_sent in tqdm(zip(open(englishfile), open(frenchfile))):\n",
    "        english_words = english_sent.split()\n",
    "        french_words = french_sent.split()\n",
    "        for index, eword in enumerate(english_words):\n",
    "            position_L1 = index + 1\n",
    "            position_L2 = 0\n",
    "            prior = 0\n",
    "            for indexf, fword in enumerate(french_words):\n",
    "                key = (eword, fword)\n",
    "                prob = translate_dict.get(key,0)\n",
    "                if(prob > prior):\n",
    "                    prior = prob\n",
    "                    position_L2 = indexf + 1\n",
    "            file.write(str(sentence_no)  + \" \" + str(position_L1) + \" \" + str(position_L2) + \" S\\n\")\n",
    "        sentence_no += 1\n",
    "                 \n",
    "englishval = 'validation/dev.e'\n",
    "frenchval = 'validation/dev.f'\n",
    "fname = 'naacltest.txt'\n",
    "\n",
    "Naacl(englishval, frenchval, translate_dict, fname)"
   ]
  },
  {
   "cell_type": "code",
   "execution_count": 36,
   "metadata": {
    "collapsed": false
   },
   "outputs": [
    {
     "name": "stderr",
     "output_type": "stream",
     "text": [
      "231164it [09:59, 385.30it/s]\n",
      "231164it [10:04, 382.66it/s]\n"
     ]
    }
   ],
   "source": [
    "def EM_IBM2(english, french, initial_translation_estimate, max_steps=3):\n",
    "    translate_dict = initial_translation_estimate\n",
    "    jump_dict = {}\n",
    "    for _ in range(max_steps):\n",
    "        counts = defaultdict(int)\n",
    "        co_counts = defaultdict(int)\n",
    "        jump_counts = defaultdict(int)\n",
    "        pos_counts = 0\n",
    "        for e_s,f_s in tqdm(zip(english, french)):\n",
    "            m = len(f_s)\n",
    "            l = len(e_s)\n",
    "            for i, f in enumerate(f_s):\n",
    "                sum_of_probs = 0\n",
    "                for j, e in enumerate(e_s):\n",
    "                    jump_prob = jump_dict.get(get_jump(j,i,l,m), 0.1)\n",
    "                    translate_prob = translate_dict.get((e,f), 0.1)\n",
    "                    sum_of_probs += jump_prob * translate_prob\n",
    "                for j, e in enumerate(e_s):\n",
    "                    jump_prob = jump_dict.get(get_jump(j,i,l,m), 0.1)\n",
    "                    translate_prob = translate_dict.get((e,f), 0.1)\n",
    "                    prob = jump_prob * translate_prob / sum_of_probs\n",
    "                    co_counts[(e,f)] += prob\n",
    "                    counts[e] += prob\n",
    "                    jump_counts[get_jump(j,i,l,m)] += prob\n",
    "                    pos_counts += prob\n",
    "        for e,f in co_counts:\n",
    "            translate_dict[(e,f)] = co_counts[(e, f)] / counts[e]\n",
    "        for jump in jump_counts:\n",
    "            jump_dict[jump] = jump_counts[jump] / pos_counts\n",
    "    return translate_dict, jump_dict\n",
    "\n",
    "def get_jump(eng_pos, fre_pos, eng_len, fre_len):\n",
    "    equivalent_pos = round(fre_pos * eng_len / fre_len)\n",
    "    return eng_pos - equivalent_pos\n",
    "\n",
    "ibm2_transdict, ibm2_jumpdict = EM_IBM2(english_sentences, french_sentences, translate_dict, 2)"
   ]
  },
  {
   "cell_type": "code",
   "execution_count": 37,
   "metadata": {
    "collapsed": false
   },
   "outputs": [
    {
     "name": "stdout",
     "output_type": "stream",
     "text": [
      "(0.39914268816162973, ('agriculture', 'le'))\n",
      "(0.35063301660348195, ('agriculture', 0))\n",
      "(0.2635239689034394, ('agriculture', 'agriculture'))\n",
      "(0.13411341063197404, ('agriculture', 'AGRICULTURE'))\n",
      "(0.10186451580458386, ('agriculture', 'Agriculture'))\n",
      "(0.06069426094185534, ('agriculture', 'agricole'))\n",
      "(0.05270296426635559, ('agriculture', 4))\n",
      "(0.03642755018486908, ('agriculture', 9))\n",
      "(0.03327971407095108, ('agriculture', 10))\n",
      "(0.02979131973866131, ('agriculture', 12))\n",
      "(0.02928878564339327, ('agriculture', 8))\n",
      "(0.029161281626303673, ('agriculture', 14))\n",
      "(0.028378090093545666, ('agriculture', 6))\n",
      "(0.028152195870811685, ('agriculture', 15))\n",
      "(0.02737106957594277, ('agriculture', 7))\n",
      "(0.027258608846119147, ('agriculture', 3))\n",
      "(0.027198123926976358, ('agriculture', 13))\n",
      "(0.024983388193978284, ('agriculture', 11))\n",
      "(0.021357162828538778, ('agriculture', 5))\n",
      "(0.021010054284597367, ('agriculture', 'secteur'))\n"
     ]
    },
    {
     "data": {
      "image/png": "[encoded data removed]",
      "text/plain": [
       "<matplotlib.figure.Figure at 0x271f3386668>"
      ]
     },
     "metadata": {},
     "output_type": "display_data"
    },
    {
     "name": "stdout",
     "output_type": "stream",
     "text": [
      "1.00000000004\n"
     ]
    }
   ],
   "source": [
    "print_translation_probs('agriculture', ibm2_transdict)\n",
    "jumps = np.array(sorted(ibm2_jumpdict.items()))\n",
    "plt.plot(jumps[65:85,0], jumps[65:85,1])\n",
    "plt.show()\n",
    "print(sum(jumps[:,1]))"
   ]
  }
 ],
 "metadata": {
  "kernelspec": {
   "display_name": "Python 3",
   "language": "python",
   "name": "python3"
  },
  "language_info": {
   "codemirror_mode": {
    "name": "ipython",
    "version": 3
   },
   "file_extension": ".py",
   "mimetype": "text/x-python",
   "name": "python",
   "nbconvert_exporter": "python",
   "pygments_lexer": "ipython3",
   "version": "3.6.0"
  }
 },
 "nbformat": 4,
 "nbformat_minor": 0
}
