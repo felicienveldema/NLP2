{
 "cells": [
  {
   "cell_type": "code",
   "execution_count": 10,
   "metadata": {
    "collapsed": true
   },
   "outputs": [],
   "source": [
    "from __future__ import print_function, division\n",
    "from collections import defaultdict, Counter\n",
    "from tqdm import tqdm\n",
    "from aer import read_naacl_alignments, AERSufficientStatistics\n",
    "from random import random\n",
    "import numpy as np\n",
    "import matplotlib.pyplot as plt\n",
    "import pickle\n",
    "import math"
   ]
  },
  {
   "cell_type": "markdown",
   "metadata": {},
   "source": [
    "## Read in the data"
   ]
  },
  {
   "cell_type": "code",
   "execution_count": 11,
   "metadata": {
    "collapsed": true
   },
   "outputs": [],
   "source": [
    "english_train = 'training/hansards.36.2.e'\n",
    "french_train = 'training/hansards.36.2.f'\n",
    "english_val = 'validation/dev.e'\n",
    "french_val = 'validation/dev.f'\n",
    "fname = 'naacltest.txt'\n",
    "\n",
    "def read_data(english_file, french_file):\n",
    "    english_sentences = []\n",
    "    french_sentences = []\n",
    "    with open(english_file, 'r', encoding='utf8') as engf, open(french_file, 'r', encoding='utf8') as fref:\n",
    "        for line in engf:\n",
    "            english_sentences.append([\"NULL\"] + line.split())\n",
    "        for line in fref:\n",
    "            french_sentences.append(line.split())\n",
    "    assert len(english_sentences) == len(french_sentences), 'data mismatch'\n",
    "    return list(zip(english_sentences, french_sentences))\n",
    "\n",
    "training_data = read_data(english_train, french_train)\n",
    "validation_data = read_data(english_val, french_val)"
   ]
  },
  {
   "cell_type": "markdown",
   "metadata": {},
   "source": [
    "# AER Cell"
   ]
  },
  {
   "cell_type": "code",
   "execution_count": 12,
   "metadata": {
    "collapsed": true
   },
   "outputs": [],
   "source": [
    "def test(path, personal_sets=None):\n",
    "    from random import random\n",
    "    # 1. Read in gold alignments\n",
    "    gold_sets = read_naacl_alignments('validation/dev.wa.nonullalign')\n",
    "\n",
    "    # 2. Here you would have the predictions of your own algorithm\n",
    "    if personal_sets is None:\n",
    "        personal_sets = read_naacl_alignments(path)\n",
    "        predictions = []\n",
    "        for s, p in personal_sets:\n",
    "            links = set()\n",
    "            for link in s:\n",
    "                links.add(link)\n",
    "            predictions.append(links)\n",
    "    else:\n",
    "        predictions=personal_sets\n",
    "\n",
    "    # 3. Compute AER\n",
    "    # first we get an object that manages sufficient statistics \n",
    "    metric = AERSufficientStatistics()\n",
    "    # then we iterate over the corpus \n",
    "    for gold, pred in zip(gold_sets, predictions):\n",
    "        metric.update(sure=gold[0], probable=gold[1], predicted=pred)\n",
    "    # AER\n",
    "    print(metric.aer())\n",
    "    return metric.aer()\n",
    "\n",
    "#hardcoded AER test for 5 iterations\n",
    "# for i in range(10):\n",
    "#     test('iteration'+str(i)+'.txt')"
   ]
  },
  {
   "cell_type": "markdown",
   "metadata": {
    "collapsed": true
   },
   "source": [
    "## IBM Model 1: Generative Process\n",
    "Step 1: Pick an alignmet $a$ with probability  p(a|e,m) = $\\frac{1}{(l+1)^m}$\n",
    "\n",
    "Step 2: pick the French words with probability\n",
    "\n",
    "p(f|a,e,m) = $\\prod^m_{j=1} t(f_j | e_aj )$\n",
    "\n",
    "\n",
    "\n",
    "P(f,a|e, m ) = p(a|e,m) $\\times$ p(f|a,e,m)\n"
   ]
  },
  {
   "cell_type": "code",
   "execution_count": 13,
   "metadata": {
    "collapsed": false,
    "scrolled": true
   },
   "outputs": [
    {
     "name": "stdout",
     "output_type": "stream",
     "text": [
      "Initializing translation dictionary.\n",
      "Expectation step 1\n"
     ]
    },
    {
     "name": "stderr",
     "output_type": "stream",
     "text": [
      "100%|█████████████████████████████████████████████████████████████████████████| 231164/231164 [06:09<00:00, 625.96it/s]\n"
     ]
    },
    {
     "name": "stdout",
     "output_type": "stream",
     "text": [
      "Maximisation step 1\n",
      "-567149814.93 -16228428.318431063\n",
      "0.37238095238095237\n",
      "Expectation step 2\n"
     ]
    },
    {
     "name": "stderr",
     "output_type": "stream",
     "text": [
      "100%|█████████████████████████████████████████████████████████████████████████| 231164/231164 [05:23<00:00, 715.41it/s]\n"
     ]
    },
    {
     "name": "stdout",
     "output_type": "stream",
     "text": [
      "Maximisation step 2\n",
      "-562486236.686 -11564850.074550282\n",
      "0.33269230769230773\n",
      "Expectation step 3\n"
     ]
    },
    {
     "name": "stderr",
     "output_type": "stream",
     "text": [
      "100%|█████████████████████████████████████████████████████████████████████████| 231164/231164 [05:14<00:00, 735.43it/s]\n"
     ]
    },
    {
     "name": "stdout",
     "output_type": "stream",
     "text": [
      "Maximisation step 3\n",
      "-560572907.897 -9651521.286288807\n",
      "0.32180595581171945\n",
      "Expectation step 4\n"
     ]
    },
    {
     "name": "stderr",
     "output_type": "stream",
     "text": [
      "100%|█████████████████████████████████████████████████████████████████████████| 231164/231164 [05:04<00:00, 759.64it/s]\n"
     ]
    },
    {
     "name": "stdout",
     "output_type": "stream",
     "text": [
      "Maximisation step 4\n",
      "-559661340.547 -8739953.935999503\n",
      "0.3214629451395573\n",
      "Expectation step 5\n"
     ]
    },
    {
     "name": "stderr",
     "output_type": "stream",
     "text": [
      "100%|█████████████████████████████████████████████████████████████████████████| 231164/231164 [05:13<00:00, 737.37it/s]\n"
     ]
    },
    {
     "name": "stdout",
     "output_type": "stream",
     "text": [
      "Maximisation step 5\n",
      "-559131866.17 -8210479.558801624\n",
      "0.3214629451395573\n",
      "Expectation step 6\n"
     ]
    },
    {
     "name": "stderr",
     "output_type": "stream",
     "text": [
      "100%|█████████████████████████████████████████████████████████████████████████| 231164/231164 [04:37<00:00, 832.37it/s]\n"
     ]
    },
    {
     "name": "stdout",
     "output_type": "stream",
     "text": [
      "Maximisation step 6\n",
      "-558789513.683 -7868127.072443296\n",
      "0.32242540904716077\n",
      "Expectation step 7\n"
     ]
    },
    {
     "name": "stderr",
     "output_type": "stream",
     "text": [
      "100%|█████████████████████████████████████████████████████████████████████████| 231164/231164 [04:37<00:00, 833.70it/s]\n"
     ]
    },
    {
     "name": "stdout",
     "output_type": "stream",
     "text": [
      "Maximisation step 7\n",
      "-558552821.055 -7631434.4442609\n",
      "0.32050048123195385\n",
      "Expectation step 8\n"
     ]
    },
    {
     "name": "stderr",
     "output_type": "stream",
     "text": [
      "100%|█████████████████████████████████████████████████████████████████████████| 231164/231164 [04:32<00:00, 848.39it/s]\n"
     ]
    },
    {
     "name": "stdout",
     "output_type": "stream",
     "text": [
      "Maximisation step 8\n",
      "-558381147.177 -7459760.566183322\n",
      "0.3221153846153846\n",
      "Expectation step 9\n"
     ]
    },
    {
     "name": "stderr",
     "output_type": "stream",
     "text": [
      "100%|█████████████████████████████████████████████████████████████████████████| 231164/231164 [04:35<00:00, 837.95it/s]\n"
     ]
    },
    {
     "name": "stdout",
     "output_type": "stream",
     "text": [
      "Maximisation step 9\n",
      "-558252234.246 -7330847.634522221\n",
      "0.3221153846153846\n",
      "Expectation step 10\n"
     ]
    },
    {
     "name": "stderr",
     "output_type": "stream",
     "text": [
      "100%|█████████████████████████████████████████████████████████████████████████| 231164/231164 [04:33<00:00, 845.21it/s]\n"
     ]
    },
    {
     "name": "stdout",
     "output_type": "stream",
     "text": [
      "Maximisation step 10\n",
      "-558152235.423 -7230848.81215239\n",
      "0.31888246628131023\n"
     ]
    }
   ],
   "source": [
    "def align_all(data, translate_dict, fname=None):\n",
    "    \"\"\"Create alignments for pairs of English and French sentences.\n",
    "    Both save them as sets per sentence and pair and save to file.\n",
    "    \n",
    "    Args:\n",
    "        validation: zipped object with pairs of e and f sentences\n",
    "        translate_dict: dictionary with translation probabilities e to f\n",
    "        fname: filename to save alignments in, in NAACL format\n",
    "\n",
    "    Returns:\n",
    "        list of sets\n",
    "    \"\"\"\n",
    "    file = open(fname, 'w')\n",
    "    alignments = []\n",
    "    for k, (english_words, french_words) in enumerate(data):\n",
    "        alignment = align(english_words, french_words, translate_dict, False)\n",
    "        for pos1, pos2 in alignment:\n",
    "            file.write(\"{} {} {}\\n\".format(str(k+1), str(pos1), str(pos2)))\n",
    "        alignments.append(set(alignment))\n",
    "    return alignments\n",
    "    \n",
    "def align(english_words, french_words, translate_dict, add_null=True):\n",
    "    \"\"\"Align one sentence pair, either with or without the NULL alignments.\n",
    "    \n",
    "    Args:\n",
    "        english_words: list of english words\n",
    "        french_words: list of french words\n",
    "        translate_dict: dictionary with translation probabilities e to f\n",
    "        add_null: boolean to indicate whether NULL alignments should be included\n",
    "\n",
    "    Return:\n",
    "        list of tuples\n",
    "    \"\"\"\n",
    "    alignment = []\n",
    "    for j, fword in enumerate(french_words):\n",
    "        prior = 0.0\n",
    "        alignment_j = 0\n",
    "        for i, eword in enumerate(english_words):\n",
    "            # Only include terms that are in the dictionary\n",
    "            if eword in translate_dict and fword in translate_dict[eword]:\n",
    "                prob = translate_dict[eword][fword]\n",
    "                if prob > prior:\n",
    "                    prior = prob\n",
    "                    alignment_j = i\n",
    "        # Add dependent on whether it's a NULL alignments\n",
    "        if alignment_j != 0 or add_null:\n",
    "            alignment.append((alignment_j, j + 1))\n",
    "    return alignment\n",
    "\n",
    "def log_likelihood(data, translate_dict):\n",
    "    \"\"\"\n",
    "    Args:\n",
    "        data: zipped object with pairs of e and f sentences\n",
    "        translate_dict: dictionary with translation probabilities e to f\n",
    "\n",
    "    Returns:\n",
    "        float: log likelihood\n",
    "    \"\"\"\n",
    "    log_likelihood_nonorm = 0\n",
    "    log_likelihood = 0\n",
    "    for e, f in data:\n",
    "        alignment = align(e, f, translate_dict, True)\n",
    "        prob = 0\n",
    "        prob2 = 0\n",
    "        for j, i in alignment:\n",
    "            prob += math.log(translate_dict[e[j]][f[i-1]]) + -len(f) * np.log(len(e) + 1)\n",
    "            prob2 += math.log(translate_dict[e[j]][f[i-1]])\n",
    "        log_likelihood += prob\n",
    "        log_likelihood_nonorm += prob2\n",
    "    return log_likelihood, log_likelihood_nonorm\n",
    "\n",
    "def initialize_t(data, uniform=True):\n",
    "    \"\"\"Initialise the translation probabilities.\n",
    "    \n",
    "    Args:\n",
    "        data: list of tuples, english and french sentences\n",
    "        uniform: boolean indicating initialisation type\n",
    "\n",
    "    Returns:\n",
    "        defaultdict(Counter)\n",
    "    \"\"\"\n",
    "    co_counts = defaultdict(Counter)\n",
    "    for e, f in data:\n",
    "        for e_word in e:\n",
    "            for f_word in f:\n",
    "                if uniform:\n",
    "                    co_counts[e_word][f_word] = 1\n",
    "                else:\n",
    "                    co_counts[e_word][f_word] = random()\n",
    "    for e_word in co_counts:\n",
    "        normalization_factor = sum(list(co_counts[e_word].values()))\n",
    "        for f_word in co_counts[e_word]:\n",
    "            co_counts[e_word][f_word] = co_counts[e_word][f_word] / normalization_factor\n",
    "    return co_counts\n",
    "\n",
    "def EM_IBM1(data, validation, max_steps=20, translate_dict=None):\n",
    "    print(\"Initializing translation dictionary.\")\n",
    "    if translate_dict is None:\n",
    "        translate_dict = initialize_t(data)\n",
    "    for iteration in range(max_steps):\n",
    "        change = False\n",
    "        fname = 'iteration' + str(iteration) + '.txt'\n",
    "        counts = Counter()\n",
    "        co_counts = defaultdict(Counter)\n",
    "        \n",
    "        print(\"Expectation step {}\".format(iteration + 1))\n",
    "        for e_s, f_s in tqdm(data):\n",
    "            for f in f_s:\n",
    "                sum_of_probs = sum([translate_dict[e2][f] for e2 in e_s])\n",
    "                for e in e_s:\n",
    "                    delta = translate_dict[e][f] / sum_of_probs\n",
    "                    co_counts[e][f] += delta\n",
    "                    counts[e] += delta\n",
    "\n",
    "        print(\"Maximisation step {}\".format(iteration + 1))\n",
    "        for e in co_counts:\n",
    "            for f in co_counts[e]:\n",
    "                new_value = co_counts[e][f] / counts[e]\n",
    "                if abs(translate_dict[e][f] - new_value) > 1e-5:\n",
    "                    change = True\n",
    "                translate_dict[e][f] = new_value\n",
    "        if not change:\n",
    "            break\n",
    "        #writing the iteration files in naacl for AER use\n",
    "        alignments = align_all(validation, translate_dict, fname)\n",
    "        ll, ll2 = log_likelihood(data, translate_dict)\n",
    "        print(ll, ll2)\n",
    "        test(\"\", alignments)\n",
    "    return translate_dict\n",
    "\n",
    "translate_dict = None\n",
    "translate_dict = EM_IBM1(training_data, validation_data, 10, translate_dict)"
   ]
  },
  {
   "cell_type": "code",
   "execution_count": 17,
   "metadata": {
    "collapsed": false
   },
   "outputs": [],
   "source": [
    "def print_translation_probs(english_word, transdict):\n",
    "    results = []\n",
    "    for french_word in translate_dict[english_word]:\n",
    "        results.append((translate_dict[english_word][french_word], french_word))\n",
    "    results.sort(reverse=True)\n",
    "    for r in results[:20]:\n",
    "        print(r)\n",
    "        \n",
    "print_translation_probs('commissioners', translate_dict)"
   ]
  },
  {
   "cell_type": "code",
   "execution_count": 22,
   "metadata": {
    "collapsed": false
   },
   "outputs": [
    {
     "name": "stdout",
     "output_type": "stream",
     "text": [
      "231164\n"
     ]
    },
    {
     "data": {
      "text/plain": [
       "(['NULL', 'Tuesday', ',', 'October', '12', ',', '1999'],\n",
       " ['le', 'mardi', '12', 'octobre', '1999'])"
      ]
     },
     "execution_count": 22,
     "metadata": {},
     "output_type": "execute_result"
    }
   ],
   "source": [
    "print(len(list(training_data)))\n",
    "training_data[3]"
   ]
  },
  {
   "cell_type": "markdown",
   "metadata": {},
   "source": [
    "# IBM 2"
   ]
  },
  {
   "cell_type": "code",
   "execution_count": 24,
   "metadata": {
    "collapsed": false
   },
   "outputs": [
    {
     "name": "stderr",
     "output_type": "stream",
     "text": [
      "\r",
      "  0%|                                                                                       | 0/231164 [00:00<?, ?it/s]"
     ]
    },
    {
     "name": "stdout",
     "output_type": "stream",
     "text": [
      "['NULL', '36', 'th', 'Parliament', ',', '2', 'nd', 'Session']\n",
      "['NULL', 'edited', 'HANSARD', '*', 'NUMBER', '1']\n",
      "['NULL', 'contents']\n",
      "['NULL', 'Tuesday', ',', 'October', '12', ',', '1999']\n",
      "['NULL', 'opening', 'OF', 'THE', 'SECOND', 'SESSION', 'OF', 'THE', '36', 'TH', 'PARLIAMENT']\n",
      "['NULL', 'oaths', 'OF', 'OFFICE']\n",
      "['NULL', 'bill', 'C', '-', '1', '.']\n",
      "['NULL', 'introduction', 'and', 'first', 'reading']\n",
      "['NULL', 'right', 'Hon.', 'Jean', 'Chr', 'é', 'tien']\n",
      "['NULL', 'speech', 'FROM', 'THE', 'THRONE']\n",
      "['NULL', 'the', 'Speaker']\n",
      "['NULL', 'the', 'Right', 'Hon.', 'Jean', 'Chr', 'é', 'tien']\n",
      "['NULL', 'vacancies']\n",
      "['NULL', 'York', 'West']\n",
      "['NULL', 'the', 'Speaker']\n",
      "['NULL', 'mount', 'Royal']\n",
      "['NULL', 'the', 'Speaker']\n",
      "['NULL', 'the', 'Speaker']\n",
      "['NULL', 'committees', 'OF', 'THE', 'WHOLE']\n",
      "['NULL', 'appointment', 'of', 'Deputy', 'Chairman']\n",
      "['NULL', 'right', 'Hon.', 'Jean', 'Chr', 'é', 'tien']\n",
      "['NULL', 'Mr.', 'Randy', 'White']\n",
      "['NULL', 'right', 'Hon.', 'Jean', 'Chr', 'é', 'tien']\n",
      "['NULL', 'supply']\n",
      "['NULL', 'hon.', 'Lucienne', 'Robillard']\n",
      "['NULL', 'committees', 'OF', 'THE', 'HOUSE']\n"
     ]
    },
    {
     "name": "stderr",
     "output_type": "stream",
     "text": [
      "\r",
      "  0%|                                                                             | 26/231164 [00:00<14:58, 257.25it/s]"
     ]
    },
    {
     "name": "stdout",
     "output_type": "stream",
     "text": [
      "['NULL', 'procedure', 'and', 'House', 'Affairs']\n",
      "['NULL', 'hon.', 'Don', 'Boudria']\n",
      "['NULL', 'hon.', 'Don', 'Boudria']\n",
      "['NULL', 'hon.', 'Don', 'Boudria']\n",
      "['NULL', 'speech', 'FROM', 'THE', 'THRONE']\n",
      "['NULL', 'address', 'in', 'Reply']\n",
      "['NULL', 'Mr.', 'Rick', 'Limoges']\n",
      "['NULL', 'Ms.', 'Raymonde', 'Folco']\n",
      "['NULL', 'Mr.', 'Preston', 'Manning']\n",
      "['NULL', 'hon.', 'Don', 'Boudria']\n",
      "['NULL', 'appendix']\n",
      "['NULL', '(', 'official', 'Version', ')']\n",
      "['NULL', 'edited', 'HANSARD', '*', 'NUMBER', '1']\n",
      "['NULL', 'house', 'OF', 'COMMONS']\n",
      "['NULL', 'Tuesday', ',', 'October', '12', ',', '1999']\n",
      "['NULL', 'prayers']\n",
      "['NULL', 'opening', 'OF', 'THE', 'SECOND', 'SESSION', 'OF', 'THE', '36', 'TH', 'PARLIAMENT']\n",
      "['NULL', 'the', 'Parliament', 'which', 'had', 'been', 'prorogued', 'on', 'September', '18', ',', '1999', 'met', 'this', 'day', 'at', 'Ottawa', 'for', 'the', 'dispatch', 'of', 'business', '.']\n",
      "['NULL', 'the', 'House', 'met', 'at', '2.30', 'p.m.', ',', 'the', 'Speaker', 'in', 'the', 'chair', '.']\n",
      "['NULL', 'the', 'Speaker', 'read', 'a', 'communication', 'from', 'the', 'Secretary', 'to', 'the', 'Governor', 'General', 'announcing', 'that', 'Their', 'Excellencies', ',', 'the', 'Governor', 'General', 'and', 'John', 'Ralston', 'Saul', ',', 'would', 'arrive', 'at', 'the', 'Peace', 'Tower', 'at', '2.50', 'p.m.', 'on', 'Tuesday', ',', 'October', '12', ',', '1999', 'and', 'that', 'when', 'it', 'was', 'indicated', 'that', 'all', 'was', 'in', 'readiness', 'Their', 'Excellencies', 'would', 'proceed', 'to', 'the', 'chamber', 'of', 'the', 'Senate', 'to', 'formally', 'open', 'the', 'second', 'session', 'of', 'the', '36', 'th', 'Parliament', 'of', 'Canada', '.']\n"
     ]
    },
    {
     "name": "stderr",
     "output_type": "stream",
     "text": [
      "\r",
      "  0%|                                                                             | 46/231164 [00:00<18:23, 209.42it/s]"
     ]
    },
    {
     "name": "stdout",
     "output_type": "stream",
     "text": [
      "['NULL', 'a', 'message', 'was', 'delivered', 'by', 'the', 'Usher', 'of', 'the', 'Black', 'Rod', 'as', 'follows', ':']\n",
      "['NULL', 'Mr.', 'Speaker', ',', 'it', 'is', 'the', 'pleasure', 'of', 'Her', 'Excellency', 'the', 'Governor', 'General', 'that', 'this', 'honourable', 'House', 'attend', 'her', 'immediately', 'in', 'the', 'Senate', 'chamber', '.']\n",
      "['NULL', 'accordingly', ',', 'the', 'Speaker', 'with', 'the', 'House', 'went', 'up', 'to', 'the', 'Senate', 'chamber', '.']\n",
      "['NULL', 'and', 'being', 'returned', 'to', 'the', 'Commons', 'chamber', ':']\n",
      "['NULL', '*', '*', '*']\n",
      "['NULL', 'oaths', 'OF', 'OFFICE']\n",
      "['NULL', 'right', 'Hon.', 'Jean', 'Chr', 'é', 'tien', '(', 'Prime', 'Minister', ',', 'Lib', '.', ')', 'moved', 'for', 'leave', 'to', 'introduce', 'Bill', 'C', '-', '1', ',', 'an', 'act', 'respecting', 'the', 'administration', 'of', 'oaths', 'of', 'office', '.']\n",
      "['NULL', '(', 'motions', 'deemed', 'adopted', ',', 'bill', 'read', 'the', 'first', 'time', ')']\n",
      "['NULL', '*', '*', '*']\n",
      "['NULL', 'speech', 'FROM', 'THE', 'THRONE']\n",
      "['NULL', 'the', 'Speaker', ':']\n",
      "['NULL', 'honourable', 'Members', 'of', 'the', 'Senate', ',']\n",
      "['NULL', 'members', 'of', 'the', 'House', 'of', 'Commons', ',']\n",
      "['NULL', 'ladies', 'and', 'Gentlemen', ':']\n",
      "['NULL', 'it', 'is', 'an', 'honour', 'for', 'me', ',', 'today', ',', 'to', 'open', 'this', 'Second', 'Session', 'of', 'the', 'Thirty', '-', 'Sixth', 'Parliament', 'of', 'Canada', '.']\n",
      "['NULL', 'i', 'am', 'very', 'aware', 'of', 'the', 'sacrifices', 'that', 'so', 'many', 'of', 'you', 'make', 'in', 'your', 'personal', 'and', 'professional', 'lives', 'in', 'accepting', 'the', 'challenges', 'of', 'public', 'office', '.']\n",
      "['NULL', 'the', 'commitment', 'you', 'have', 'made', 'is', 'one', 'that', 'I', 'share', ',', 'and', 'I', 'look', 'forward', 'to', 'working', 'with', 'you', 'over', 'the', 'next', 'five', 'years', 'in', 'the', 'service', 'of', 'the', 'people', 'of', 'Canada', '.']\n"
     ]
    },
    {
     "name": "stderr",
     "output_type": "stream",
     "text": [
      "\r",
      "  0%|                                                                             | 63/231164 [00:00<19:49, 194.31it/s]"
     ]
    },
    {
     "name": "stdout",
     "output_type": "stream",
     "text": [
      "['NULL', 'today', ',', 'the', 'representatives', 'of', 'the', 'Canadian', 'people', 'gather', 'to', 'open', 'the', 'session', 'of', 'Parliament', 'that', 'will', 'carry', 'the', 'country', 'into', 'the', 'new', 'millennium', '.']\n",
      "['NULL', 'we', 'stand', 'before', 'a', 'new', 'century', 'confident', 'in', 'the', 'promise', 'of', 'Canada', 'for', 'our', 'children', 'and', 'grandchildren', '.']\n",
      "['NULL', 'technology', 'is', 'altering', 'every', 'aspect', 'of', 'our', 'lives', '.']\n",
      "['NULL', 'knowledge', 'and', 'creativity', 'are', 'now', 'the', 'driving', 'force', 'in', 'a', 'new', 'economy', '.']\n",
      "['NULL', 'and', 'collaboration', 'is', 'becoming', 'more', 'essential', 'as', 'the', 'issues', 'facing', 'our', 'diverse', 'society', 'grow', 'in', 'their', 'complexity', '.']\n",
      "['NULL', 'but', 'Canadians', 'will', 'succeed', 'in', 'this', 'changing', 'world', ',', 'just', 'as', 'we', 'have', 'succeeded', 'throughout', 'our', 'country', \"'\", 's', 'history', '.']\n",
      "['NULL', 'the', 'promise', 'of', 'Canada', 'was', 'born', 'in', 'an', 'age', 'when', 'countries', 'were', 'forged', 'through', 'war', 'or', 'revolution', '.']\n",
      "['NULL', 'our', 'nation', \"'\", 's', 'founders', 'chose', 'a', 'unique', 'path', ',', 'which', 'has', 'become', 'the', 'Canadian', 'way', '-', 'creating', 'a', 'country', 'dedicated', 'to', 'peace', ',', 'order', 'and', 'good', 'government', 'for', 'all', 'its', 'citizens', '.']\n",
      "['NULL', 'it', 'took', 'foresight', 'and', 'commitment', 'to', 'break', 'the', 'mould', 'of', 'the', 'nation', '-', 'state', 'founded', 'on', 'a', 'single', 'language', ',', 'culture', 'or', 'religion', '.']\n",
      "['NULL', 'that', 'foresight', 'and', 'commitment', 'have', 'been', 'greatly', 'rewarded', '.']\n",
      "['NULL', 'canada', 'began', 'as', 'a', 'small', 'colony', 'with', 'little', 'industry', 'and', 'no', 'role', 'of', 'its', 'own', 'in', 'global', 'affairs', '.']\n",
      "['NULL', 'over', 'generations', ',', 'individual', 'Canadians', 'built', 'a', 'better', 'future', 'for', 'their', 'families', 'and', 'their', 'communities', '.']\n",
      "['NULL', 'Canadians', 'and', 'their', 'governments', 'overcame', 'barriers', 'of', 'distance', 'and', 'a', 'harsh', 'northern', 'climate', 'to', 'build', 'a', 'national', 'railway', ',', 'a', 'system', 'of', 'highways', ',', 'a', 'postal', 'service', ',', 'and', 'national', 'cultural', 'institutions', ',', 'as', 'well', 'as', 'hospitals', ',', 'universities', ',', 'and', 'other', 'institutions', '.']\n"
     ]
    },
    {
     "name": "stderr",
     "output_type": "stream",
     "text": [
      "\r",
      "  0%|                                                                             | 76/231164 [00:00<21:40, 177.65it/s]"
     ]
    },
    {
     "name": "stdout",
     "output_type": "stream",
     "text": [
      "['NULL', 'Canadians', 'and', 'their', 'governments', 'also', 'put', 'in', 'place', 'a', 'modern', 'social', 'safety', 'net', '.']\n",
      "['NULL', 'together', ',', 'these', 'achievements', 'have', 'provided', 'the', 'foundation', 'for', 'our', 'quality', 'of', 'life', '.']\n",
      "['NULL', 'within', 'a', 'few', 'generations', ',', 'we', 'evolved', 'into', 'an', 'independent', 'nation', 'with', 'an', 'advanced', 'industrialized', 'economy', 'and', 'a', 'voice', 'in', 'the', 'councils', 'of', 'the', 'world', ':', 'the', 'United', 'Nations', ',', 'the', 'G', '-', '8', ',', 'the', 'Organisation', 'for', 'Economic', 'Co', '-', 'operation', 'and', 'Development', ',', 'NATO', ',', 'and', 'many', 'others', '.']\n",
      "['NULL', 'but', 'whenever', 'tyranny', 'has', 'threatened', 'peace', 'and', 'security', ',', 'Canadians', 'have', 'never', 'hesitated', 'to', 'answer', 'the', 'call', '.']\n",
      "['NULL', 'together', 'with', 'our', 'proud', 'Canadian', 'veterans', ',', 'we', 'remember', 'those', 'who', 'paid', 'with', 'their', 'lives', 'at', 'Vimy', 'Ridge', ',', 'on', 'Juno', 'Beach', ',', 'and', 'at', 'Hill', '355', 'in', 'Korea', '.']\n",
      "['NULL', 'in', 'the', 'tradition', 'of', 'the', 'coureurs', 'des', 'bois', ',', 'we', 'have', 'explored', 'the', 'frontiers', 'of', 'science', '.']\n",
      "['NULL', 'from', 'the', 'invention', 'of', 'newsprint', 'to', 'the', 'creation', 'of', 'advanced', 'computer', 'languages', ',', 'Canadian', 'ingenuity', 'has', 'helped', 'to', 'build', 'the', 'information', 'age', '.']\n",
      "['NULL', 'from', 'the', 'discovery', 'of', 'insulin', 'to', 'the', 'earliest', 'pacemaker', ',', 'Canadians', 'have', 'given', 'new', 'life', 'to', 'millions', 'around', 'the', 'world', '.']\n",
      "['NULL', 'canada', 'was', 'a', 'pioneer', 'in', 'the', 'peaceful', 'use', 'of', 'space', ',', 'becoming', 'a', 'leader', 'in', 'satellite', 'communications', 'and', 'remote', '-', 'sensing', 'technologies', '.']\n",
      "['NULL', 'today', ',', 'our', 'astronauts', 'are', 'using', 'Canadian', 'technology', 'to', 'help', 'assemble', 'the', 'International', 'Space', 'Station', '-', 'the', 'largest', 'scientific', 'project', 'in', 'history', '.']\n",
      "['NULL', 'in', 'a', 'complex', 'world', ',', 'diverse', 'approaches', ',', 'skills', 'and', 'ideas', 'are', 'essential', 'to', 'building', 'a', 'higher', 'quality', 'of', 'life', '.']\n",
      "['NULL', 'canada', 'is', 'a', 'bilingual', 'country', 'in', 'which', 'both', 'men', 'and', 'women', 'of', 'many', 'different', 'cultures', ',', 'races', 'and', 'religions', 'participate', 'in', 'economic', ',', 'social', 'and', 'political', 'life', '.']\n",
      "['NULL', 'our', 'diversity', 'is', 'a', 'source', 'of', 'strength', 'and', 'creativity', ',', 'making', 'us', 'modern', 'and', 'forward', '-', 'looking', '.']\n"
     ]
    },
    {
     "name": "stderr",
     "output_type": "stream",
     "text": [
      "\r",
      "  0%|                                                                             | 89/231164 [00:00<23:20, 165.00it/s]"
     ]
    },
    {
     "name": "stdout",
     "output_type": "stream",
     "text": [
      "['NULL', 'our', 'actions', 'and', 'our', 'history', 'make', 'us', 'at', 'home', 'in', 'a', 'world', 'of', 'change', 'and', 'increasing', 'interdependence', '.']\n",
      "['NULL', 'our', 'human', 'talent', ',', 'our', 'values', 'and', 'our', 'commitment', 'to', 'working', 'together', 'will', 'secure', 'Canada', \"'\", 's', 'leadership', 'in', 'the', 'knowledge', '-', 'based', 'economy', '.']\n",
      "['NULL', 'today', ',', 'Canadians', 'can', 'look', 'with', 'pride', 'on', 'Canada', \"'\", 's', 'success', '.']\n",
      "['NULL', 'we', 'have', 'a', 'dynamic', 'economy', ',', 'a', 'strong', 'and', 'democratic', 'society', ',', 'and', 'a', 'sense', 'of', 'community', '.']\n",
      "['NULL', 'we', 'are', 'recognized', 'throughout', 'the', 'world', 'for', 'our', 'quality', 'of', 'life', '.']\n",
      "['NULL', 'we', 'will', 'build', 'a', 'higher', 'quality', 'of', 'life', 'for', 'all', 'Canadians', '-', 'for', 'our', 'children', ',', 'ourselves', ',', 'and', 'our', 'neighbours', '.']\n",
      "['NULL', 'a', 'Strong', 'and', 'United', 'Canada']\n",
      "['NULL', 'a', 'high', 'quality', 'of', 'life', 'for', 'Canadians', 'and', 'a', 'strong', ',', 'united', 'Canada', 'are', 'inseparable', '.']\n",
      "['NULL', 'the', 'Government', 'will', 'continue', 'to', 'take', 'a', 'comprehensive', 'approach', 'to', 'strengthening', 'the', 'unity', 'of', 'our', 'country', '.']\n",
      "['NULL', 'all', 'its', 'actions', 'will', 'serve', 'to', 'strengthen', 'Canada', 'by', 'enhancing', 'the', 'quality', 'of', 'life', 'of', 'Canadians', '.']\n",
      "['NULL', 'our', 'federal', 'system', 'allows', 'us', 'to', 'value', 'the', 'different', 'strengths', 'of', 'each', 'region', 'of', 'our', 'country', '.']\n",
      "['NULL', 'it', 'guarantees', 'all', 'citizens', 'equal', 'rights', 'and', 'freedoms', '.']\n",
      "['NULL', 'and', 'it', 'enables', 'Canada', \"'\", 's', 'wealth', 'to', 'be', 'shared', 'by', 'all', 'citizens', 'no', 'matter', 'where', 'they', 'live', '-', 'from', 'Newfoundland', 'in', 'the', 'east', ',', 'to', 'British', 'Columbia', 'in', 'the', 'west', ',', 'to', 'our', 'newest', 'territory', ',', 'Nunavut', ',', 'in', 'the', 'north', '.']\n",
      "['NULL', 'over', 'the', 'last', 'two', 'Parliaments', ',', 'Canadians', 'have', 'built', 'a', 'foundation', 'for', 'even', 'greater', 'success', '.']\n",
      "['NULL', 'our', 'artists', ',', 'writers', ',', 'musicians', 'and', 'filmmakers', 'draw', 'admiration', 'from', 'around', 'the', 'world', '.']\n"
     ]
    },
    {
     "name": "stderr",
     "output_type": "stream",
     "text": [
      "\r",
      "  0%|                                                                            | 104/231164 [00:00<23:50, 161.50it/s]"
     ]
    },
    {
     "name": "stdout",
     "output_type": "stream",
     "text": [
      "['NULL', 'and', 'Canada', 'itself', 'earns', 'the', 'respect', 'of', 'the', 'community', 'of', 'nations', 'as', 'a', 'symbol', 'of', 'peace', ',', 'democracy', 'and', 'compassion', '.']\n",
      "['NULL', 'the', 'best', 'way', 'to', 'achieve', 'the', 'promise', 'of', 'Canada', 'for', 'every', 'citizen', 'is', 'to', 'work', 'together', 'to', 'build', 'the', 'highest', 'quality', 'of', 'life', 'for', 'all', 'Canadians', '.']\n",
      "['NULL', 'but', 'there', 'are', 'some', 'who', 'would', 'pull', 'us', 'apart', 'rather', 'than', 'bring', 'us', 'together', '.']\n",
      "['NULL', 'even', 'though', 'Quebeckers', 'do', 'not', 'want', 'a', 'third', 'referendum', ',', 'the', 'Government', 'of', 'Quebec', 'continues', 'to', 'talk', 'about', 'holding', 'another', 'one', '.']\n",
      "['NULL', 'the', 'Government', 'of', 'Canada', 'therefore', 'reaffirms', 'the', 'commitment', 'it', 'has', 'made', 'to', 'Quebeckers', 'and', 'all', 'other', 'Canadians', 'that', 'the', 'principle', 'of', 'clarity', ',', 'as', 'set', 'out', 'by', 'the', 'Supreme', 'Court', 'of', 'Canada', ',', 'will', 'be', 'respected', '.']\n",
      "['NULL', 'this', 'requires', 'national', 'will', ',', 'national', 'strategies', 'and', 'partnerships', 'across', 'the', 'country', '.']\n",
      "['NULL', 'citizens', 'and', 'governments', 'must', 'collaboratively', 'build', 'an', 'even', 'stronger', 'and', 'more', 'united', 'Canada', ',', 'a', 'Canada', 'that', 'remains', 'an', 'example', 'to', 'the', 'world', '.']\n",
      "['NULL', 'Canadians', 'expect', 'their', 'national', 'government', 'to', 'focus', 'on', 'areas', 'where', 'it', 'can', 'and', 'must', 'make', 'a', 'difference', '.']\n",
      "['NULL', 'and', 'they', 'want', 'this', 'done', 'in', 'the', 'Canadian', 'way', '-', 'working', 'together', ',', 'balancing', 'individual', 'and', 'government', 'action', ',', 'and', 'listening', 'to', 'citizens', '.']\n",
      "['NULL', 'Canadians', 'expect', 'their', 'Government', 'to', 'be', 'fiscally', 'prudent', ',', 'to', 'reduce', 'the', 'debt', 'burden', ',', 'to', 'cut', 'taxes', ',', 'and', 'to', 'pursue', 'the', 'policies', 'necessary', 'for', 'a', 'strong', 'society', '.']\n",
      "['NULL', 'the', 'emerging', 'global', 'marketplace', 'offers', 'an', 'enormous', 'opportunity', 'to', 'create', 'more', 'Canadian', 'jobs', ',', 'more', 'Canadian', 'growth', 'and', 'more', 'Canadian', 'influence', 'in', 'the', 'world', '.']\n",
      "['NULL', 'achieving', 'a', 'higher', 'quality', 'of', 'life', 'requires', 'a', 'comprehensive', 'strategy', 'to', 'accelerate', 'the', 'transition', 'to', 'the', 'knowledge', '-', 'based', 'economy', ',', 'promote', 'our', 'interests', 'and', 'project', 'our', 'values', 'in', 'the', 'world', '.']\n",
      "['NULL', 'together', ',', 'we', 'will', 'strive', 'for', 'excellence', '.']\n"
     ]
    },
    {
     "name": "stderr",
     "output_type": "stream",
     "text": [
      "\r",
      "  0%|                                                                            | 117/231164 [00:00<25:01, 153.84it/s]"
     ]
    },
    {
     "name": "stdout",
     "output_type": "stream",
     "text": [
      "['NULL', 'this', 'demands', 'that', 'we', 'collaborate', 'with', 'our', 'partners', 'to', ':']\n",
      "['NULL', 'develop', 'our', 'children', 'and', 'youth', ',', 'our', 'leaders', 'for', 'the', '21', 'st', 'century', ';']\n",
      "['NULL', 'build', 'a', 'dynamic', 'economy', ';']\n",
      "['NULL', 'strengthen', 'health', 'and', 'quality', 'care', 'for', 'Canadians', ';']\n",
      "['NULL', 'ensure', 'the', 'quality', 'of', 'our', 'environment', ';']\n",
      "['NULL', 'build', 'stronger', 'communities', ';']\n",
      "['NULL', 'strengthen', 'the', 'relationship', 'with', 'Canada', \"'\", 's', 'Aboriginal', 'peoples', ';', 'and']\n",
      "['NULL', 'advance', 'Canada', \"'\", 's', 'place', 'in', 'the', 'world', '.']\n",
      "['NULL', 'our', 'Children']\n",
      "['NULL', 'because', 'of', 'the', 'changing', 'nature', 'of', 'the', 'world', 'economy', ',', 'the', 'prospects', 'for', 'a', 'high', 'quality', 'of', 'life', 'in', 'any', 'country', 'will', 'depend', '-', 'as', 'never', 'before', '-', 'on', 'having', 'a', 'population', 'that', 'is', 'adaptable', ',', 'resilient', 'and', 'ready', 'to', 'learn', 'throughout', 'life', '.']\n",
      "['NULL', 'the', 'foundation', 'for', 'this', 'is', 'laid', 'in', 'the', 'very', 'early', 'years', '.']\n",
      "['NULL', 'no', 'commitment', 'we', 'make', 'today', 'will', 'be', 'more', 'important', 'for', 'the', 'long', '-', 'term', 'prosperity', 'and', 'well', '-', 'being', 'of', 'our', 'society', 'than', 'the', 'commitment', 'to', 'invest', 'our', 'efforts', 'in', 'very', 'young', 'children', '.']\n",
      "['NULL', 'parents', 'and', 'families', 'have', 'the', 'primary', 'responsibility', 'for', 'the', 'care', 'of', 'their', 'children', '.']\n",
      "['NULL', 'but', 'all', 'of', 'society', 'must', 'work', 'together', 'to', 'ensure', 'that', 'our', 'children', 'develop', 'the', 'abilities', 'to', 'succeed', '.']\n",
      "['NULL', 'the', 'Government', 'will', 'extend', 'and', 'make', 'more', 'accessible', 'Employment', 'Insurance', 'benefits', 'for', 'parental', 'leave', ',', 'to', 'help', 'parents', 'take', 'more', 'time', 'from', 'work', 'to', 'spend', 'with', 'their', 'children', '.']\n",
      "['NULL', 'it', 'will', 'make', 'its', 'own', 'workplace', 'policies', 'and', 'those', 'of', 'federally', 'regulated', 'employers', 'more', 'family', 'friendly', '.']\n",
      "['NULL', 'through', 'further', 'tax', 'relief', ',', 'it', 'will', 'put', 'more', 'dollars', 'in', 'the', 'hands', 'of', 'families', 'with', 'children', '.']\n"
     ]
    },
    {
     "name": "stderr",
     "output_type": "stream",
     "text": [
      "\r",
      "  0%|                                                                            | 134/231164 [00:00<24:52, 154.80it/s]"
     ]
    },
    {
     "name": "stdout",
     "output_type": "stream",
     "text": [
      "['NULL', 'and', ',', 'with', 'its', 'provincial', 'and', 'territorial', 'partners', ',', 'it', 'will', 'work', 'to', 'reform', 'family', 'law', 'and', 'strengthen', 'supports', 'provided', 'to', 'families', 'to', 'ensure', 'that', ',', 'in', 'cases', 'of', 'separation', 'or', 'divorce', ',', 'the', 'needs', 'and', 'best', 'interests', 'of', 'children', 'come', 'first', '.']\n",
      "['NULL', 'federal', ',', 'provincial', 'and', 'territorial', 'governments', 'are', 'developing', 'together', 'the', 'National', 'Children', \"'\", 's', 'Agenda', '.']\n",
      "['NULL', 'as', 'part', 'of', 'this', 'work', ',', 'it', 'is', 'the', 'Government', \"'\", 's', 'objective', 'to', 'reach', 'an', 'agreement', 'among', 'governments', 'by', 'December', '2000', 'on', 'a', 'national', 'action', 'plan', 'to', 'further', 'support', 'parents', 'and', 'families', '.']\n",
      "['NULL', 'this', 'plan', 'will', 'be', 'consistent', 'with', 'the', 'Social', 'Union', 'Framework', 'Agreement', '.']\n",
      "['NULL', 'it', 'will', 'set', 'out', 'common', 'principles', ',', 'objectives', 'and', 'fiscal', 'parameters', 'for', 'all', 'governments', 'to', 'increase', 'resources', 'and', 'further', 'strengthen', 'supports', 'for', 'early', 'childhood', 'development', '.']\n",
      "['NULL', 'to', 'make', 'it', 'easier', 'for', 'families', 'to', 'break', 'the', 'cycle', 'of', 'poverty', ',', 'the', 'federal', ',', 'provincial', 'and', 'territorial', 'governments', 'also', 'established', 'the', 'National', 'Child', 'Benefit', '.']\n",
      "['NULL', 'the', 'Government', 'of', 'Canada', 'is', 'already', 'investing', 'an', 'additional', '$', '1.7', 'billion', 'annually', 'in', 'low', '-', 'income', 'families', 'with', 'children', ',', 'while', 'the', 'provinces', 'and', 'territories', 'are', 'investing', 'in', 'complementary', 'services', '.']\n",
      "['NULL', 'the', 'Government', 'wants', 'no', 'family', 'to', 'have', 'to', 'choose', 'between', 'a', 'job', 'and', 'benefits', 'for', 'their', 'children', '.']\n",
      "['NULL', 'therefore', ',', 'by', '2002', ',', 'the', 'Government', 'will', 'make', 'a', 'third', 'significant', 'investment', 'in', 'the', 'National', 'Child', 'Benefit', ',', 'while', 'seeking', 'a', 'commitment', 'from', 'its', 'provincial', 'and', 'territorial', 'partners', 'to', 'increase', 'their', 'investment', 'in', 'services', 'for', 'families', 'with', 'children', '.']\n",
      "['NULL', 'young', 'Canadians']\n",
      "['NULL', 'young', 'Canadians', 'are', 'the', 'leaders', 'of', 'tomorrow', '.']\n",
      "['NULL', 'already', ',', 'they', 'are', 'at', 'home', 'in', 'the', 'wired', 'world', '.']\n",
      "['NULL', 'they', 'have', 'energy', ',', 'ideas', 'and', 'technological', 'savvy', ',', 'and', 'they', 'want', 'to', 'contribute', 'to', 'building', 'their', 'country', 'in', 'the', '21', 'st', 'century', '.']\n",
      "['NULL', 'in', 'our', 'global', 'and', 'connected', 'world', ',', 'young', 'Canadians', 'are', 'acquiring', 'knowledge', 'and', 'skills', 'at', 'an', 'earlier', 'age', '.']\n"
     ]
    },
    {
     "name": "stderr",
     "output_type": "stream",
     "text": [
      "\r",
      "  0%|                                                                            | 148/231164 [00:01<26:29, 145.35it/s]"
     ]
    },
    {
     "name": "stdout",
     "output_type": "stream",
     "text": [
      "['NULL', 'the', 'Government', 'will', 'focus', 'on', 'providing', 'young', 'people', 'with', 'more', 'opportunities', 'to', 'connect', 'to', 'the', 'Canadian', 'experience', ',', 'to', 'view', 'their', 'country', 'in', 'all', 'its', 'splendour', ',', 'to', 'gain', 'a', 'first', '-', 'hand', 'understanding', 'of', 'the', 'different', 'regions', ',', 'and', 'to', 'be', 'challenged', 'by', 'what', 'they', 'learn', 'from', 'their', 'fellow', 'citizens', 'across', 'this', 'land', '.']\n",
      "['NULL', 'the', 'Government', 'will', ':']\n",
      "['NULL', 'draw', 'on', 'the', 'expertise', 'of', 'young', 'Canadians', 'to', 'help', 'connect', 'rural', 'and', 'urban', 'communities', 'to', 'the', 'information', 'highway', ',', 'by', 'hiring', 'them', 'to', 'put', 'in', 'place', 'additional', 'Internet', 'access', 'sites', 'for', 'public', 'use', ';']\n",
      "['NULL', 'create', 'a', 'single', '-', 'window', 'service', '-', 'Exchanges', 'Canada', '-', 'to', 'give', '100,000', 'young', 'Canadians', 'every', 'year', 'the', 'chance', 'to', 'learn', 'about', 'another', 'part', 'of', 'the', 'country', ';']\n",
      "['NULL', 'ensure', 'that', 'younger', 'Canadians', '-', 'from', 'age', '13', '-', 'are', 'given', 'an', 'opportunity', 'to', 'apply', 'their', 'creative', 'abilities', ',', 'by', 'providing', 'them', 'with', 'a', 'chance', 'to', 'produce', 'their', '\"', 'first', 'works', '\"', 'using', 'traditional', 'approaches', 'and', 'new', 'technologies', 'in', 'the', 'arts', ',', 'cultural', ',', 'digital', 'and', 'other', 'industries', ';']\n",
      "['NULL', 'actively', 'engage', 'tens', 'of', 'thousands', 'of', 'young', 'Canadian', 'volunteers', 'to', 'participate', 'in', 'community', 'and', 'national', 'environmental', 'projects', 'and', 'to', 'help', 'others', 'improve', 'their', 'literacy', 'skills', ';', 'and']\n",
      "['NULL', 'enable', 'young', 'Canadians', 'to', 'apply', 'their', 'energy', 'and', 'talents', 'overseas', ',', 'by', 'participating', 'in', 'international', 'internship', 'programs', 'and', 'helping', 'developing', 'countries', 'get', 'connected', 'to', 'the', 'Internet', '.']\n",
      "['NULL', 'in', 'addition', ',', 'the', 'Government', 'will', 'continue', 'to', 'place', 'a', 'priority', 'on', 'providing', 'young', 'Canadians', 'with', 'career', 'information', ',', 'access', 'to', 'work', 'experience', ',', 'and', 'learning', 'opportunities', '.']\n",
      "['NULL', 'a', 'Dynamic', 'Economy', 'for', 'the', '21', 'st', 'Century']\n",
      "['NULL', 'in', 'the', 'global', ',', 'knowledge', '-', 'based', 'economy', ',', 'the', 'advantage', 'goes', 'to', 'countries', 'that', 'are', 'innovative', ',', 'have', 'high', 'levels', 'of', 'productivity', ',', 'quickly', 'adopt', 'the', 'latest', 'technology', ',', 'invest', 'in', 'skills', 'development', 'for', 'their', 'citizens', ',', 'and', 'seek', 'out', 'new', 'opportunities', 'around', 'the', 'world', '.']\n",
      "['NULL', 'Canadians', 'have', 'built', 'a', 'strong', 'and', 'dynamic', 'economy', '.']\n",
      "['NULL', 'it', 'is', 'the', 'cornerstone', 'of', 'our', 'quality', 'of', 'life', '-', 'providing', 'Canada', 'with', 'the', 'means', 'to', 'continue', 'building', 'a', 'more', 'equitable', 'society', ',', 'a', 'healthier', 'population', ',', 'and', 'stronger', 'communities', '.']\n",
      "['NULL', 'in', 'the', 'space', 'of', 'only', 'a', 'few', 'years', ',', 'our', 'nation', \"'\", 's', 'finances', 'have', 'gone', 'from', 'deficits', 'and', 'debt', 'to', 'balanced', 'budgets', ',', 'with', 'low', 'inflation', 'and', 'low', 'interest', 'rates', '.']\n"
     ]
    },
    {
     "name": "stderr",
     "output_type": "stream",
     "text": [
      "\r",
      "  0%|                                                                            | 161/231164 [00:01<30:25, 126.53it/s]"
     ]
    },
    {
     "name": "stdout",
     "output_type": "stream",
     "text": [
      "['NULL', 'laws', 'and', 'regulations', 'have', 'been', 'modernized', 'and', 'the', 'role', 'of', 'government', 'in', 'business', 'decisions', 'has', 'been', 'reduced', '.']\n",
      "['NULL', 'the', 'Government', 'will', 'continue', 'to', 'build', 'a', 'better', 'environment', 'for', 'economic', 'growth', 'and', 'enhanced', 'productivity', 'by', 'reducing', 'the', 'debt', 'burden', ',', 'cutting', 'taxes', ',', 'and', 'making', 'strategic', 'investments', '.']\n",
      "['NULL', 'such', 'investments', 'will', 'help', 'small', 'businesses', 'grow', ',', 'encourage', 'trade', ',', 'support', 'citizens', 'in', 'developing', 'the', 'skills', 'they', 'need', ',', 'and', 'ensure', 'that', 'Canada', 'has', 'modern', 'infrastructure', '.']\n",
      "['NULL', 'the', 'Government', 'is', 'committed', 'to', 'prudent', 'fiscal', 'management', '.']\n",
      "['NULL', 'it', 'will', 'never', 'let', 'the', 'nation', \"'\", 's', 'finances', 'get', 'out', 'of', 'control', 'again', '.']\n",
      "['NULL', 'it', 'will', 'keep', 'the', 'ratio', 'of', 'debt', 'to', 'GDP', 'on', 'a', 'permanent', 'downward', 'track', '.']\n",
      "['NULL', 'it', 'will', 'deliver', 'on', 'the', 'commitment', 'it', 'made', 'at', 'the', 'beginning', 'of', 'this', 'Parliament', 'to', 'devote', 'half', 'the', 'budget', 'surplus', 'to', 'debt', 'repayment', 'and', 'tax', 'relief', ',', 'and', 'the', 'other', 'half', 'to', 'investments', 'that', 'address', 'the', 'social', 'and', 'economic', 'needs', 'of', 'Canadians', '.']\n",
      "['NULL', 'tax', 'reduction', 'is', 'a', 'key', 'component', 'of', 'a', 'strategy', 'to', 'increase', 'individual', 'incomes', 'and', 'to', 'ensure', 'an', 'economy', 'that', 'produces', 'the', 'growth', 'and', 'wealth', 'which', 'enable', 'those', 'public', 'and', 'private', 'investments', 'necessary', 'for', 'a', 'high', 'quality', 'of', 'life', '.']\n",
      "['NULL', 'in', 'its', 'next', 'budget', ',', 'the', 'Government', 'will', 'set', 'out', 'a', 'multi', '-', 'year', 'plan', 'for', 'further', 'tax', 'reduction', '.']\n",
      "['NULL', 'increased', 'Trade', 'and', 'Investment']\n",
      "['NULL', 'canada', \"'\", 's', 'economy', 'is', 'more', 'open', 'than', 'any', 'of', 'the', 'leading', 'industrialized', 'countries', '.']\n"
     ]
    },
    {
     "name": "stderr",
     "output_type": "stream",
     "text": [
      "\r",
      "  0%|                                                                            | 172/231164 [00:01<31:34, 121.90it/s]"
     ]
    },
    {
     "name": "stdout",
     "output_type": "stream",
     "text": [
      "['NULL', 'we', 'are', 'blessed', 'with', 'a', 'population', 'that', 'comes', 'from', 'countries', 'all', 'over', 'the', 'world', '.']\n",
      "['NULL', 'foreign', 'markets', 'for', 'our', 'goods', 'and', 'services', 'provide', 'us', 'with', 'new', 'opportunities', '.']\n",
      "['NULL', 'foreign', 'investment', 'provides', 'us', 'with', 'capital', ',', 'new', 'ideas', ',', 'new', 'technologies', ',', 'and', 'innovative', 'business', 'practices', '.']\n",
      "['NULL', 'to', 'build', 'on', 'Canada', \"'\", 's', 'advantage', ',', 'the', 'Government', 'will', 'increase', 'its', 'trade', 'promotion', 'in', 'strategic', 'sectors', 'with', 'high', 'export', 'potential', '-', 'sectors', 'ranging', 'from', 'biotechnology', 'and', 'environmental', 'and', 'information', 'technology', 'to', 'tourism', ',', 'culture', 'and', 'health', '.']\n",
      "['NULL', 'it', 'will', 'also', 'continue', 'to', 'support', 'innovation', 'and', 'the', 'development', 'of', 'new', 'technologies', 'in', 'leading', 'export', 'sectors', 'such', 'as', 'agriculture', ',', 'agri', '-', 'food', 'and', 'natural', 'resources', '.']\n",
      "['NULL', 'it', 'will', 'launch', 'Investment', 'Team', 'Canada', '-', 'a', 'co', '-', 'ordinated', 'effort', 'by', 'all', 'governments', 'and', 'the', 'private', 'sector', 'to', 'make', 'the', 'international', 'community', 'more', 'aware', 'of', 'the', 'unique', 'opportunities', 'for', 'investment', 'and', 'growth', 'in', 'Canada', '.']\n",
      "['NULL', 'the', 'Government', 'will', 'also', 'modernize', 'legislation', 'to', 'make', 'it', 'easier', 'for', 'global', 'corporations', 'to', 'locate', 'their', 'headquarters', 'in', 'Canada', '.']\n",
      "['NULL', 'in', 'addition', ',', 'the', 'Government', 'will', 'work', 'with', 'its', 'partners', 'in', 'the', 'hemisphere', 'toward', 'the', 'establishment', 'of', 'the', 'Free', 'Trade', 'Area', 'of', 'the', 'Americas', 'by', '2005', '.']\n",
      "['NULL', 'skills', 'and', 'Knowledge', 'for', 'the', '21', 'st', 'Century']\n",
      "['NULL', 'a', 'skilled', 'workforce', 'and', 'a', 'capacity', 'to', 'innovate', 'continuously', 'are', 'crucial', 'building', 'blocks', 'of', 'a', 'successful', '21', 'st', 'century', 'economy', '.']\n"
     ]
    },
    {
     "name": "stderr",
     "output_type": "stream",
     "text": [
      "\r",
      "  0%|                                                                            | 182/231164 [00:01<32:59, 116.66it/s]"
     ]
    },
    {
     "name": "stdout",
     "output_type": "stream",
     "text": [
      "['NULL', 'over', 'the', 'last', 'three', 'years', ',', 'the', 'Government', 'has', 'put', 'in', 'place', 'a', 'strategy', 'to', 'build', 'on', 'Canada', \"'\", 's', 'advantage', 'as', 'the', 'country', 'with', 'the', 'most', 'highly', 'educated', 'workforce', 'in', 'the', 'world', '.']\n",
      "['NULL', 'it', 'has', 'made', 'it', 'easier', 'to', 'save', 'for', 'a', 'child', \"'\", 's', 'education', '.']\n",
      "['NULL', 'it', 'will', 'make', 'college', 'and', 'university', 'more', 'affordable', 'through', 'Canada', 'Millennium', 'Scholarships', '.']\n",
      "['NULL', 'it', 'has', 'improved', 'student', 'debt', 'relief', 'and', 'provided', 'better', 'tax', 'assistance', 'to', 'finance', 'lifelong', 'learning', '.']\n",
      "['NULL', 'we', 'will', 'continue', 'to', 'build', 'on', 'this', 'strategy', '.']\n",
      "['NULL', 'the', 'Government', 'will', 'forge', 'partnerships', 'with', 'other', 'governments', ',', 'public', '-', 'and', 'private', '-', 'sector', 'organizations', ',', 'and', 'Canadian', 'men', 'and', 'women', 'to', 'establish', 'a', 'national', 'action', 'plan', 'on', 'skills', 'and', 'learning', 'for', 'the', '21', 'st', 'century', '.']\n",
      "['NULL', 'this', 'plan', 'will', 'focus', 'on', 'lifelong', 'learning', ',', 'address', 'the', 'challenge', 'of', 'poor', 'literacy', 'among', 'adults', ',', 'and', 'provide', 'citizens', 'with', 'the', 'information', 'they', 'need', 'to', 'make', 'good', 'decisions', 'about', 'developing', 'their', 'skills', '.']\n",
      "['NULL', 'over', 'the', 'next', 'two', 'years', ',', 'the', 'Government', 'will', 'work', 'with', 'its', 'partners', 'to', ':']\n",
      "['NULL', 'make', 'it', 'easier', 'for', 'Canadians', 'to', 'finance', 'lifelong', 'learning', ';', 'and']\n"
     ]
    },
    {
     "name": "stderr",
     "output_type": "stream",
     "text": [
      "\r",
      "  0%|                                                                            | 191/231164 [00:01<33:51, 113.68it/s]"
     ]
    },
    {
     "name": "stdout",
     "output_type": "stream",
     "text": [
      "['NULL', 'provide', 'a', 'single', 'window', 'to', 'Canada', '-', 'wide', 'information', 'about', 'labour', 'markets', ',', 'skills', 'requirements', 'and', 'training', 'opportunities', '-', 'on', 'the', 'Internet', ',', 'over', 'the', 'telephone', 'or', 'in', 'person', 'in', 'communities', 'across', 'the', 'country', '.']\n",
      "['NULL', 'to', 'ensure', 'that', 'the', 'Public', 'Service', 'of', 'Canada', 'remains', 'a', 'strong', ',', 'representative', ',', 'professional', 'and', 'non', '-', 'partisan', 'national', 'institution', 'that', 'provides', 'Canadians', 'the', 'highest', 'quality', 'service', 'into', 'the', '21', 'st', 'century', ',', 'the', 'Government', 'will', 'also', 'focus', 'on', 'the', 'recruitment', ',', 'retention', 'and', 'continuous', 'learning', 'of', 'a', 'skilled', 'federal', 'workforce', '.']\n",
      "['NULL', 'infrastructure', 'for', 'the', '21', 'st', 'Century']\n",
      "['NULL', 'achieving', 'this', 'objective', 'will', 'require', 'new', 'types', 'of', 'infrastructure', '.']\n",
      "['NULL', 'knowledge', 'Infrastructure']\n",
      "['NULL', 'improving', 'Canada', \"'\", 's', 'knowledge', 'infrastructure', 'means', 'supporting', 'a', 'new', 'generation', 'of', 'leaders', ',', 'attracting', 'the', 'best', 'researchers', ',', 'and', 'encouraging', 'our', 'graduates', 'to', 'put', 'their', 'talents', 'to', 'work', 'here', 'at', 'home', '.']\n",
      "['NULL', 'the', 'Government', 'will', 'introduce', 'the', 'legislation', 'necessary', 'to', 'create', 'the', 'Canadian', 'Institutes', 'of', 'Health', 'Research', '.']\n",
      "['NULL', 'these', 'institutes', 'will', 'provide', 'a', 'model', 'for', 'world', '-', 'leading', 'research', ',', 'bringing', 'together', 'for', 'the', 'first', 'time', 'all', 'the', 'researchers', 'who', 'have', 'an', 'impact', 'on', 'health', 'to', 'undertake', 'shared', 'research', 'priorities', '.']\n",
      "['NULL', 'this', 'innovative', 'approach', 'recognizes', 'the', 'importance', 'of', 'collaborative', 'research', 'for', 'improving', 'the', 'health', 'and', 'well', '-', 'being', 'of', 'Canadians', 'and', 'for', 'building', 'a', 'high', '-', 'quality', 'health', 'system', '.']\n"
     ]
    },
    {
     "name": "stderr",
     "output_type": "stream",
     "text": [
      "\r",
      "  0%|                                                                            | 200/231164 [00:01<35:24, 108.71it/s]"
     ]
    },
    {
     "name": "stdout",
     "output_type": "stream",
     "text": [
      "['NULL', 'the', 'Government', 'of', 'Canada', 'has', 'for', 'many', 'years', 'been', 'one', 'of', 'the', 'most', 'important', 'contributors', 'to', 'research', 'at', 'Canadian', 'universities', '.']\n",
      "['NULL', 'in', 'the', 'last', 'two', 'years', ',', 'the', 'Government', 'has', 'pursued', 'an', 'ambitious', 'agenda', 'to', 'improve', 'its', 'support', 'for', 'advanced', 'research', 'in', 'Canada', '.']\n",
      "['NULL', 'to', 'build', 'on', 'this', 'agenda', ',', 'the', 'Government', 'will', ':']\n",
      "['NULL', 'increase', 'its', 'support', 'to', 'the', 'Granting', 'Councils', ',', 'enabling', 'them', 'to', 'forge', 'new', 'partnerships', 'with', 'our', 'universities', 'to', 'attract', 'the', 'best', 'research', 'minds', 'in', 'the', 'world', 'through', 'an', 'innovative', 'program', 'of', '21', 'st', 'Century', 'Chairs', 'for', 'Research', 'Excellence', ';']\n",
      "['NULL', 'foster', 'greater', 'international', 'research', 'collaboration', 'by', 'Canadian', 'universities', 'and', 'institutes', 'and', 'expand', 'Canadian', 'expertise', 'in', 'such', 'areas', 'as', 'genomics', ',', 'climate', 'change', ',', 'and', 'advanced', 'engineering', ';', 'and']\n",
      "['NULL', 'find', 'new', 'markets', 'for', 'new', 'products', 'and', 'services', 'developed', 'through', 'research', 'by', 'universities', 'and', 'government', 'research', 'centres', '.']\n",
      "['NULL', 'the', 'Government', 'will', 'also', 'ensure', 'that', 'it', 'has', 'a', 'modern', 'and', 'effective', 'research', 'and', 'science', 'capacity', 'to', 'promote', 'the', 'health', ',', 'safety', 'and', 'economic', 'well', '-', 'being', 'of', 'Canadians', '.']\n",
      "['NULL', 'information', 'Infrastructure']\n"
     ]
    },
    {
     "name": "stderr",
     "output_type": "stream",
     "text": [
      "\r",
      "  0%|                                                                            | 208/231164 [00:01<36:07, 106.54it/s]"
     ]
    },
    {
     "name": "stdout",
     "output_type": "stream",
     "text": [
      "['NULL', 'improving', 'Canada', \"'\", 's', 'information', 'infrastructure', 'will', 'support', 'the', 'exchange', 'of', 'ideas', 'and', 'the', 'conduct', 'of', 'business', 'over', 'computer', 'networks', ',', 'connect', 'Canadians', 'to', 'the', 'information', 'highway', ',', 'and', 'accelerate', 'the', 'adoption', 'of', 'electronic', 'commerce', '.']\n",
      "['NULL', 'the', 'Government', 'will', ':']\n",
      "['NULL', 'take', 'steps', 'to', 'make', 'Canada', 'a', 'centre', 'of', 'excellence', 'for', 'electronic', 'commerce', 'and', 'encourage', 'its', 'use', 'throughout', 'the', 'economy', ';']\n",
      "['NULL', 're', '-', 'introduce', 'legislation', 'to', 'protect', 'personal', 'and', 'business', 'information', 'in', 'the', 'digital', 'world', 'and', 'to', 'recognize', 'electronic', 'signatures', ';', 'and']\n",
      "['NULL', 'the', 'Government', 'will', 'become', 'a', 'model', 'user', 'of', 'information', 'technology', 'and', 'the', 'Internet', '.']\n",
      "['NULL', 'we', 'will', 'build', 'on', 'a', 'pilot', 'project', 'now', 'under', 'way', 'to', 'make', 'www', '.', 'access', '.', 'ca']\n",
      "['NULL', 'our', 'knowledge', '-', 'based', 'economy', 'is', 'more', 'than', 'high', '-', 'tech', 'companies', '.']\n",
      "['NULL', 'it', 'is', 'an', 'economy', 'in', 'which', 'all', 'sectors', 'strive', 'to', 'use', 'leading', 'technologies', 'and', 'processes', '.']\n",
      "['NULL', 'it', 'is', 'an', 'economy', 'in', 'which', 'clusters', 'of', 'technology', 'development', 'already', 'exist', 'in', 'smaller', 'communities', 'all', 'over', 'Canada', '.']\n"
     ]
    },
    {
     "name": "stderr",
     "output_type": "stream",
     "text": [
      "\r",
      "  0%|                                                                            | 217/231164 [00:02<36:28, 105.52it/s]"
     ]
    },
    {
     "name": "stdout",
     "output_type": "stream",
     "text": [
      "['NULL', 'indeed', ',', 'it', 'is', 'an', 'economy', 'in', 'which', 'technology', 'can', 'lead', 'to', 'greater', 'economic', 'stability', 'for', 'the', 'primarily', 'rural', 'regions', 'in', 'which', 'cyclical', 'resource', 'industries', '-', 'agriculture', ',', 'fisheries', ',', 'forestry', ',', 'mining', 'and', 'tourism', '-', 'are', 'the', 'dominant', 'sources', 'of', 'wealth', '.']\n",
      "['NULL', 'the', 'Government', 'will', 'encourage', 'the', 'development', 'and', 'adoption', 'of', 'new', 'technologies', 'in', 'all', 'sectors', '.']\n",
      "['NULL', 'cultural', 'Infrastructure']\n",
      "['NULL', 'the', 'strength', 'of', 'Canada', 'is', 'reflected', 'in', 'its', 'rich', 'diversity', '.']\n",
      "['NULL', 'across', 'this', 'country', ',', 'Canada', \"'\", 's', 'culture', 'comes', 'alive', 'through', 'our', 'writers', ',', 'singers', 'and', 'performers', ',', 'through', 'our', 'filmmakers', 'and', 'artists', ',', 'and', 'through', 'those', 'who', 'chronicle', 'our', 'history', 'and', 'preserve', 'our', 'heritage', '.']\n",
      "['NULL', 'it', 'will', 'put', 'collections', 'from', 'the', 'National', 'Archives', ',', 'National', 'Library', 'and', 'other', 'key', 'institutions', 'on', '-', 'line', '.']\n",
      "['NULL', 'physical', 'Infrastructure']\n",
      "['NULL', 'canada', 'must', 'also', 'continue', 'to', 'improve', 'its', 'physical', 'infrastructure', 'for', 'the', '21', 'st', 'century', '.']\n",
      "['NULL', 'to', 'increase', 'trade', 'and', 'economic', 'growth', ',', 'we', 'must', 'ensure', 'that', 'we', 'have', 'the', 'capacity', 'to', 'move', 'people', 'and', 'goods', 'safely', 'and', 'efficiently', '.']\n"
     ]
    },
    {
     "name": "stderr",
     "output_type": "stream",
     "text": [
      "\r",
      "  0%|                                                                            | 226/231164 [00:02<36:54, 104.29it/s]"
     ]
    },
    {
     "name": "stdout",
     "output_type": "stream",
     "text": [
      "['NULL', 'to', 'maintain', 'the', 'quality', 'of', 'life', 'in', 'our', 'cities', 'and', 'rural', 'communities', ',', 'we', 'must', 'ensure', 'that', 'we', 'have', 'clean', 'air', 'and', 'water', '.']\n",
      "['NULL', 'the', 'Government', 'will', 'work', 'with', 'other', 'levels', 'of', 'government', 'and', 'the', 'private', 'sector', 'to', 'reach', '-', 'by', 'the', 'end', 'of', 'the', 'year', '2000', '-', 'agreement', 'on', 'a', 'five', '-', 'year', 'plan', 'for', 'improving', 'physical', 'infrastructure', 'in', 'urban', 'and', 'rural', 'regions', 'across', 'the', 'country', '.']\n",
      "['NULL', 'health', 'and', 'Quality', 'Care', 'for', 'Canadians']\n",
      "['NULL', 'good', 'health', 'and', 'quality', 'care', 'are', 'essential', 'to', 'the', 'well', '-', 'being', 'of', 'all', 'Canadians', 'and', 'are', 'part', 'of', 'our', 'strength', 'in', 'today', \"'\", 's', 'global', 'marketplace', '.']\n",
      "['NULL', 'advances', 'in', 'technology', ',', 'research', 'and', 'information', 'are', 'opening', 'tremendous', 'new', 'opportunities', 'for', 'improving', 'the', 'health', 'and', 'well', '-', 'being', 'of', 'citizens', '.']\n",
      "['NULL', 'Canadians', 'expect', 'their', 'governments', 'to', 'work', 'together', 'to', 'ensure', 'that', 'Canada', \"'\", 's', 'health', 'care', 'system', 'is', 'modern', 'and', 'sustainable', '.']\n",
      "['NULL', 'the', 'Government', 'recently', 'reaffirmed', 'its', 'commitment', 'to', 'medicare', 'by', 'investing', 'an', 'additional', '$', '11.5', 'billion', 'to', 'modernize', 'the', 'health', 'system', 'for', 'the', 'beginning', 'of', 'the', '21', 'st', 'century', '.']\n",
      "['NULL', 'the', 'Government', 'will', 'continue', 'to', 'move', 'forward', 'with', 'its', 'provincial', 'and', 'territorial', 'partners', 'and', 'the', 'health', 'care', 'community', 'on', 'common', 'priorities', '.']\n"
     ]
    },
    {
     "name": "stderr",
     "output_type": "stream",
     "text": [
      "\r",
      "  0%|                                                                            | 234/231164 [00:02<38:06, 101.01it/s]"
     ]
    },
    {
     "name": "stdout",
     "output_type": "stream",
     "text": [
      "['NULL', 'with', 'its', 'partners', ',', 'the', 'Government', 'will', 'support', 'the', 'testing', 'of', 'innovations', 'in', 'integrated', 'service', 'delivery', 'in', 'areas', 'such', 'as', 'home', 'care', 'and', 'pharmacare', ',', 'working', 'toward', 'a', 'health', 'system', 'in', 'which', 'all', 'parts', 'operate', 'seamlessly', '.']\n",
      "['NULL', 'a', 'modern', 'health', 'information', 'system', 'will', 'give', 'health', 'professionals', 'and', 'individual', 'citizens', 'improved', 'access', 'to', 'up', '-', 'to', '-', 'date', 'information', 'about', 'health', 'issues', 'and', 'treatment', 'options', '.']\n",
      "['NULL', 'the', 'Government', 'will', 'ensure', 'that', 'citizens', 'in', 'every', 'region', 'of', 'the', 'country', 'have', 'access', 'to', 'such', 'information', 'so', 'they', 'can', 'make', 'better', '-', 'informed', 'decisions', '.']\n",
      "['NULL', 'the', 'Government', 'will', 'protect', 'the', 'health', 'of', 'Canadians', 'by', 'strengthening', 'Canada', \"'\", 's', 'food', 'safety', 'program', ',', 'by', 'taking', 'further', 'action', 'on', 'environmental', 'health', 'issues', ',', 'including', 'the', 'potential', 'health', 'risks', 'presented', 'by', 'pesticides', ',', 'and', 'by', 'modernizing', 'overall', 'health', 'protection', 'for', 'a', 'changing', 'world', '.']\n",
      "['NULL', 'we', 'will', 'also', 'continue', 'to', 'address', 'the', 'serious', 'health', 'problems', 'in', 'Aboriginal', 'communities', ',', 'supporting', 'their', 'efforts', 'to', 'promote', 'wellness', 'and', 'to', 'strengthen', 'the', 'delivery', 'of', 'health', 'services', '.']\n",
      "['NULL', 'the', 'Quality', 'of', 'Our', 'Environment']\n",
      "['NULL', 'the', 'long', '-', 'term', 'economic', 'and', 'social', 'well', '-', 'being', 'of', 'every', 'Canadian', 'depends', 'on', 'the', 'state', 'of', 'our', 'natural', 'environment', '.']\n",
      "['NULL', 'canada', \"'\", 's', 'ability', 'to', 'adopt', 'innovative', 'environmental', 'practices', 'and', 'technologies', 'will', 'increasingly', 'be', 'part', 'of', 'Canada', \"'\", 's', 'strength', 'in', 'the', '21', 'st', 'century', '.']\n"
     ]
    },
    {
     "name": "stderr",
     "output_type": "stream",
     "text": [
      "\r",
      "  0%|                                                                             | 242/231164 [00:02<39:17, 97.95it/s]"
     ]
    },
    {
     "name": "stdout",
     "output_type": "stream",
     "text": [
      "['NULL', 'Canadians', 'have', 'long', 'recognized', 'the', 'underlying', 'relationship', 'between', 'a', 'healthy', 'environment', 'and', 'a', 'high', 'quality', 'of', 'life', '.']\n",
      "['NULL', 'Canadians', 'and', 'leading', 'businesses', 'are', 'already', 'working', 'in', 'their', 'own', 'communities', 'to', 'preserve', 'the', 'natural', 'environment', ',', 'pushing', 'the', 'frontiers', 'and', 'opportunities', 'of', 'environmental', 'technologies', 'and', 'new', 'eco', '-', 'efficient', 'practices', '.']\n",
      "['NULL', 'the', 'quality', 'of', 'the', 'environment', 'in', 'our', 'communities', 'is', 'also', 'linked', 'to', 'the', 'environmental', 'health', 'of', 'other', 'communities', 'around', 'the', 'world', '.']\n",
      "['NULL', 'problems', 'such', 'as', 'climate', 'change', 'and', 'dangerous', 'levels', 'of', 'persistent', 'toxins', 'can', 'be', 'resolved', 'only', 'through', 'concerted', 'international', 'action', '.']\n",
      "['NULL', 'within', 'Canada', ',', 'the', 'Government', 'will', 'work', 'with', 'other', 'governments', 'and', 'citizens', 'to', 'meet', 'our', 'country', \"'\", 's', 'commitment', 'under', 'the', 'Kyoto', 'Protocol', 'to', 'reduce', 'greenhouse', 'gas', 'emissions', '.']\n",
      "['NULL', 'it', 'will', 'set', 'and', 'enforce', 'tough', 'pollution', 'standards', ',', 'in', 'particular', 'to', 'better', 'protect', 'the', 'health', 'of', 'children', ',', 'seniors', 'and', 'residents', 'of', 'the', 'North', '.']\n",
      "['NULL', 'it', 'will', 'place', 'greater', 'emphasis', 'on', 'sustainable', 'development', 'in', 'government', 'decision', 'making', '.']\n"
     ]
    },
    {
     "name": "stderr",
     "output_type": "stream",
     "text": [
      "\r",
      "  0%|                                                                             | 249/231164 [00:02<39:58, 96.28it/s]"
     ]
    },
    {
     "name": "stdout",
     "output_type": "stream",
     "text": [
      "['NULL', 'it', 'will', 'also', 'address', 'the', 'structural', 'weaknesses', 'that', 'have', 'been', 'identified', 'in', 'the', 'management', 'of', 'toxic', 'substances', '.']\n",
      "['NULL', 'internationally', ',', 'Canada', 'will', 'provide', 'technical', 'assistance', 'to', 'developing', 'countries', 'in', 'adopting', 'sustainable', 'practices', '.']\n",
      "['NULL', 'the', 'Government', 'will', 'introduce', 'legislation', 'and', 'stewardship', 'programs', ',', 'working', 'with', 'provinces', 'and', 'territories', 'to', 'ensure', 'that', 'species', 'at', 'risk', 'and', 'their', 'critical', 'natural', 'habitat', 'are', 'protected', '.']\n",
      "['NULL', 'the', 'Government', 'will', 'also', 'continue', 'to', 'extend', 'Canada', \"'\", 's', 'national', 'parks', 'system', '.']\n",
      "['NULL', 'in', 'its', 'own', 'operations', ',', 'the', 'Government', 'will', 'make', 'itself', 'a', 'model', 'of', 'environmental', 'excellence', '.']\n",
      "['NULL', 'it', 'will', 'do', 'more', 'to', 'clean', 'up', 'contaminated', 'federal', 'sites', '.']\n",
      "['NULL', 'it', 'will', 'strengthen', 'its', 'capacity', 'for', 'conducting', 'environmental', 'science', 'research', '.']\n",
      "['NULL', 'it', 'will', 'also', 'explore', 'new', 'environmental', 'clean', '-', 'up', 'technologies', '.']\n",
      "['NULL', 'the', 'Government', 'will', 'report', 'regularly', 'on', 'the', 'results', 'achieved', 'in', 'addressing', 'the', 'top', 'environmental', 'concerns', 'of', 'Canadians', '.']\n"
     ]
    },
    {
     "name": "stderr",
     "output_type": "stream",
     "text": [
      "\r",
      "  0%|                                                                             | 258/231164 [00:02<40:10, 95.81it/s]"
     ]
    },
    {
     "name": "stdout",
     "output_type": "stream",
     "text": [
      "['NULL', 'building', 'Stronger', 'Communities']\n",
      "['NULL', 'working', 'Together']\n",
      "['NULL', 'our', 'history', 'has', 'been', 'one', 'of', 'Canadians', 'helping', 'Canadians', 'to', 'seize', 'opportunities', 'and', 'rise', 'to', 'challenges', '.']\n",
      "['NULL', 'this', 'commitment', 'to', 'working', 'together', '-', 'by', 'Canadians', ',', 'their', 'governments', 'and', 'their', 'communities', '-', 'will', 'ensure', 'Canada', \"'\", 's', 'continued', 'success', 'in', 'addressing', 'the', 'complex', 'issues', 'of', 'the', '21', 'st', 'century', '.']\n",
      "['NULL', 'it', 'also', 'commits', 'governments', 'to', 'eliminating', 'barriers', 'that', 'unjustifiably', 'impede', 'the', 'mobility', 'of', 'citizens', 'within', 'Canada', '.']\n",
      "['NULL', 'these', 'barriers', 'include', 'rules', 'that', 'prevent', 'some', 'citizens', 'from', 'obtaining', 'recognition', 'of', 'their', 'qualifications', 'when', 'they', 'move', 'to', 'another', 'province', ',', 'that', 'deny', 'some', 'students', 'use', 'of', 'their', 'student', 'loans', 'when', 'they', 'study', 'out', '-', 'of', '-', 'province', ',', 'and', 'that', 'restrict', 'access', 'to', 'essential', 'services', 'for', 'some', 'citizens', '-', 'including', 'those', 'with', 'disabilities', '-', 'because', 'of', 'their', 'province', 'of', 'origin', '.']\n",
      "['NULL', 'the', 'Government', 'of', 'Canada', 'is', 'committed', 'to', 'working', 'together', 'with', 'its', 'partners', 'to', 'meet', 'the', 'deadlines', 'set', 'out', 'in', 'the', 'Social', 'Union', 'Framework', 'Agreement', ',', 'thereby', 'removing', 'all', 'unjustifiable', 'barriers', 'to', 'mobility', 'no', 'later', 'than', '2002', '.']\n",
      "['NULL', 'in', '2001', ',', 'Canadians', 'will', 'mark', 'the', 'International', 'Year', 'of', 'Volunteers', '-', 'a', 'time', 'to', 'celebrate', 'the', 'achievements', 'of', 'Canada', \"'\", 's', 'everyday', 'heroes', '.']\n"
     ]
    },
    {
     "name": "stderr",
     "output_type": "stream",
     "text": [
      "\r",
      "  0%|                                                                             | 266/231164 [00:02<40:41, 94.56it/s]"
     ]
    },
    {
     "name": "stdout",
     "output_type": "stream",
     "text": [
      "['NULL', 'the', 'Government', 'recognizes', 'the', 'need', 'to', 'build', 'partnerships', 'with', 'communities', 'and', 'to', 'renew', 'its', 'relationship', 'with', 'the', 'voluntary', 'organizations', 'that', 'serve', 'and', 'sustain', 'them', '.']\n",
      "['NULL', 'the', 'Government', 'will', 'enter', 'into', 'a', 'national', 'accord', 'with', 'the', 'voluntary', 'sector', ',', 'laying', 'a', 'new', 'foundation', 'for', 'active', 'partnership', 'with', 'voluntary', 'organizations', 'in', 'the', 'service', 'of', 'Canadians', '.']\n",
      "['NULL', 'strong', 'communities', 'depend', 'on', 'the', 'participation', 'of', 'all', 'their', 'members', '.']\n",
      "['NULL', 'to', 'this', 'end', ',', 'the', 'Government', 'will', 'pursue', 'its', 'efforts', 'with', 'other', 'governments', ',', 'the', 'private', 'and', 'voluntary', 'sectors', ',', 'and', 'all', 'citizens', 'to', 'build', 'communities', 'in', 'which', 'Canadians', 'with', 'disabilities', 'are', 'fully', 'included', 'and', 'in', 'which', 'new', 'Canadians', 'feel', 'more', 'at', 'home', '.']\n",
      "['NULL', 'in', 'addition', ',', 'the', 'Government', 'will', 'continue', 'working', 'with', 'its', 'partners', 'in', 'all', 'sectors', 'to', 'address', 'the', 'root', 'causes', 'of', 'homelessness', 'and', 'help', 'communities', 'respond', 'to', 'their', 'members', \"'\", 'needs', 'for', 'shelter', 'and', 'other', 'support', '.']\n",
      "['NULL', 'promoting', 'Safer', 'Communities']\n",
      "['NULL', 'Canadians', 'are', 'justifiably', 'proud', 'of', 'having', 'built', 'communities', 'where', 'citizens', 'feel', 'safe', '.']\n"
     ]
    },
    {
     "name": "stderr",
     "output_type": "stream",
     "text": [
      "\r",
      "  0%|                                                                             | 273/231164 [00:02<41:22, 93.00it/s]"
     ]
    },
    {
     "name": "stdout",
     "output_type": "stream",
     "text": [
      "['NULL', 'this', 'is', 'a', 'key', 'component', 'of', 'our', 'quality', 'of', 'life', 'and', 'a', 'contributor', 'to', 'Canada', \"'\", 's', 'comparative', 'advantage', '.']\n",
      "['NULL', 'the', 'Government', 'will', 'work', 'with', 'Canadians', 'to', 'ensure', 'that', 'our', 'communities', 'continue', 'to', 'be', 'safe', '.']\n",
      "['NULL', 'its', 'focus', 'will', 'be', 'balanced', ',', 'combining', 'prevention', 'and', 'a', 'community', '-', 'centred', 'approach', 'with', 'action', 'to', 'deal', 'with', 'serious', 'crime', '.']\n",
      "['NULL', 'it', 'will', 'expand', 'the', 'community', '-', 'based', 'crime', 'prevention', 'strategy', 'and', 're', '-', 'introduce', 'legislation', 'to', 'reform', 'the', 'youth', 'justice', 'system', '.']\n",
      "['NULL', 'the', 'Government', 'will', 'combat', 'drug', 'trafficking', 'while', 'helping', 'communities', 'aid', 'those', 'most', 'affected', '.']\n",
      "['NULL', 'it', 'will', 'also', 'launch', 'a', 'program', 'of', 'restorative', 'justice', 'to', 'help', 'victims', 'overcome', 'the', 'trauma', 'of', 'crime', 'and', 'provide', 'non', '-', 'violent', 'offenders', 'with', 'a', 'chance', 'to', 'help', 'repair', 'the', 'damage', 'caused', 'by', 'their', 'actions', '.']\n",
      "['NULL', 'the', 'Government', 'will', 'focus', 'attention', 'on', 'new', 'and', 'emerging', 'threats', 'to', 'Canadians', 'and', 'their', 'neighbours', 'around', 'the', 'world', '.']\n",
      "['NULL', 'it', 'will', 'work', 'to', 'combat', 'criminal', 'activity', 'that', 'is', 'becoming', 'increasingly', 'global', 'in', 'scope', ',', 'including', 'money', 'laundering', ',', 'terrorism', ',', 'and', 'the', 'smuggling', 'of', 'people', ',', 'drugs', 'and', 'guns', '.']\n"
     ]
    },
    {
     "name": "stderr",
     "output_type": "stream",
     "text": [
      "\r",
      "  0%|                                                                             | 281/231164 [00:03<41:46, 92.11it/s]"
     ]
    },
    {
     "name": "stdout",
     "output_type": "stream",
     "text": [
      "['NULL', 'the', 'Government', 'will', 'strengthen', 'the', 'capacity', 'of', 'the', 'RCMP', 'and', 'other', 'agencies', 'to', 'address', 'threats', 'to', 'public', 'security', 'in', 'Canada', 'and', 'work', 'with', 'enforcement', 'agencies', 'in', 'other', 'countries', '.']\n",
      "['NULL', 'in', 'addition', ',', 'it', 'will', 'work', 'to', 'modernize', 'legislation', 'to', 'better', 'ensure', 'public', 'security', '.']\n",
      "['NULL', 'the', 'Government', 'of', 'Canada', 'will', 'also', 'continue', 'to', 'work', 'closely', 'with', 'the', 'Government', 'of', 'the', 'United', 'States', 'to', 'modernize', 'our', 'shared', 'border', 'for', 'the', '21', 'st', 'century', '.']\n",
      "['NULL', 'a', 'Stronger', 'Relationship', 'with', 'Canada', \"'\", 's', 'Aboriginal', 'Peoples']\n",
      "['NULL', 'the', 'contribution', 'of', 'Canada', \"'\", 's', 'Aboriginal', 'peoples', 'has', 'shaped', 'our', 'country', \"'\", 's', 'heritage', 'and', 'will', 'continue', 'to', 'enrich', 'Canada', 'in', 'the', 'new', 'century', '.']\n",
      "['NULL', 'the', 'Government', 'will', 'continue', 'to', 'build', 'on', 'the', 'strong', 'foundation', 'of', 'reconciliation', 'and', 'renewal', 'created', 'by', 'Gathering', 'Strength', '-', 'Canada', \"'\", 's', 'Aboriginal', 'Action', 'Plan', '.']\n",
      "['NULL', 'we', 'are', 'now', 'building', 'stronger', 'partnerships', 'with', 'Aboriginal', 'people', '-', 'concentrating', 'on', 'improving', 'their', 'living', 'conditions', 'and', ',', 'increasingly', ',', 'on', 'strengthening', 'their', 'economies', '.']\n"
     ]
    },
    {
     "name": "stderr",
     "output_type": "stream",
     "text": [
      "\r",
      "  0%|                                                                             | 288/231164 [00:03<42:13, 91.13it/s]"
     ]
    },
    {
     "name": "stdout",
     "output_type": "stream",
     "text": [
      "['NULL', 'as', 'a', 'result', ',', 'Aboriginal', 'people', 'will', 'be', 'able', 'to', 'more', 'fully', 'participate', 'in', 'and', 'contribute', 'to', 'Canada', \"'\", 's', 'economic', 'development', 'and', 'social', 'well', '-', 'being', '.']\n",
      "['NULL', 'fostering', 'good', 'government', 'and', 'strong', 'accountability', 'in', 'First', 'Nations', 'communities', 'will', 'increase', 'investor', 'confidence', ',', 'support', 'economic', 'partnerships', ',', 'and', 'improve', 'living', 'conditions', '.']\n",
      "['NULL', 'land', 'claim', 'agreements', ',', 'in', 'particular', ',', 'are', 'essential', 'to', 'create', 'certainty', 'for', 'Aboriginal', 'people', 'and', 'their', 'surrounding', 'communities', '-', 'providing', 'the', 'climate', 'needed', 'for', 'partnerships', ',', 'investments', 'and', 'economic', 'opportunities', '.']\n",
      "['NULL', 'early', 'in', 'the', 'new', 'session', 'of', 'Parliament', ',', 'the', 'Government', 'will', 'introduce', 'legislation', 'to', 'implement', 'the', 'historic', 'agreement', 'with', 'the', 'Nisga', \"'\", 'a', '.']\n",
      "['NULL', 'canada', \"'\", 's', 'Place', 'in', 'the', 'World']\n",
      "['NULL', 'as', 'we', 'move', 'into', 'the', '21', 'st', 'century', ',', 'Canada', 'has', 'the', 'momentum', 'to', 'lead', 'the', 'way', 'toward', 'a', 'safer', 'and', 'more', 'secure', 'world', '.']\n",
      "['NULL', 'Canadians', 'have', 'built', 'the', 'highest', 'quality', 'of', 'life', 'in', 'the', 'world', 'by', 'focussing', 'on', 'the', 'needs', 'of', 'people', '.']\n"
     ]
    },
    {
     "name": "stderr",
     "output_type": "stream",
     "text": [
      "\r",
      "  0%|                                                                             | 295/231164 [00:03<42:40, 90.16it/s]"
     ]
    },
    {
     "name": "stdout",
     "output_type": "stream",
     "text": [
      "['NULL', 'we', 'have', 'the', 'expertise', 'to', 'advance', 'an', 'agenda', 'of', 'human', 'security', '-', 'protecting', 'people', 'from', 'threats', 'to', 'their', 'rights', ',', 'their', 'safety', 'and', 'their', 'lives', '.']\n",
      "['NULL', 'we', 'have', 'a', 'reputation', 'internationally', 'for', 'making', 'a', 'difference', '-', 'through', 'our', 'contribution', 'to', 'eliminating', 'landmines', ',', 'our', 'work', 'with', 'NATO', 'and', 'the', 'United', 'Nations', 'in', 'Kosovo', ',', 'our', 'development', 'assistance', 'to', 'Asia', 'and', 'Africa', ',', 'our', 'efforts', 'to', 'establish', 'the', 'International', 'Criminal', 'Court', ',', 'and', 'our', 'work', 'to', 'renew', 'the', 'international', 'financial', 'system', '.']\n",
      "['NULL', 'Canadians', 'recognize', 'that', 'their', 'quality', 'of', 'life', 'depends', 'in', 'part', 'on', 'the', 'quality', 'of', 'life', 'of', 'their', 'neighbours', '-', 'those', 'who', 'share', 'this', 'planet', 'with', 'us', '.']\n",
      "['NULL', 'a', 'world', 'where', 'people', 'are', 'secure', 'is', 'a', 'world', 'where', 'fewer', 'people', 'are', 'forced', 'to', 'flee', 'their', 'homes', ',', 'where', 'there', 'is', 'less', 'crime', 'and', 'terrorism', ',', 'and', 'where', 'there', 'is', 'a', 'reduced', 'threat', 'of', 'disease', 'and', 'pollution', '.']\n",
      "['NULL', 'the', 'Government', 'will', 'give', 'increased', 'prominence', 'to', 'human', 'security', 'in', 'its', 'foreign', 'policy', ',', 'working', 'to', 'achieve', 'meaningful', 'progress', 'in', 'the', 'councils', 'of', 'the', 'world', 'on', 'a', 'global', 'human', 'security', 'agenda', '.']\n",
      "['NULL', 'in', '2001', ',', 'the', 'United', 'Nations', 'General', 'Assembly', 'will', 'hold', 'a', 'special', 'session', 'on', 'children', '.']\n",
      "['NULL', 'in', 'the', 'spirit', 'of', 'partnership', 'that', 'led', 'to', 'the', 'historic', 'treaty', 'banning', 'landmines', ',', 'the', 'Government', 'will', 'work', 'to', 'reach', 'key', 'international', 'agreements', 'to', 'protect', 'the', 'rights', 'of', 'children', '.']\n"
     ]
    },
    {
     "name": "stderr",
     "output_type": "stream",
     "text": [
      "\r",
      "  0%|                                                                             | 302/231164 [00:03<43:23, 88.68it/s]"
     ]
    },
    {
     "name": "stdout",
     "output_type": "stream",
     "text": [
      "['NULL', 'canada', 'will', 'champion', 'efforts', 'to', 'eliminate', 'the', 'exploitation', 'of', 'children', ',', 'including', 'the', 'use', 'of', 'child', 'soldiers', 'in', 'armed', 'conflict', ',', 'and', 'will', 'help', 'address', 'the', 'crisis', 'of', 'children', 'affected', 'by', 'the', 'HIV', '/', 'AIDS', 'epidemic', '.']\n",
      "['NULL', 'the', 'Government', 'will', 'act', 'with', 'like', '-', 'minded', 'countries', 'to', 'reform', 'and', 'strengthen', 'international', 'institutions', 'such', 'as', 'the', 'United', 'Nations', ',', 'International', 'Monetary', 'Fund', ',', 'World', 'Bank', 'and', 'World', 'Trade', 'Organization', '.']\n",
      "['NULL', 'it', 'will', 'also', 'work', 'to', 'develop', 'a', 'new', 'approach', 'internationally', 'to', 'support', 'the', 'diversity', 'of', 'cultural', 'expression', 'in', 'countries', 'around', 'the', 'world', '.']\n",
      "['NULL', 'to', 'advance', 'Canada', \"'\", 's', 'leadership', 'in', 'the', 'Arctic', 'region', ',', 'the', 'Government', 'will', 'outline', 'a', 'foreign', 'policy', 'for', 'the', 'North', 'that', 'enhances', 'co', '-', 'operation', ',', 'helps', 'protect', 'the', 'environment', ',', 'promotes', 'trade', 'and', 'investment', ',', 'and', 'supports', 'the', 'security', 'of', 'the', 'region', \"'\", 's', 'people', '.']\n",
      "['NULL', 'the', 'Government', 'will', 'increase', 'international', 'development', 'assistance', 'and', 'work', 'in', 'innovative', 'ways', 'to', 'enable', 'poor', 'countries', 'to', 'improve', 'the', 'quality', 'of', 'life', 'of', 'their', 'citizens', '.']\n",
      "['NULL', 'the', 'Government', 'will', 'also', 'continue', 'to', 'ensure', 'that', 'the', 'Canadian', 'Forces', 'have', 'the', 'capacity', 'to', 'support', 'Canada', \"'\", 's', 'role', 'in', 'building', 'a', 'more', 'secure', 'world', 'and', 'will', 'further', 'develop', 'the', 'capacity', 'of', 'Canadians', 'to', 'help', 'ensure', 'peace', 'and', 'security', 'in', 'foreign', 'lands', '.']\n",
      "['NULL', 'honouring', 'Canada', \"'\", 's', 'Promise', 'for', 'the', '21', 'st', 'Century']\n"
     ]
    },
    {
     "name": "stderr",
     "output_type": "stream",
     "text": [
      "\r",
      "  0%|                                                                             | 309/231164 [00:03<44:15, 86.92it/s]"
     ]
    },
    {
     "name": "stdout",
     "output_type": "stream",
     "text": [
      "['NULL', 'as', 'we', 'prepare', 'to', 'celebrate', 'the', 'turn', 'of', 'the', 'millennium', ',', 'we', 'can', 'look', 'to', 'our', 'past', 'with', 'pride', 'and', 'to', 'our', 'future', 'with', 'confidence', '.']\n",
      "['NULL', 'like', 'previous', 'generations', ',', 'we', 'will', 'face', 'new', 'challenges', '.']\n",
      "['NULL', 'but', 'guided', 'by', 'our', 'values', 'and', 'our', 'collective', 'experience', ',', 'we', 'can', 'ensure', 'that', 'Canada', 'remains', 'the', 'best', 'place', 'in', 'the', 'world', 'in', 'which', 'to', 'live', '-', 'the', 'best', 'place', 'to', 'raise', 'children', ',', 'to', 'learn', ',', 'to', 'pursue', 'opportunity', ',', 'to', 'share', 'in', 'rich', ',', 'diverse', 'and', 'safe', 'communities', ',', 'and', 'to', 'admire', 'the', 'beauty', 'of', 'nature', '.']\n",
      "['NULL', 'all', 'Canadians', '-', 'every', 'citizen', ',', 'every', 'government', ',', 'every', 'business', 'and', 'every', 'community', 'organization', '-', 'have', 'a', 'part', 'to', 'play', '.']\n",
      "['NULL', 'we', 'will', 'build', 'the', '21', 'st', 'century', 'together', '.']\n",
      "['NULL', 'members', 'of', 'the', 'House', 'of', 'Commons', ':']\n",
      "['NULL', 'you', 'will', 'be', 'asked', 'to', 'appropriate', 'the', 'funds', 'required', 'to', 'carry', 'out', 'the', 'services', 'and', 'expenditures', 'authorized', 'by', 'Parliament', '.']\n",
      "['NULL', 'honourable', 'Members', 'of', 'the', 'Senate']\n"
     ]
    },
    {
     "name": "stderr",
     "output_type": "stream",
     "text": [
      "\r",
      "  0%|                                                                             | 317/231164 [00:03<44:28, 86.52it/s]"
     ]
    },
    {
     "name": "stdout",
     "output_type": "stream",
     "text": [
      "['NULL', 'and', 'Members', 'of', 'the', 'House', 'of', 'Commons', ':']\n",
      "['NULL', 'as', 'the', 'representatives', 'of', 'the', 'Canadian', 'people', 'across', 'this', 'great', 'land', ',', 'yours', 'is', 'a', 'special', 'duty', '-', 'a', 'higher', 'responsibility', 'to', 'strive', 'for', 'excellence', 'in', 'the', 'service', 'of', 'your', 'country', '.']\n",
      "['NULL', 'let', 'the', 'Canadians', 'of', 'tomorrow', 'look', 'upon', 'this', 'Parliament', 'and', 'say', ',', 'Here', 'were', 'men', 'and', 'women', 'committed', 'to', 'building', 'a', 'stronger', 'Canada', 'and', 'a', 'better', 'quality', 'of', 'life', 'for', 'their', 'children', 'and', 'grandchildren', '.']\n",
      "['NULL', 'may', 'Divine', 'Providence', 'guide', 'you', 'in', 'your', 'deliberations', '.']\n",
      "['NULL', 'the', 'Right', 'Hon.', 'Jean', 'Chr', 'é', 'tien', '(', 'Prime', 'Minister', ',', 'Lib', '.', ')', 'moved', ':']\n",
      "['NULL', 'that', 'the', 'speech', 'of', 'Her', 'Excellency', 'the', 'Governor', 'General', ',', 'delivered', 'this', 'day', 'from', 'the', 'throne', 'to', 'the', 'two', 'Houses', 'of', 'Parliament', ',', 'be', 'taken', 'into', 'consideration', 'later', 'this', 'day', '.']\n",
      "['NULL', '(', 'motion', 'agreed', 'to', ')']\n"
     ]
    },
    {
     "name": "stderr",
     "output_type": "stream",
     "text": [
      "\r",
      "  0%|                                                                             | 324/231164 [00:03<44:43, 86.01it/s]"
     ]
    },
    {
     "name": "stdout",
     "output_type": "stream",
     "text": [
      "['NULL', '*', '*', '*']\n",
      "['NULL', 'vacancies']\n",
      "['NULL', 'YORK', 'WEST']\n",
      "['NULL', 'the', 'Speaker', ':']\n",
      "['NULL', 'pursuant', 'to', 'subsection', '25', '(', '1', ')', '(', 'b', ')', 'of', 'the', 'Parliament', 'of', 'Canada', 'Act', ',', 'I', 'have', 'addressed', 'on', 'Tuesday', ',', 'August', '3', ',', '1999', ',', 'my', 'warrant', 'to', 'the', 'Chief', 'Electoral', 'Officer', 'for', 'the', 'issue', 'of', 'a', 'writ', 'for', 'the', 'election', 'of', 'a', 'member', 'to', 'fill', 'this', 'vacancy', '.']\n",
      "['NULL', 'mount', 'ROYAL']\n",
      "['NULL', 'the', 'Speaker', ':']\n",
      "['NULL', 'pursuant', 'to', 'subsection', '25', '(', '1', ')', '(', 'b', ')', 'of', 'the', 'Parliament', 'of', 'Canada', 'Act', ',', 'I', 'have', 'addressed', 'on', 'Tuesday', ',', 'August', '10', ',', '1999', 'my', 'warrant', 'to', 'the', 'Chief', 'Electoral', 'Officer', 'for', 'the', 'issue', 'of', 'a', 'writ', 'for', 'the', 'election', 'of', 'a', 'member', 'to', 'fill', 'this', 'vacancy', '.']\n"
     ]
    },
    {
     "name": "stderr",
     "output_type": "stream",
     "text": [
      "\r",
      "  0%|                                                                             | 332/231164 [00:03<44:50, 85.78it/s]"
     ]
    },
    {
     "name": "stdout",
     "output_type": "stream",
     "text": [
      "['NULL', 'the', 'Speaker', ':']\n",
      "['NULL', 'pursuant', 'to', 'subsection', '25', '(', '1', ')', '(', 'b', ')', 'of', 'the', 'Parliament', 'of', 'Canada', 'Act', ',', 'I', 'have', 'addressed', 'on', 'Friday', ',', 'September', '10', ',', '1999', 'my', 'warrant', 'to', 'the', 'Chief', 'Electoral', 'Officer', 'for', 'the', 'issue', 'of', 'a', 'writ', 'for', 'the', 'election', 'of', 'a', 'member', 'to', 'fill', 'this', 'vacancy', '.']\n",
      "['NULL', '*', '*', '*']\n",
      "['NULL', 'committees', 'OF', 'THE', 'WHOLE']\n",
      "['NULL', 'appointment', 'OF', 'DEPUTY', 'CHAIRMAN']\n",
      "['NULL', 'right', 'Hon.', 'Jean', 'Chr', 'é', 'tien', '(', 'Prime', 'Minister', ',', 'Lib', '.', ')', ':']\n",
      "['NULL', 'Mr.', 'Speaker', ',', 'I', 'move', ':']\n",
      "['NULL', 'that', 'Mr.', 'Ian', 'McClelland', ',', 'member', 'for', 'the', 'electoral', 'district', 'of', 'Edmonton', 'Southwest', ',', 'be', 'appointed', 'deputy', 'chairman', 'of', 'committees', 'of', 'the', 'whole', 'House', '.']\n",
      "['NULL', 'Mr.', 'Randy', 'White', '(', 'Langley', '-', 'Abbotsford', ',', 'Ref.', ')', ':']\n"
     ]
    },
    {
     "name": "stderr",
     "output_type": "stream",
     "text": [
      "\r",
      "  0%|                                                                             | 341/231164 [00:03<44:49, 85.81it/s]"
     ]
    },
    {
     "name": "stdout",
     "output_type": "stream",
     "text": [
      "['NULL', 'Mr.', 'Speaker', ',', 'it', 'is', 'a', 'pleasure', 'to', 'second', 'the', 'motion', '.']\n",
      "['NULL', 'it', 'will', 'allow', 'the', 'member', 'for', 'Edmonton', 'Southwest', 'another', 'two', 'years', 'in', 'training', 'in', 'the', 'House', 'to', 'perhaps', 'one', 'day', 'become', 'the', 'Speaker', 'of', 'the', 'House', '.']\n",
      "['NULL', 'we', 'would', 'like', 'to', 'make', 'sure', 'that', 'everybody', 'in', 'the', 'House', 'knows', 'that', 'the', 'Reform', 'Party', 'is', 'fully', 'prepared', 'to', 'send', 'more', 'Speakers', 'to', 'the', 'chair', '.']\n",
      "['NULL', 'when', 'we', 'are', 'the', 'government', 'after', 'the', 'next', 'election', 'we', 'look', 'forward', 'to', 'him', 'being', 'in', 'the', 'Speaker', \"'\", 's', 'chair', '.']\n",
      "['NULL', 'right', 'Hon.', 'Jean', 'Chr', 'é', 'tien', ':']\n",
      "['NULL', 'Mr.', 'Speaker', ',', 'I', 'appreciate', 'that', 'the', 'hon.', 'member', 'seconded', 'my', 'motion', '.']\n",
      "['NULL', 'i', 'think', 'he', 'is', 'getting', 'ready', 'to', 'propose', 'a', 'lot', 'of', 'motions', 'in', 'the', 'legislative', 'assembly', 'of', 'British', 'Columbia', 'in', 'the', 'years', 'to', 'come', '.']\n",
      "['NULL', 'he', 'has', 'to', 'practise', 'a', 'bit', '.']\n",
      "['NULL', '(', 'motion', 'agreed', 'to', ')']\n"
     ]
    },
    {
     "name": "stderr",
     "output_type": "stream",
     "text": [
      "\r",
      "  0%|                                                                             | 350/231164 [00:04<44:46, 85.90it/s]"
     ]
    },
    {
     "name": "stdout",
     "output_type": "stream",
     "text": [
      "['NULL', 'appointment', 'OF', 'ASSISTANT', 'DEPUTY', 'CHAIRMAN']\n",
      "['NULL', 'that', 'Mrs.', 'Thibeault', ',', 'member', 'for', 'the', 'electoral', 'district', 'of', 'Saint', '-', 'Lambert', ',', 'be', 'appointed', 'Assistant', 'Deputy', 'Chairman', 'of', 'Committees', 'of', 'the', 'Whole', 'House', '.']\n",
      "['NULL', '(', 'motion', 'agreed', 'to', ')']\n",
      "['NULL', '*', '*', '*']\n",
      "['NULL', 'supply']\n",
      "['NULL', 'hon.', 'Lucienne', 'Robillard', '(', 'President', 'of', 'the', 'Treasury', 'Board', 'and', 'Minister', 'responsible', 'for', 'Infrastructure', ',', 'Lib', '.', ')', ':']\n",
      "['NULL', 'Mr.', 'Speaker', ',', 'I', 'move', ':']\n",
      "['NULL', 'that', 'the', 'House', 'consider', 'the', 'business', 'of', 'supply', 'at', 'its', 'next', 'sitting', '.']\n",
      "['NULL', '(', 'motion', 'agreed', 'to', ')']\n",
      "['NULL', 'the', 'Speaker', ':']\n",
      "['NULL', 'it', 'is', 'my', 'duty', 'to', 'inform', 'the', 'House', 'that', 'five', 'days', 'must', 'be', 'designated', 'for', 'the', 'period', 'reserved', 'for', 'the', 'business', 'of', 'supply', ',', 'ending', 'on', 'December', '10', ',', '1999', '.']\n"
     ]
    },
    {
     "name": "stderr",
     "output_type": "stream",
     "text": [
      "\r",
      "  0%|                                                                             | 361/231164 [00:04<44:28, 86.48it/s]"
     ]
    },
    {
     "name": "stdout",
     "output_type": "stream",
     "text": [
      "['NULL', '*', '*', '*']\n",
      "['NULL', 'committees', 'OF', 'THE', 'HOUSE']\n",
      "['NULL', 'procedure', 'AND', 'HOUSE', 'AFFAIRS']\n",
      "['NULL', 'hon.', 'Don', 'Boudria', '(', 'Leader', 'of', 'the', 'Government', 'in', 'the', 'House', 'of', 'Commons', ',', 'Lib', '.', ')', ':']\n",
      "['NULL', 'Mr.', 'Speaker', ',', 'I', 'move', ':']\n",
      "['NULL', 'that', 'the', 'following', 'changes', 'be', 'made', 'to', 'the', 'membership', 'of', 'the', 'Standing', 'Committee', 'on', 'Procedure', 'and', 'House', 'Affairs', ':']\n",
      "['NULL', 'Ms.', 'Bakopanos', ',', 'Mr.', 'Bonin', ',', 'Mr.', 'Lee', ',', 'Mr.', 'McNally', ',', 'Ms.', 'Parrish', 'and', 'Mr.', 'Pickard', 'for', 'Mr.', 'Adams', ',', 'Mr.', 'Baker', ',', 'Mr.', 'Charbonneau', ',', 'Mr.', 'Fontana', ',', 'Mr.', 'Grewal', 'and', 'Mr.', 'Myers', '.']\n",
      "['NULL', '(', 'motion', 'agreed', 'to', ')']\n",
      "['NULL', 'hon.', 'Don', 'Boudria', '(', 'Leader', 'of', 'the', 'Government', 'in', 'the', 'House', 'of', 'Commons', ',', 'Lib', '.', ')', ':']\n",
      "['NULL', 'Mr.', 'Speaker', ',', 'I', 'believe', 'you', 'would', 'find', 'unanimous', 'consent', 'for', 'the', 'following', ':']\n",
      "['NULL', 'that', 'the', 'Standing', 'Committee', 'on', 'Procedure', 'and', 'House', 'Affairs', 'be', 'permitted', 'to', 'meet', 'on', 'October', '13', ',', '1999', 'for', 'the', 'purpose', 'of', 'Standing', 'Order', '106', '(', '2', ')', '.']\n"
     ]
    },
    {
     "name": "stderr",
     "output_type": "stream",
     "text": [
      "\r",
      "  0%|                                                                             | 372/231164 [00:04<44:18, 86.80it/s]"
     ]
    },
    {
     "name": "stdout",
     "output_type": "stream",
     "text": [
      "['NULL', 'the', 'Speaker', ':']\n",
      "['NULL', 'is', 'there', 'unanimous', 'consent', 'to', 'proceed', 'in', 'this', 'fashion', '?']\n",
      "['NULL', 'some', 'hon.', 'members', ':']\n",
      "['NULL', 'agreed', '.']\n",
      "['NULL', 'the', 'Speaker', ':']\n",
      "['NULL', 'is', 'it', 'the', 'pleasure', 'of', 'the', 'House', 'to', 'adopt', 'the', 'motion', '?']\n",
      "['NULL', 'some', 'hon.', 'members', ':']\n",
      "['NULL', 'agreed', '.']\n",
      "['NULL', '(', 'motion', 'agreed', 'to', ')']\n",
      "['NULL', 'hon.', 'Don', 'Boudria', '(', 'Leader', 'of', 'the', 'Government', 'in', 'the', 'House', 'of', 'Commons', ',', 'Lib', '.', ')', ':']\n",
      "['NULL', 'Mr.', 'Speaker', ',', 'I', 'move', ':']\n",
      "['NULL', 'that', 'the', 'speech', 'of', 'Her', 'Excellency', 'the', 'Governor', 'General', ',', 'together', 'with', 'the', 'address', 'of', 'welcome', 'made', 'by', 'the', 'Prime', 'Minister', 'in', 'the', 'Senate', 'Chamber', 'on', 'October', '7', ',', '1999', ',', 'be', 'printed', 'as', 'an', 'appendix', 'to', 'the', 'official', 'report', 'of', 'debates', 'of', 'the', 'House', 'of', 'Commons', 'and', 'form', 'part', 'of', 'the', 'permanent', 'record', 'of', 'this', 'Parliament', '.']\n",
      "['NULL', '(', 'motion', 'agreed', 'to', ')']\n"
     ]
    },
    {
     "name": "stderr",
     "output_type": "stream",
     "text": [
      "\r",
      "  0%|▏                                                                            | 385/231164 [00:04<43:49, 87.76it/s]"
     ]
    },
    {
     "name": "stdout",
     "output_type": "stream",
     "text": [
      "['NULL', 'speech', 'FROM', 'THE', 'THRONE']\n",
      "['NULL', 'address', 'IN', 'REPLY']\n",
      "['NULL', 'the', 'House', 'proceeded', 'to', 'the', 'consideration', 'of', 'the', 'speech', 'delivered', 'by', 'Her', 'Excellency', 'the', 'Governor', 'General', 'at', 'the', 'opening', 'of', 'the', 'session', '.']\n",
      "['NULL', 'Mr.', 'Rick', 'Limoges', '(', 'Windsor', '-', 'St.']\n",
      "['NULL', 'Mr.', 'Speaker', ',', 'it', 'is', 'with', 'a', 'profound', 'sense', 'honour', 'and', 'humility', 'that', 'I', 'move', 'the', 'motion', ',', 'seconded', 'by', 'the', 'hon.', 'member', 'for', 'Laval', 'West', ',', 'on', 'the', 'address', 'in', 'reply', 'to', 'the', 'Speech', 'from', 'the', 'Throne', '.']\n",
      "['NULL', 'i', 'would', 'like', 'to', 'pay', 'my', 'respects', 'to', 'Her', 'Excellency', 'the', 'Governor', 'General', 'and', 'thank', 'her', 'for', 'delivering', 'the', 'speech', 'to', 'both', 'Houses', '.']\n",
      "['NULL', 'i', 'offer', 'the', 'governor', 'general', 'my', 'sincere', 'congratulations', 'on', 'her', 'historic', 'appointment', 'and', 'wish', 'her', 'much', 'success', 'in', 'the', 'years', 'ahead', '.']\n",
      "['NULL', 'i', 'would', 'also', 'like', 'to', 'thank', 'the', 'Right', 'Hon.', 'Prime', 'Minister', 'and', 'the', 'government', 'for', 'the', 'honour', 'conferred', 'on', 'me', ',', 'the', 'recently', 'elected', 'member', 'of', 'parliament', 'for', 'the', 'riding', 'of', 'Windsor', '-', 'St.']\n",
      "['NULL', 'as', 'hon.', 'members', 'know', ',', 'earlier', 'this', 'year', 'I', 'succeeded', 'my', 'friend', 'and', 'hon.', 'members', \"'\", 'former', 'colleague', ',', 'the', 'late', 'Shaughnessy', 'Cohen', '.']\n",
      "['NULL', 'Shaughnessy', 'had', 'a', 'heart', 'of', 'gold', 'and', 'an', 'infectious', 'personality', '.']\n",
      "['NULL', 'she', 'served', 'her', 'constituents', 'well', 'and', 'I', 'intend', 'to', 'be', 'just', 'as', 'enthusiastic', 'as', 'she', 'was', 'in', 'representing', 'the', 'interests', 'of', 'my', 'constituents', '.']\n"
     ]
    },
    {
     "name": "stderr",
     "output_type": "stream",
     "text": [
      "\r",
      "  0%|▏                                                                            | 396/231164 [00:04<43:53, 87.63it/s]"
     ]
    },
    {
     "name": "stdout",
     "output_type": "stream",
     "text": [
      "['NULL', 'the', 'riding', 'of', 'Windsor', '-', 'St.']\n",
      "['NULL', 'they', 'are', 'hard', 'working', 'people', 'who', 'play', 'by', 'the', 'rules', ',', 'raise', 'their', 'families', 'and', 'care', 'deeply', 'about', 'their', 'community', 'and', 'their', 'country', '.']\n",
      "['NULL', 'proof', 'of', 'this', 'can', 'be', 'seen', 'in', 'the', 'fact', 'that', 'for', 'the', 'last', '30', 'years', 'the', 'Windsor', '-', 'Essex', 'county', 'area', 'has', 'led', 'the', 'country', 'in', 'per', 'capita', 'donations', 'to', 'the', 'United', 'Way', '.']\n",
      "['NULL', 'the', 'tremendous', 'sense', 'of', 'pride', 'and', 'community', 'I', 'see', 'every', 'day', 'in', 'Windsor', 'and', 'Tecumseh', 'is', 'what', 'makes', 'serving', 'as', 'their', 'member', 'of', 'parliament', 'so', 'meaningful', 'to', 'me', '.']\n",
      "['NULL', 'along', 'with', 'numerous', 'other', 'localities', 'in', 'Canada', ',', 'Windsor', '-', 'St.']\n",
      "['NULL', 'Clair', 'has', 'an', 'active', 'and', 'vibrant', 'francophone', 'community', 'to', 'which', 'I', 'am', 'proud', 'to', 'belong', '.']\n",
      "['NULL', 'my', 'parents', ',', 'and', 'their', 'parents', 'before', 'them', ',', 'were', 'aware', 'of', 'the', 'importance', 'of', 'preserving', 'their', 'language', 'and', 'culture', 'and', 'equally', 'aware', 'of', 'the', 'challenge', 'involved', '.']\n",
      "['NULL', 'i', 'face', 'that', 'same', 'challenge', 'every', 'day', ',', 'as', 'do', 'my', 'children', '.']\n",
      "['NULL', 'our', 'government', 'has', 'done', 'much', 'to', 'enshrine', 'the', 'rights', 'of', 'francophone', 'Canadians', 'from', 'sea', 'to', 'sea', '.']\n",
      "['NULL', 'Windsor', 'is', 'proud', 'of', 'its', 'heritage', 'as', 'Canada', \"'\", 's', 'car', 'capital', '.']\n"
     ]
    },
    {
     "name": "stderr",
     "output_type": "stream",
     "text": [
      "\r",
      "  0%|▏                                                                            | 406/231164 [00:04<44:03, 87.31it/s]"
     ]
    },
    {
     "name": "stdout",
     "output_type": "stream",
     "text": [
      "['NULL', 'Windsor', 'is', 'equally', 'proud', 'to', 'be', 'the', 'home', 'of', 'Hiram', 'Walker', ',', 'producers', 'of', 'the', 'famous', 'Canadian', 'Club', 'whisky', '.']\n",
      "['NULL', 'Windsor', \"'\", 's', 'long', '-', 'established', 'industries', 'are', 'doing', 'very', 'well', 'under', 'our', 'government', ',', 'but', 'the', 'city', 'has', 'progressed', 'beyond', 'its', 'traditional', 'industrial', 'base', 'of', 'assembly', 'and', 'manufacturing', 'plants', '.']\n",
      "['NULL', 'the', 'Windsor', 'casino', ',', 'with', 'its', '20,000', '-', 'plus', 'visitors', 'daily', ',', 'has', 'become', 'Canada', \"'\", 's', 'number', 'one', 'tourist', 'attraction', '.']\n",
      "['NULL', 'among', 'its', 'positive', 'economic', 'effects', 'are', 'the', 'thousands', 'of', 'well', 'paid', 'jobs', 'it', 'has', 'created', ',', 'and', 'the', 'millions', 'of', 'dollars', 'in', 'new', 'revenue', 'to', 'the', 'provincial', 'government', ',', 'in', 'large', 'part', 'from', 'U.S.', 'visitors', '.']\n",
      "['NULL', 'Windsor', \"'\", 's', 'economy', 'is', 'changing', 'in', 'other', 'ways', 'as', 'well', '.']\n",
      "['NULL', 'for', 'example', ',', 'aided', 'by', 'our', 'government', \"'\", 's', 'investment', 'in', 'technological', 'and', 'skills', 'development', 'Windsor', 'is', 'now', 'the', 'tool', 'and', 'mould', 'capital', 'of', 'the', 'world', '.']\n",
      "['NULL', 'our', 'city', 'is', 'home', 'to', 'well', 'over', '100', 'high', 'tech', 'design', 'firms', 'using', 'state', 'of', 'the', 'art', 'computers', ',', 'machines', 'and', 'robotics', '.']\n",
      "['NULL', 'industrial', 'leaders', 'in', 'our', 'community', 'such', 'as', 'Tony', 'Toldo', ',', 'the', 'Rodzik', 'family', ',', 'Michael', 'Soltz', 'and', 'Steve', 'Reko', 'are', 'demonstrating', 'Canada', \"'\", 's', 'leadership', 'in', 'quality', 'manufacturing', ',', 'industrial', 'design', 'and', 'research', '.']\n",
      "['NULL', 'during', 'our', 'government', \"'\", 's', 'time', 'in', 'office', 'there', 'has', 'been', 'considerable', 'corporate', 'investment', 'in', 'Windsor', '.']\n",
      "['NULL', 'the', 'big', 'three', 'automakers', ',', 'General', 'Motors', ',', 'Ford', 'and', 'Daimler', '-', 'Chrysler', ',', 'have', 'all', 'made', 'significant', 'investments', 'to', 'the', 'lasting', 'benefit', 'of', 'Windsor', 'and', 'Canada', '.']\n"
     ]
    },
    {
     "name": "stderr",
     "output_type": "stream",
     "text": [
      "\r",
      "  0%|▏                                                                            | 416/231164 [00:04<44:22, 86.67it/s]"
     ]
    },
    {
     "name": "stdout",
     "output_type": "stream",
     "text": [
      "['NULL', 'the', 'centre', 'is', 'using', 'state', 'of', 'the', 'art', 'computer', 'assisted', 'design', 'and', 'telecommunications', 'technology', '.']\n",
      "['NULL', 'such', 'investments', 'are', 'a', 'clear', 'demonstration', 'of', 'confidence', 'in', 'Canada', \"'\", 's', 'economy', 'and', 'an', 'acknowledgement', 'that', 'Canadian', 'workers', 'are', 'highly', 'skilled', ',', 'well', 'educated', 'and', 'efficient', '.']\n",
      "['NULL', 'it', 'also', 'reflects', 'a', 'great', 'degree', 'of', 'confidence', 'in', 'our', 'government', 'and', 'our', 'Prime', 'Minister', '.']\n",
      "['NULL', 'of', 'course', ',', 'coming', 'from', 'Windsor', 'I', 'have', 'very', 'large', 'shoes', 'to', 'fill', '.']\n",
      "['NULL', 'Paul', 'Martin', 'Sr', '.', ',', 'Eugene', 'Whelan', 'and', 'Mark', 'MacGuigan', 'served', 'in', 'government', 'with', 'great', 'distinction', 'as', 'very', 'effective', 'representatives', 'of', 'their', 'fellow', 'citizens', '.']\n",
      "['NULL', 'my', 'colleague', ',', 'the', 'member', 'of', 'parliament', 'for', 'Windsor', 'West', ',', 'the', 'Deputy', 'Prime', 'Minister', ',', 'has', 'not', 'only', 'served', 'our', 'part', 'of', 'the', 'country', 'throughout', 'his', 'long', 'and', 'distinguished', 'career', ',', 'he', 'has', 'worked', 'on', 'behalf', 'of', 'all', 'Canadians', '.']\n",
      "['NULL', 'they', 'instilled', 'in', 'their', 'children', 'the', 'importance', 'of', 'making', 'a', 'meaningful', 'contribution', 'to', 'our', 'community', 'and', 'the', 'world', 'around', 'us', '.']\n",
      "['NULL', 'that', 'is', 'why', 'I', 'spent', '14', 'years', 'on', 'city', 'council', 'in', 'Windsor', 'prior', 'to', 'joining', 'members', 'here', '.']\n",
      "['NULL', 'when', 'I', 'decided', 'to', 'run', 'for', 'parliament', 'it', 'was', 'because', 'I', 'wanted', 'to', 'help', 'Canadians', 'realize', 'their', 'dreams', '.']\n"
     ]
    },
    {
     "name": "stderr",
     "output_type": "stream",
     "text": [
      "\r",
      "  0%|▏                                                                            | 425/231164 [00:04<44:33, 86.31it/s]"
     ]
    },
    {
     "name": "stdout",
     "output_type": "stream",
     "text": [
      "['NULL', 'i', 'wanted', 'to', 'help', 'build', 'on', 'the', 'accomplishments', 'of', 'this', 'government', '.']\n",
      "['NULL', 'in', 'my', 'previous', 'career', 'in', 'the', 'banking', 'industry', 'I', 'had', 'many', 'opportunities', 'to', 'help', 'people', 'realize', 'their', 'dreams', '.']\n",
      "['NULL', 'i', 'worked', 'with', 'men', 'and', 'women', 'who', 'were', 'applying', 'for', 'student', 'loans', ',', 'loans', 'for', 'their', 'first', 'cars', ',', 'mortgages', 'for', 'their', 'first', 'homes', 'or', 'starting', 'new', 'businesses', '.']\n",
      "['NULL', 'i', 'helped', 'people', 'invest', 'their', 'life', 'savings', 'and', 'plan', 'for', 'their', 'retirement', 'years', '.']\n",
      "['NULL', 'i', 'listened', 'to', 'their', 'dreams', 'and', 'their', 'plans', 'for', 'the', 'future', '.']\n",
      "['NULL', 'i', 'also', 'remember', 'when', 'Canadians', 'were', 'uncertain', 'about', 'the', 'future', ',', 'insecure', 'about', 'their', 'jobs', 'or', 'unable', 'to', 'find', 'one', '.']\n",
      "['NULL', 'i', 'remember', 'when', 'there', 'was', 'a', 'huge', 'budget', 'deficit', ',', 'high', 'interest', 'rates', 'and', 'a', 'ballooning', 'national', 'debt', '.']\n",
      "['NULL', 'most', 'of', 'us', 'seriously', 'doubted', 'that', 'the', 'nation', \"'\", 's', 'pension', 'plan', 'would', 'be', 'there', 'for', 'us', 'when', 'our', 'turn', 'came', 'to', 'retire', '.']\n",
      "['NULL', 'there', 'was', 'little', 'talk', 'about', 'dreams', 'and', 'the', 'future', 'and', 'more', 'about', 'just', 'making', 'it', 'to', 'the', 'end', 'of', 'the', 'week', '.']\n"
     ]
    },
    {
     "name": "stderr",
     "output_type": "stream",
     "text": [
      "\r",
      "  0%|▏                                                                            | 434/231164 [00:05<44:36, 86.20it/s]"
     ]
    },
    {
     "name": "stdout",
     "output_type": "stream",
     "text": [
      "['NULL', 'that', 'was', 'six', 'years', 'ago', '.']\n",
      "['NULL', 'the', 'leadership', 'and', 'balanced', 'approach', 'of', 'the', 'Prime', 'Minister', 'and', 'the', 'Minister', 'of', 'Finance', 'have', 'meant', 'that', 'this', 'government', 'has', 'been', 'able', 'to', 'accomplish', 'many', 'things', '.']\n",
      "['NULL', 'over', 'the', 'years', 'the', 'government', 'has', 'introduced', 'major', 'tax', 'cuts', ',', 'eliminated', 'the', 'deficit', 'and', 'begun', 'to', 'reduce', 'the', 'national', 'debt', '.']\n",
      "['NULL', 'our', 'government', 'is', 'investing', 'in', 'priorities', 'such', 'as', 'health', 'care', ',', 'education', 'and', 'technological', 'innovation', 'to', 'prepare', 'Canada', 'for', 'the', '21', 'st', 'century', '.']\n",
      "['NULL', 'today', 'the', 'unemployment', 'rate', 'in', 'Windsor', 'is', 'a', 'mere', 'half', 'of', 'what', 'it', 'was', 'in', '1993', 'and', 'the', 'local', 'economy', 'is', 'very', 'strong', '.']\n",
      "['NULL', 'now', 'when', 'I', 'run', 'into', 'my', 'former', 'clients', 'they', 'are', 'again', 'talking', 'about', 'their', 'dreams', '.']\n",
      "['NULL', 'they', 'have', 'renewed', 'hope', 'for', 'the', 'future', '.']\n",
      "['NULL', 'canada', 'is', 'now', 'experiencing', 'the', 'longest', 'stretch', 'of', 'economic', 'growth', 'since', 'the', '1960', 's', '.']\n",
      "['NULL', 'in', 'the', 'last', 'budget', ',', 'we', 'announced', '$', '7.7', 'billion', 'in', 'tax', 'cuts', 'over', 'a', 'three', 'year', 'period', ',', 'and', 'the', 'tax', 'cuts', 'of', '$', '16.5', 'billion', 'announced', 'in', 'our', 'last', 'two', 'budgets', 'will', 'benefit', 'all', 'taxpayers', '.']\n"
     ]
    },
    {
     "name": "stderr",
     "output_type": "stream",
     "text": [
      "\r",
      "  0%|▏                                                                            | 443/231164 [00:05<44:43, 85.98it/s]"
     ]
    },
    {
     "name": "stdout",
     "output_type": "stream",
     "text": [
      "['NULL', 'in', 'fact', ',', '600,000', 'low', 'income', 'Canadians', 'will', 'pay', 'absolutely', 'no', 'federal', 'income', 'tax', '.']\n",
      "['NULL', 'we', 'have', 'brought', 'down', 'a', 'second', 'balanced', ',', 'surplus', 'budget', '.']\n",
      "['NULL', 'we', 'have', 'proposed', 'a', 'tax', 'plan', 'of', 'four', 'consecutive', 'balanced', ',', 'surplus', 'budgets', '.']\n",
      "['NULL', 'this', 'is', 'only', 'the', 'third', 'time', 'since', 'Confederation', 'that', 'such', 'a', 'feat', 'has', 'been', 'accomplished', '.']\n",
      "['NULL', 'as', 'part', 'of', 'the', 'Canadian', 'equal', 'opportunity', 'strategy', ',', 'we', 'announced', 'an', 'additional', 'investment', 'of', 'over', '$', '500', 'million', 'for', 'the', 'purpose', 'of', 'creating', 'Canadian', 'institutes', 'for', 'health', 'research', '.']\n",
      "['NULL', 'this', 'is', 'a', 'record', 'of', 'commitment', ',', 'a', 'record', 'of', 'achievement', ',', 'a', 'record', 'in', 'which', 'our', 'government', 'can', 'take', 'pride', '.']\n",
      "['NULL', 'it', 'is', 'a', 'testament', 'to', 'the', 'vision', 'and', 'the', 'leadership', 'of', 'our', 'Prime', 'Minister', '.']\n",
      "['NULL', 'more', 'important', ',', 'this', 'is', 'a', 'record', 'that', 'has', 'improved', 'the', 'life', 'of', 'every', 'Canadian', '.']\n",
      "['NULL', 'there', 'is', 'still', 'much', 'more', 'that', 'remains', 'to', 'be', 'done', '.']\n",
      "['NULL', 'we', 'must', 'continue', 'to', 'reduce', 'the', 'tax', 'burden', 'on', 'Canadians', 'in', 'a', 'meaningful', 'and', 'responsible', 'manner', '.']\n"
     ]
    },
    {
     "name": "stderr",
     "output_type": "stream",
     "text": [
      "\r",
      "  0%|▏                                                                            | 453/231164 [00:05<44:35, 86.22it/s]"
     ]
    },
    {
     "name": "stdout",
     "output_type": "stream",
     "text": [
      "['NULL', 'we', 'must', 'continue', 'to', 'reduce', 'the', 'national', 'debt', 'and', 'we', 'must', 'continue', 'to', 'foster', 'a', 'climate', 'where', 'entrepreneurs', 'can', 'succeed', ',', 'where', 'we', 'reward', 'talent', 'and', 'hard', 'work', ',', 'and', 'where', 'Canadians', 'can', 'be', 'confident', 'in', 'their', 'economic', 'future', '.']\n",
      "['NULL', 'at', 'the', 'same', 'time', 'we', 'must', 'build', 'on', 'the', 'strengths', 'of', 'our', 'national', 'health', 'care', 'system', 'and', 'take', 'steps', 'to', 'modernize', 'it', 'so', 'that', 'it', 'is', 'ready', 'for', 'the', 'challenges', 'of', 'the', '21', 'st', 'century', '.']\n",
      "['NULL', 'we', 'must', 'provide', 'families', 'with', 'the', 'support', 'framework', 'they', 'need', 'to', 'ensure', 'that', 'Canada', \"'\", 's', 'children', ',', 'our', 'children', ',', 'get', 'the', 'best', 'possible', 'start', 'in', 'life', '.']\n",
      "['NULL', 'working', 'with', 'provinces', 'and', 'territories', ',', 'we', 'have', 'opened', 'a', 'new', 'front', 'in', 'the', 'war', 'on', 'child', 'poverty', 'with', 'the', 'creation', 'of', 'the', 'national', 'child', 'benefit', 'system', ',', 'the', 'most', 'important', 'new', 'social', 'program', 'since', 'medicare', '.']\n",
      "['NULL', 'it', 'takes', 'an', 'innovative', 'national', 'approach', 'to', 'helping', 'low', 'income', 'families', 'with', 'children', '.']\n",
      "['NULL', 'the', 'Government', 'of', 'Canada', \"'\", 's', 'contribution', 'to', 'the', 'national', 'child', 'benefit', 'system', 'is', 'the', 'Canada', 'child', 'tax', 'benefit', ',', 'CCTB', '.']\n",
      "['NULL', 'we', 'have', 'pledged', 'to', 'increase', 'the', 'CCTB', 'by', '$', '2', 'billion', 'by', 'Canada', 'Day', '2000', '.']\n",
      "['NULL', 'this', 'means', 'a', 'family', 'earning', '$', '20,000', 'with', 'two', 'children', 'will', 'get', 'over', '$', '3,700', 'through', 'the', 'CCTB', '.']\n",
      "['NULL', 'we', 'must', 'invest', 'in', 'higher', 'learning', 'and', 'scientific', 'research', 'to', 'secure', 'our', 'place', 'in', 'a', 'knowledge', 'based', 'economy', '.']\n"
     ]
    },
    {
     "name": "stderr",
     "output_type": "stream",
     "text": [
      "\r",
      "  0%|▏                                                                            | 462/231164 [00:05<45:01, 85.40it/s]"
     ]
    },
    {
     "name": "stdout",
     "output_type": "stream",
     "text": [
      "['NULL', 'this', 'year', 'Canada', 'became', 'the', 'first', 'country', 'in', 'the', 'world', 'to', 'connect', 'every', 'public', 'school', 'and', 'every', 'public', 'library', 'to', 'the', 'Internet', '.']\n",
      "['NULL', 'these', 'are', 'an', 'enormous', 'hit', 'with', 'parents', 'saving', 'for', 'their', 'children', \"'\", 's', 'future', 'education', '.']\n",
      "['NULL', 'over', '300,000', 'new', 'RESP', 'accounts', 'have', 'been', 'opened', 'since', 'the', 'new', 'grant', 'was', 'announced', 'last', 'year', '.']\n",
      "['NULL', 'since', 'we', 'must', 'act', 'in', 'all', 'these', 'areas', ',', 'I', 'am', 'pleased', 'to', 'see', 'that', 'the', 'Speech', 'from', 'the', 'Throne', 'proposes', 'a', 'proactive', 'agenda', '.']\n",
      "['NULL', 'the', 'last', 'throne', 'speech', 'of', 'the', '20', 'th', 'century', 'is', 'truly', 'an', 'action', 'plan', 'that', 'sets', 'the', 'foundations', 'for', 'a', 'promising', 'future', '.']\n",
      "['NULL', 'as', 'a', 'federal', 'member', 'of', 'parliament', ',', 'one', 'of', 'my', 'priorities', 'is', 'to', 'try', 'to', 'improve', 'our', 'national', 'roadway', 'system', ',', 'because', 'it', 'is', 'critical', 'to', 'the', 'quality', 'of', 'life', 'of', 'all', 'Canadians', '.']\n",
      "['NULL', 'our', 'roads', 'are', 'used', 'to', 'transport', 'the', 'products', 'we', 'sell', 'and', 'the', 'food', 'we', 'eat', 'to', 'Canadian', 'cities', 'and', 'towns', '.']\n",
      "['NULL', 'the', 'roadway', 'system', 'is', 'the', 'backbone', 'of', 'our', 'tourist', 'industry', 'and', 'the', 'lifeline', 'of', 'our', 'foreign', 'trade', '.']\n"
     ]
    },
    {
     "name": "stderr",
     "output_type": "stream",
     "text": [
      "\r",
      "  0%|▏                                                                            | 470/231164 [00:05<45:09, 85.15it/s]"
     ]
    },
    {
     "name": "stdout",
     "output_type": "stream",
     "text": [
      "['NULL', 'Clair', 'we', 'are', 'the', 'victims', 'of', 'cross', 'border', 'pollution', 'in', 'addition', 'to', 'what', 'we', 'ourselves', 'add', 'to', 'the', 'mix', '.']\n",
      "['NULL', 'in', 'recent', 'years', 'Canadians', 'have', 'become', 'increasingly', 'aware', 'of', 'all', 'types', 'of', 'pollution', '.']\n",
      "['NULL', 'while', 'many', 'industries', 'are', 'working', 'to', 'clean', 'up', 'their', 'act', ',', 'like', 'the', 'Ford', 'Motor', 'Company', 'attaining', 'ISO', '14001', 'certification', 'in', 'our', 'local', 'plants', ',', 'citizens', 'are', 'worried', 'that', 'individuals', 'in', 'the', 'various', 'levels', 'of', 'government', 'are', 'neglecting', 'their', 'environmental', 'responsibilities', '.']\n",
      "['NULL', 'getting', 'to', 'know', 'our', 'new', 'Minister', 'of', 'the', 'Environment', 'has', 'given', 'me', 'a', 'renewed', 'sense', 'of', 'confidence', 'in', 'our', 'ability', 'to', 'make', 'real', 'progress', '.']\n",
      "['NULL', 'that', 'message', 'is', 'also', 'reinforced', 'in', 'a', 'vision', 'expressed', 'in', 'the', 'Speech', 'from', 'the', 'Throne', '.']\n",
      "['NULL', 'one', 'of', 'the', 'best', 'ways', 'to', 'succeed', 'is', 'to', 'support', 'the', 'development', 'of', 'clean', 'technologies', '.']\n",
      "['NULL', 'for', 'example', ',', 'this', 'spring', 'Daimler', '-', 'Chrysler', 'revealed', 'the', 'first', 'zero', 'emission', 'fuel', 'cell', 'car', 'in', 'North', 'America', '.']\n",
      "['NULL', 'the', 'Ballard', 'fuel', 'cell', 'is', 'Canadian', 'technology', 'that', 'is', 'also', 'being', 'successfully', 'tested', 'in', 'mass', 'transit', '.']\n"
     ]
    },
    {
     "name": "stderr",
     "output_type": "stream",
     "text": [
      "\r",
      "  0%|▏                                                                            | 478/231164 [00:05<45:17, 84.88it/s]"
     ]
    },
    {
     "name": "stdout",
     "output_type": "stream",
     "text": [
      "['NULL', 'such', 'a', 'development', 'could', 'dramatically', 'reduce', 'greenhouse', 'gas', 'emissions', '.']\n",
      "['NULL', 'in', 'closing', 'I', 'leave', 'the', 'House', 'with', 'this', 'thought', '.']\n",
      "['NULL', 'in', 'the', 'last', 'election', 'Canadians', 'chose', 'our', 'government', 'to', 'lead', 'the', 'nation', 'into', 'the', '21', 'st', 'century', '.']\n",
      "['NULL', 'canada', 'has', 'been', 'recognized', 'for', 'six', 'straight', 'years', 'by', 'the', 'UN', 'as', 'the', 'best', 'country', 'in', 'the', 'world', 'in', 'which', 'to', 'live', '.']\n",
      "['NULL', 'with', 'our', 'government', \"'\", 's', 'inspiring', 'vision', 'for', 'the', 'future', 'unveiled', 'earlier', 'today', 'we', 'have', 'indicated', 'that', 'we', 'are', 'ready', 'for', 'the', 'new', 'millennium', '.']\n",
      "['NULL', 'together', 'we', 'can', 'build', 'a', 'society', 'that', 'strikes', 'the', 'right', 'balance', 'between', 'economic', 'investment', 'and', 'respect', 'for', 'the', 'environment', ',', 'the', 'right', 'balance', 'between', 'support', 'for', 'innovation', 'and', 'support', 'for', 'our', 'cultural', 'diversity', '.']\n",
      "['NULL', 'with', 'a', 'balanced', 'approach', 'we', 'can', 'build', 'a', 'society', 'where', 'every', 'Canadian', 'has', 'a', 'place', 'and', 'where', 'we', 'all', 'share', 'the', 'rewards', '.']\n",
      "['NULL', 'together', 'we', 'can', 'ensure', 'that', 'Canada', 'remains', 'the', 'best', 'country', 'in', 'the', 'world', 'in', 'which', 'to', 'invest', ',', 'to', 'learn', ',', 'to', 'work', 'and', 'to', 'live', 'in', 'the', '21', 'st', 'century', '.']\n",
      "['NULL', 'in', 'doing', 'so', 'we', 'will', 'strengthen', 'Canadians', \"'\", 'sense', 'of', 'pride', 'and', 'belonging', 'to', 'this', 'vast', ',', 'diverse', 'and', 'beautiful', 'nation', ',', 'a', 'nation', 'woven', 'from', 'caring', 'communities', 'like', 'my', 'own', '.']\n"
     ]
    },
    {
     "name": "stderr",
     "output_type": "stream",
     "text": [
      "\r",
      "  0%|▏                                                                            | 487/231164 [00:05<45:24, 84.66it/s]"
     ]
    },
    {
     "name": "stdout",
     "output_type": "stream",
     "text": [
      "['NULL', 'i', 'hereby', 'move', ',', 'seconded', 'by', 'the', 'hon.', 'member', 'for', 'Laval', 'West', ',', 'that', 'the', 'following', 'address', 'be', 'presented', 'to', 'Her', 'Excellency', 'the', 'Governor', 'General', 'of', 'Canada', ':']\n",
      "['NULL', 'to', 'Her', 'Excellency', 'the', 'Right', 'Honourable', 'Adrienne', 'Clarkson', ',', 'a', 'member', 'of', 'the', 'Queen', \"'\", 's', 'Privy', 'Council', 'for', 'Canada', ',', 'Chancellor', 'and', 'Principal', 'Companion', 'of', 'the', 'Order', 'of', 'Canada', ',', 'Chancellor', 'and', 'Commander', 'of', 'the', 'Order', 'of', 'Military', 'Merit', ',', 'Governor', 'General', 'and', 'Commander', '-', 'in', '-', 'Chief', 'of', 'Canada', '.']\n",
      "['NULL', 'may', 'it', 'please', 'Your', 'Excellency', ':']\n",
      "['NULL', 'we', ',', 'Her', 'Majesty', \"'\", 's', 'most', 'loyal', 'and', 'dutiful', 'subjects', ',', 'the', 'House', 'of', 'Commons', 'of', 'Canada', ',', 'in', 'parliament', 'assembled', ',', 'beg', 'leave', 'to', 'offer', 'our', 'humble', 'thanks', 'for', 'the', 'gracious', 'Speech', 'which', 'Your', 'Excellency', 'has', 'addressed', 'to', 'both', 'houses', 'of', 'parliament', '.']\n",
      "['NULL', 'Ms.', 'Raymonde', 'Folco', '(', 'Laval', 'West', ',', 'Lib', '.', ')', ':']\n",
      "['NULL', 'Mr.', 'Speaker', ',', 'it', 'is', 'a', 'great', 'honour', 'for', 'me', 'to', 'second', 'the', 'motion', 'for', 'the', 'address', 'in', 'reply', 'to', 'the', 'Speech', 'from', 'the', 'Throne', '.']\n",
      "['NULL', 'as', 'their', 'elected', 'representative', 'I', 'will', 'continue', 'to', 'work', 'with', 'my', 'colleagues', 'as', 'well', 'as', 'with', 'the', 'private', 'sector', 'and', 'NGOs', 'to', 'meet', 'the', 'challenges', 'of', 'the', 'new', 'millenium', ',', 'which', 'were', 'outlined', 'in', 'the', 'Speech', 'from', 'the', 'Throne', '.']\n",
      "['NULL', 'the', 'riding', 'of', 'Laval', 'West', 'Quebec', ',', 'is', 'very', 'representative', 'of', 'the', 'population', 'of', 'both', 'Quebec', 'and', 'Canada', '.']\n"
     ]
    },
    {
     "name": "stderr",
     "output_type": "stream",
     "text": [
      "\r",
      "  0%|▏                                                                            | 495/231164 [00:05<45:49, 83.88it/s]"
     ]
    },
    {
     "name": "stdout",
     "output_type": "stream",
     "text": [
      "['NULL', 'it', 'is', 'home', 'to', 'Canadians', 'of', 'various', 'origins', ',', 'mostly', 'francophone', ',', 'but', 'there', 'are', 'also', 'many', 'anglophones', 'and', 'Canadians', 'of', 'Greek', ',', 'Portuguese', ',', 'Armenian', ',', 'Lebanese', ',', 'Egyptian', ',', 'West', 'Indian', ',', 'Jewish', 'and', 'other', 'origins', '.']\n",
      "['NULL', 'the', 'riding', 'has', 'a', 'major', 'rural', 'component', ',', 'depending', 'mainly', 'on', 'horticulture', ',', 'and', 'a', 'very', 'urban', 'component', ',', 'namely', 'the', 'great', 'city', 'of', 'Laval', '.']\n",
      "['NULL', 'there', 'are', 'low', ',', 'middle', 'and', 'high', 'income', 'families', '.']\n",
      "['NULL', 'it', 'is', 'a', 'community', 'that', 'works', 'hard', 'together', 'and', ',', 'like', 'Canada', 'as', 'a', 'whole', ',', 'finds', 'a', 'way', 'to', 'affirm', 'its', 'diversity', 'in', 'unity', '.']\n",
      "['NULL', 'Laval', 'is', 'the', 'second', 'largest', 'city', 'in', 'Quebec', '.']\n",
      "['NULL', 'since', 'its', 'inception', 'its', 'activities', 'have', 'shifted', 'toward', 'the', 'secondary', 'sector', ',', 'without', 'eliminating', 'all', 'of', 'its', 'primary', 'sector', '.']\n",
      "['NULL', 'in', 'the', 'past', '15', 'years', 'Laval', \"'\", 's', 'focus', 'has', 'been', 'on', 'high', 'tech', 'and', 'the', 'industrial', ',', 'commercial', 'and', 'financial', 'sectors', '.']\n",
      "['NULL', 'the', 'priorities', 'set', 'by', 'our', 'government', 'in', 'the', 'throne', 'speech', 'are', 'completely', 'in', 'line', 'with', 'the', 'expectations', 'and', 'priorities', 'of', 'the', 'families', 'in', 'Laval', ':', 'a', 'prosperous', 'and', 'healthy', 'society', '.']\n"
     ]
    },
    {
     "name": "stderr",
     "output_type": "stream",
     "text": [
      "\r",
      "  0%|▏                                                                            | 503/231164 [00:06<45:58, 83.61it/s]"
     ]
    },
    {
     "name": "stdout",
     "output_type": "stream",
     "text": [
      "['NULL', 'children', 'are', 'the', 'foundation', 'of', 'the', 'society', 'of', 'tomorrow', '.']\n",
      "['NULL', 'the', 'more', 'attention', 'we', 'focus', 'on', 'the', 'children', 'of', 'today', 'in', 'their', 'early', 'years', ',', 'the', 'better', 'their', 'future', 'and', 'our', 'future', 'will', 'be', '.']\n",
      "['NULL', 'dozens', 'of', 'community', 'and', 'not', 'for', 'profit', 'organizations', 'are', 'already', 'involved', 'every', 'day', 'in', 'helping', 'low', 'and', 'middle', 'income', 'families', '.']\n",
      "['NULL', 'our', 'government', 'intends', 'to', 'adopt', 'a', 'positive', 'and', 'responsible', 'attitude', 'to', 'bring', 'hope', 'to', 'the', 'families', 'of', 'Laval', ',', 'the', 'families', 'of', 'Canada', '.']\n",
      "['NULL', 'while', 'I', 'was', 'listening', 'to', 'Her', 'Excellency', 'reading', 'the', 'Speech', 'from', 'the', 'Throne', ',', 'something', 'kept', 'crossing', 'my', 'mind', '.']\n",
      "['NULL', 'i', 'believe', 'that', 'every', 'member', 'of', 'this', 'House', ',', 'above', 'and', 'beyond', 'any', 'differences', 'of', 'opinion', ',', 'was', 'thinking', 'exactly', 'the', 'same', 'thing', ':', 'the', 'progress', 'this', 'country', 'has', 'made', 'in', 'the', 'past', 'six', 'years', ',', 'the', 'work', 'that', 'has', 'been', 'accomplished', 'by', 'all', 'Canadians', ',', 'is', 'truly', 'remarkable', '.']\n",
      "['NULL', 'in', 'a', 'nutshell', ',', 'Canada', 'was', 'on', 'the', 'verge', 'of', 'bankruptcy', ',', 'and', 'something', 'drastic', 'definitely', 'needed', 'to', 'be', 'done', '.']\n"
     ]
    },
    {
     "name": "stderr",
     "output_type": "stream",
     "text": [
      "\r",
      "  0%|▏                                                                            | 510/231164 [00:06<46:16, 83.08it/s]"
     ]
    },
    {
     "name": "stdout",
     "output_type": "stream",
     "text": [
      "['NULL', 'this', 'government', 'was', 'therefore', 'elected', 'with', 'the', 'mandate', 'of', 'remedying', 'the', 'situation', '.']\n",
      "['NULL', 'Canadians', 'realized', 'this', 'was', 'going', 'to', 'mean', 'some', 'difficult', 'years', 'and', 'numerous', 'sacrifices', ',', 'but', 'they', 'also', 'realized', 'they', 'could', 'count', 'on', 'us', 'to', 'listen', 'to', 'them', ',', 'to', 'work', 'along', 'with', 'them', ',', 'to', 'make', 'the', 'necessary', 'choices', ',', 'keeping', 'in', 'mind', 'their', 'values', 'and', 'their', 'priorities', '.']\n",
      "['NULL', 'we', 'had', 'the', 'confidence', 'of', 'Canadians', 'and', 'we', 'knew', 'that', 'we', 'could', 'have', 'confidence', 'in', 'them', 'as', 'well', '.']\n",
      "['NULL', 'let', 'us', 'look', 'at', 'what', 'we', 'have', 'become', 'today', ':', 'a', 'country', 'of', 'over', '30', 'million', 'people', ',', 'with', 'unemployment', 'at', 'its', 'lowest', 'level', 'in', 'ten', 'years', '.']\n",
      "['NULL', 'the', 'era', 'of', 'budget', 'deficits', 'is', 'behind', 'us', '.']\n",
      "['NULL', 'with', 'inflation', 'and', 'interest', 'rates', 'under', 'control', ',', 'many', 'Canadians', 'are', 'now', 'able', 'to', 'buy', 'a', 'house', 'and', 'start', 'a', 'family', 'without', 'having', 'to', 'worry', 'about', 'going', 'deep', 'into', 'debt', '.']\n",
      "['NULL', 'Canadians', 'are', 'also', 'seeing', 'their', 'tax', 'bill', 'drop', '.']\n"
     ]
    },
    {
     "name": "stderr",
     "output_type": "stream",
     "text": [
      "\r",
      "  0%|▏                                                                            | 517/231164 [00:06<46:26, 82.77it/s]"
     ]
    },
    {
     "name": "stdout",
     "output_type": "stream",
     "text": [
      "['NULL', 'the', 'news', 'in', 'the', 'throne', 'speech', 'is', 'that', 'their', 'net', 'income', 'will', 'rise', 'in', 'the', 'years', 'ahead', '.']\n",
      "['NULL', 'aware', 'that', 'running', 'a', 'country', 'is', 'more', 'than', 'an', 'exercise', 'in', 'accounting', ',', 'our', 'government', 'has', 'done', 'all', 'this', '.']\n",
      "['NULL', 'balancing', 'a', 'budget', 'is', 'not', 'an', 'end', 'in', 'itself', 'and', 'neither', 'is', 'lowering', 'taxes', '.']\n",
      "['NULL', 'rather', ',', 'these', 'are', 'ways', 'of', 'bringing', 'about', 'a', 'vision', ',', 'our', 'vision', ',', 'the', 'vision', 'of', 'all', 'Canadians', 'for', 'a', 'strong', ',', 'united', ',', 'and', 'prosperous', 'Canada', 'with', 'a', 'quality', 'of', 'life', 'unequalled', 'anywhere', 'else', 'in', 'the', 'world', ',', 'a', 'Canada', 'whose', 'successes', 'know', 'no', 'limitations', '.']\n"
     ]
    },
    {
     "name": "stderr",
     "output_type": "stream",
     "text": [
      "\n"
     ]
    },
    {
     "ename": "KeyboardInterrupt",
     "evalue": "",
     "output_type": "error",
     "traceback": [
      "\u001b[0;31m---------------------------------------------------------------------------\u001b[0m",
      "\u001b[0;31mKeyboardInterrupt\u001b[0m                         Traceback (most recent call last)",
      "\u001b[0;32m<ipython-input-24-037a3beda923>\u001b[0m in \u001b[0;36m<module>\u001b[0;34m()\u001b[0m\n\u001b[1;32m     36\u001b[0m \u001b[1;33m\u001b[0m\u001b[0m\n\u001b[1;32m     37\u001b[0m \u001b[1;31m# ibm2_transdict, ibm2_jumpdict = EM_IBM2(english_sentences, french_sentences, translate_dict, 2)\u001b[0m\u001b[1;33m\u001b[0m\u001b[1;33m\u001b[0m\u001b[0m\n\u001b[0;32m---> 38\u001b[0;31m \u001b[0mibm2_transdict\u001b[0m\u001b[1;33m,\u001b[0m \u001b[0mibm2_jumpdict\u001b[0m \u001b[1;33m=\u001b[0m \u001b[0mEM_IBM2\u001b[0m\u001b[1;33m(\u001b[0m\u001b[0mtraining_data\u001b[0m\u001b[1;33m,\u001b[0m \u001b[0mtranslate_dict\u001b[0m\u001b[1;33m,\u001b[0m \u001b[1;36m2\u001b[0m\u001b[1;33m)\u001b[0m\u001b[1;33m\u001b[0m\u001b[0m\n\u001b[0m",
      "\u001b[0;32m<ipython-input-24-037a3beda923>\u001b[0m in \u001b[0;36mEM_IBM2\u001b[0;34m(data, initial_translation_estimate, max_steps)\u001b[0m\n\u001b[1;32m     18\u001b[0m                     \u001b[0msum_of_probs\u001b[0m \u001b[1;33m+=\u001b[0m \u001b[0mjump_prob\u001b[0m \u001b[1;33m*\u001b[0m \u001b[0mtranslate_prob\u001b[0m\u001b[1;33m\u001b[0m\u001b[0m\n\u001b[1;32m     19\u001b[0m                 \u001b[1;32mfor\u001b[0m \u001b[0mj\u001b[0m\u001b[1;33m,\u001b[0m \u001b[0me\u001b[0m \u001b[1;32min\u001b[0m \u001b[0menumerate\u001b[0m\u001b[1;33m(\u001b[0m\u001b[0me_s\u001b[0m\u001b[1;33m)\u001b[0m\u001b[1;33m:\u001b[0m\u001b[1;33m\u001b[0m\u001b[0m\n\u001b[0;32m---> 20\u001b[0;31m                     \u001b[0mjump_prob\u001b[0m \u001b[1;33m=\u001b[0m \u001b[0mjump_dict\u001b[0m\u001b[1;33m.\u001b[0m\u001b[0mget\u001b[0m\u001b[1;33m(\u001b[0m\u001b[0mget_jump\u001b[0m\u001b[1;33m(\u001b[0m\u001b[0mj\u001b[0m\u001b[1;33m,\u001b[0m\u001b[0mi\u001b[0m\u001b[1;33m,\u001b[0m\u001b[0ml\u001b[0m\u001b[1;33m,\u001b[0m\u001b[0mm\u001b[0m\u001b[1;33m)\u001b[0m\u001b[1;33m,\u001b[0m \u001b[1;36m0.1\u001b[0m\u001b[1;33m)\u001b[0m\u001b[1;33m\u001b[0m\u001b[0m\n\u001b[0m\u001b[1;32m     21\u001b[0m                     \u001b[0mtranslate_prob\u001b[0m \u001b[1;33m=\u001b[0m \u001b[0mtranslate_dict\u001b[0m\u001b[1;33m.\u001b[0m\u001b[0mget\u001b[0m\u001b[1;33m(\u001b[0m\u001b[1;33m(\u001b[0m\u001b[0me\u001b[0m\u001b[1;33m,\u001b[0m\u001b[0mf\u001b[0m\u001b[1;33m)\u001b[0m\u001b[1;33m,\u001b[0m \u001b[1;36m0.1\u001b[0m\u001b[1;33m)\u001b[0m\u001b[1;33m\u001b[0m\u001b[0m\n\u001b[1;32m     22\u001b[0m                     \u001b[0mprob\u001b[0m \u001b[1;33m=\u001b[0m \u001b[0mjump_prob\u001b[0m \u001b[1;33m*\u001b[0m \u001b[0mtranslate_prob\u001b[0m \u001b[1;33m/\u001b[0m \u001b[0msum_of_probs\u001b[0m\u001b[1;33m\u001b[0m\u001b[0m\n",
      "\u001b[0;31mKeyboardInterrupt\u001b[0m: "
     ]
    }
   ],
   "source": [
    "def EM_IBM2(data, initial_translation_estimate, max_steps=3):\n",
    "    translate_dict = initial_translation_estimate\n",
    "    jump_dict = {}\n",
    "    for _ in range(max_steps):\n",
    "        counts = defaultdict(int)\n",
    "        co_counts = defaultdict(int)\n",
    "        jump_counts = defaultdict(int)\n",
    "        pos_counts = 0\n",
    "        for e_s,f_s in tqdm(data):\n",
    "            m = len(f_s)\n",
    "            l = len(e_s)\n",
    "            for i, f in enumerate(f_s):\n",
    "                sum_of_probs = 0\n",
    "                for j, e in enumerate(e_s):\n",
    "                    jump_prob = jump_dict.get(get_jump(j,i,l,m), 0.1)\n",
    "                    translate_prob = translate_dict.get((e,f), 0.1)\n",
    "                    sum_of_probs += jump_prob * translate_prob\n",
    "                for j, e in enumerate(e_s):\n",
    "                    jump_prob = jump_dict.get(get_jump(j,i,l,m), 0.1)\n",
    "                    translate_prob = translate_dict.get((e,f), 0.1)\n",
    "                    prob = jump_prob * translate_prob / sum_of_probs\n",
    "                    co_counts[(e,f)] += prob\n",
    "                    counts[e] += prob\n",
    "                    jump_counts[get_jump(j,i,l,m)] += prob\n",
    "                    pos_counts += prob\n",
    "        for e,f in co_counts:\n",
    "            translate_dict[(e,f)] = co_counts[(e, f)] / counts[e]\n",
    "        for jump in jump_counts:\n",
    "            jump_dict[jump] = jump_counts[jump] / pos_counts\n",
    "    return translate_dict, jump_dict\n",
    "\n",
    "def get_jump(eng_pos, fre_pos, eng_len, fre_len):\n",
    "    equivalent_pos = round(fre_pos * eng_len / fre_len)\n",
    "    return eng_pos - equivalent_pos\n",
    "\n",
    "# ibm2_transdict, ibm2_jumpdict = EM_IBM2(english_sentences, french_sentences, translate_dict, 2)\n",
    "ibm2_transdict, ibm2_jumpdict = EM_IBM2(training_data, translate_dict, 2)"
   ]
  },
  {
   "cell_type": "code",
   "execution_count": null,
   "metadata": {
    "collapsed": true
   },
   "outputs": [],
   "source": [
    "print_translation_probs('agriculture', ibm2_transdict)\n",
    "jumps = np.array(sorted(ibm2_jumpdict.items()))\n",
    "plt.plot(jumps[65:85,0], jumps[65:85,1])\n",
    "plt.show()\n",
    "print(sum(jumps[:,1]))"
   ]
  }
 ],
 "metadata": {
  "kernelspec": {
   "display_name": "Python 3",
   "language": "python",
   "name": "python3"
  },
  "language_info": {
   "codemirror_mode": {
    "name": "ipython",
    "version": 3
   },
   "file_extension": ".py",
   "mimetype": "text/x-python",
   "name": "python",
   "nbconvert_exporter": "python",
   "pygments_lexer": "ipython3",
   "version": "3.6.0"
  }
 },
 "nbformat": 4,
 "nbformat_minor": 1
}
