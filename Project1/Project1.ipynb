{
 "cells": [
  {
   "cell_type": "code",
   "execution_count": 62,
   "metadata": {
    "collapsed": true
   },
   "outputs": [],
   "source": [
    "from __future__ import print_function, division\n",
    "from collections import defaultdict\n",
    "from tqdm import tqdm\n",
    "import pickle"
   ]
  },
  {
   "cell_type": "markdown",
   "metadata": {
    "collapsed": true
   },
   "source": [
    "## IBM Model 1: Generative Process\n",
    "Step 1: Pick an alignmet $a$ with probability  p(a|e,m) = $\\frac{1}{(l+1)^m}$\n",
    "\n",
    "Step 2: pick the French words with probability\n",
    "\n",
    "p(f|a,e,m) = $\\prod^m_{j=1} t(f_j | e_aj )$\n",
    "\n",
    "\n",
    "\n",
    "P(f,a|e, m ) = p(a|e,m) $\\times$ p(f|a,e,m)\n"
   ]
  },
  {
   "cell_type": "code",
   "execution_count": 2,
   "metadata": {
    "collapsed": true
   },
   "outputs": [],
   "source": [
    "#alignment prob per sentence\n",
    "#pseudo code\n",
    "\n",
    "def alignprobIBM1(english, french):\n",
    "    m = len(french.split())\n",
    "    l = len(english.split())\n",
    "    \n",
    "    return 1/((l +1)^m)\n",
    "\n",
    "\n",
    "#todo build a dictionary that takes all the words and the frequencies \n",
    "# or only the allignments"
   ]
  },
  {
   "cell_type": "code",
   "execution_count": 3,
   "metadata": {
    "collapsed": true
   },
   "outputs": [],
   "source": [
    "englishfileloc = 'training/hansards.36.2.e'\n",
    "frenchfileloc = 'training/hansards.36.2.f'\n",
    "\n",
    "#transition dictionary\n",
    "transdict = {}    \n",
    "\n"
   ]
  },
  {
   "cell_type": "code",
   "execution_count": 4,
   "metadata": {
    "collapsed": false,
    "scrolled": true
   },
   "outputs": [],
   "source": [
    "english_sentences = []\n",
    "french_sentences = []\n",
    "with open(englishfileloc, 'r', encoding='utf8') as engf, open(frenchfileloc, 'r', encoding='utf8') as fref:\n",
    "    for line in engf:\n",
    "        english_sentences.append(line.split())\n",
    "    for line in fref:\n",
    "        french_sentences.append(line.split())\n",
    "assert len(english_sentences) == len(french_sentences), 'data mismatch'"
   ]
  },
  {
   "cell_type": "code",
   "execution_count": 65,
   "metadata": {
    "collapsed": false,
    "scrolled": true
   },
   "outputs": [],
   "source": [
    "def EM_IBM1(english, french, max_steps=None):\n",
    "    translate_dict = {}\n",
    "    for _ in range(max_steps):\n",
    "        change = False\n",
    "        \n",
    "        counts = defaultdict(float)\n",
    "        co_counts = defaultdict(float)\n",
    "        for e_s,f_s in tqdm(zip(english, french)):\n",
    "            for i, f in enumerate(f_s):\n",
    "                sum_of_probs = sum([translate_dict.get((e, f), 0.1) for e in e_s]) # the 0.1 is our initialization\n",
    "                for j, e in enumerate(e_s):\n",
    "                    single_prob = translate_dict.get((e,f), 0.1)\n",
    "                    co_counts[(e, f)] += single_prob / sum_of_probs\n",
    "                    counts[e] += single_prob / sum_of_probs\n",
    "        for e, f in co_counts:\n",
    "            new_value = co_counts[(e, f)] / counts[e]\n",
    "            if abs(translate_dict.get((e, f), 1000) - new_value) > 1e-5:\n",
    "                change = True\n",
    "            translate_dict[(e,f)] = new_value\n",
    "        if not change:\n",
    "            break\n",
    "    return translate_dict\n",
    "\n",
    "pickle_filename = 'IBM1_translate_dict.pkl'\n",
    "#translate_dict = EM_IBM1(english_sentences, french_sentences, 8)\n",
    "#with open(pickle_filename, 'wb') as pf:\n",
    "#    pickle.dump(translate_dict, pf)\n",
    "with open(pickle_filename, 'rb') as pf:\n",
    "    translate_dict = pickle.load(pf)"
   ]
  },
  {
   "cell_type": "code",
   "execution_count": 67,
   "metadata": {
    "collapsed": false
   },
   "outputs": [
    {
     "name": "stdout",
     "output_type": "stream",
     "text": [
      "(0.34925259219009236, ('cow', 'vache'))\n",
      "(0.15228520280893626, ('cow', 'lait'))\n",
      "(0.03181719865876129, ('cow', 'voit'))\n",
      "(0.031769156735000574, ('cow', 'caisse'))\n",
      "(0.03171717095813177, ('cow', 'échapper'))\n",
      "(0.031648512210707996, ('cow', 'derniers'))\n",
      "(0.031534780407908955, ('cow', 'utilisera'))\n",
      "(0.03151190291688057, ('cow', 'auquel'))\n",
      "(0.030509762173469315, ('cow', 'comprend'))\n",
      "(0.02941092018074872, ('cow', 'tirer'))\n",
      "(0.028801406986680482, ('cow', 'car'))\n",
      "(0.027369893449130323, ('cow', 'sert'))\n",
      "(0.02689062432763089, ('cow', 'gré'))\n",
      "(0.019850337626485387, ('cow', 'désormais'))\n",
      "(0.012316665117518005, ('cow', 'son'))\n",
      "(0.012082624385560674, ('cow', 'siens'))\n",
      "(0.012059455327408129, ('cow', 'traversé'))\n",
      "(0.011972834886568704, ('cow', 'laissé'))\n",
      "(0.011806466911105618, ('cow', 'venir'))\n",
      "(0.011539517246313183, ('cow', 'seule'))\n"
     ]
    }
   ],
   "source": [
    "def print_translation_probs(english_word):\n",
    "    results = []\n",
    "    for key in translate_dict:\n",
    "        if key[0] == english_word:\n",
    "            results.append((translate_dict[key], key))\n",
    "    results.sort(reverse=True)\n",
    "    for r in results[:20]:\n",
    "        print(r)\n",
    "print_translation_probs('cow')"
   ]
  },
  {
   "cell_type": "code",
   "execution_count": null,
   "metadata": {
    "collapsed": false
   },
   "outputs": [],
   "source": [
    "def EM_IBM2(english, french, initial_translation_estimate, max_steps=None):\n",
    "    translate_dict = initial_translation_estimate\n",
    "    alignment_dict = {}\n",
    "    for _ in tqdm(range(max_steps)):\n",
    "        counts = defaultdict(int)\n",
    "        for e_s,f_s in tqdm(zip(english, french)):\n",
    "            for i, f in enumerate(f_s):\n",
    "                for j, e in enumerate(e_s):\n",
    "                    co_counts[(e,j)] +=\n",
    "                    counts[e] += \n",
    "                    align-counts[(j,i,l,m)] +=\n",
    "                    ?-counts[(i,l,m)] +="
   ]
  }
 ],
 "metadata": {
  "kernelspec": {
   "display_name": "Python [ml1labs]",
   "language": "python",
   "name": "Python [ml1labs]"
  },
  "language_info": {
   "codemirror_mode": {
    "name": "ipython",
    "version": 3
   },
   "file_extension": ".py",
   "mimetype": "text/x-python",
   "name": "python",
   "nbconvert_exporter": "python",
   "pygments_lexer": "ipython3",
   "version": "3.6.2"
  }
 },
 "nbformat": 4,
 "nbformat_minor": 0
}
