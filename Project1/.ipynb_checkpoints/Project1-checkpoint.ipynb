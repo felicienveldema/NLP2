{
 "cells": [
  {
   "cell_type": "code",
   "execution_count": 1,
   "metadata": {
    "collapsed": true
   },
   "outputs": [],
   "source": [
    "from __future__ import print_function, division"
   ]
  },
  {
   "cell_type": "markdown",
   "metadata": {
    "collapsed": true
   },
   "source": [
    "## IBM Model 1: Generative Process\n",
    "Step 1: Pick an alignmet $a$ with probability  p(a|e,m) = $\\frac{1}{(l+1)^m}$\n",
    "\n",
    "Step 2: pick the French words with probability\n",
    "\n",
    "p(f|a,e,m) = $\\prod^m_{j=1} t(f_j | e_aj )$\n",
    "\n",
    "\n",
    "\n",
    "P(f,a|e, m ) = p(a|e,m) $\\times$ p(f|a,e,m)\n"
   ]
  },
  {
   "cell_type": "code",
   "execution_count": null,
   "metadata": {
    "collapsed": true
   },
   "outputs": [],
   "source": [
    "#alignment prob per sentence\n",
    "#pseudo code\n",
    "\n",
    "def alignprobIBM1(english, french):\n",
    "    m = len(french.split())\n",
    "    l = len(english.split())\n",
    "    \n",
    "    return 1/((l +1)^m)\n",
    "\n",
    "\n",
    "#todo build a dictionary that takes all the words and the frequencies \n",
    "# or only the allignments"
   ]
  },
  {
   "cell_type": "code",
   "execution_count": null,
   "metadata": {
    "collapsed": true
   },
   "outputs": [],
   "source": [
    "engfileloc = 'training/hansards.36.2.e'\n",
    "frafileloc = 'training/hansards.36.2.f'\n",
    "\n",
    "#transition dictionary\n",
    "transdict = {}\n",
    "\n",
    "\n"
   ]
  }
 ],
 "metadata": {
  "kernelspec": {
   "display_name": "Python 3",
   "language": "python",
   "name": "python3"
  },
  "language_info": {
   "codemirror_mode": {
    "name": "ipython",
    "version": 3
   },
   "file_extension": ".py",
   "mimetype": "text/x-python",
   "name": "python",
   "nbconvert_exporter": "python",
   "pygments_lexer": "ipython3",
   "version": "3.6.0"
  }
 },
 "nbformat": 4,
 "nbformat_minor": 0
}
